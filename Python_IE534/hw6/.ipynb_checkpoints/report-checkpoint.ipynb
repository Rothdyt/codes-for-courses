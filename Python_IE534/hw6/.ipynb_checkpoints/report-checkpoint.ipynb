{
 "cells": [
  {
   "cell_type": "markdown",
   "metadata": {},
   "source": [
    "## Test accuracy\n",
    "\n",
    "I used 196 features and trained the model for 200 epochs on the dataset `CIFAR10` for the `discriminator-with-generator` case, while 100 epochs for `discriminator-without-generator` case. \n",
    "\n",
    "* without the generator: **0.872** for 100 epochs.\n",
    "* with the generator is **0.839** for 200 epochs."
   ]
  },
  {
   "cell_type": "markdown",
   "metadata": {},
   "source": [
    "# Generated images from the trained Models\n",
    "\n",
    "The generated images for epoch 1, 50, 100, 150, 200 are given below. Visually, the outputs for classes like Airplane, Car, Bird, Horse, Ship, and Truck are relatively good, while they are awful for Cat, Deer, Dog, and Frog."
   ]
  },
  {
   "cell_type": "markdown",
   "metadata": {},
   "source": [
    "* Epoch 1\n",
    "    \n",
    "    ![epoch-001](./output/000.png)\n",
    "* Epoch 50\n",
    "    \n",
    "    ![epoch-050](./output/049.png)\n",
    "* Epoch 100\n",
    "    \n",
    "    ![epoch-100](./output/098.png)\n",
    "* Epoch 150\n",
    "\n",
    "    ![epoch-150](./output/147.png)\n",
    "* Epoch 200\n",
    "    \n",
    "    ![epoch-200](./output/199.png)"
   ]
  },
  {
   "cell_type": "markdown",
   "metadata": {},
   "source": [
    "# Real vs Perturbed\n",
    "\n",
    "Real imgaes, their gradients and perturbed images are given below.\n",
    "\n",
    "* Real Images\n",
    "    \n",
    "    ![real](./visualization/real_images.png)\n",
    "* Gradients\n",
    "    \n",
    "    ![grad](./visualization/gradient_image.png)\n",
    "* Perturbed Images\n",
    "    \n",
    "    ![jittered](./visualization/jittered_images.png)\n"
   ]
  },
  {
   "cell_type": "markdown",
   "metadata": {},
   "source": [
    "## Synthetic Images Maximizing Classification Output\n",
    "\n",
    "* Synthetic images without generator\n",
    "    \n",
    "    ![](./visualization/max_class_without_generator.png)\n",
    "\n",
    "* Synthetic images with generator\n",
    "    \n",
    "    ![](./visualization/max_class_with_generator.png)"
   ]
  },
  {
   "cell_type": "markdown",
   "metadata": {},
   "source": [
    "## Synthetic images maximizing features at various layers\n",
    "\n",
    "* Synthetic images without generator\n",
    "    * Layer 2\n",
    "        ![](./visualization/max_features_without_generator_layer_2.png)\n",
    "    * Layer 4\n",
    "        ![](./visualization/max_features_without_generator_layer_4.png)\n",
    "    * Layer 8\n",
    "        ![](./visualization/max_features_without_generator_layer_8.png)\n",
    "\n",
    "* Synthetic images with generator\n",
    "    \n",
    "    * Layer 2\n",
    "        ![](./visualization/max_features_with_generator_layer_2.png)\n",
    "    * Layer 4\n",
    "        ![](./visualization/max_features_with_generator_layer_4.png)\n",
    "    * Layer 8\n",
    "        ![](./visualization/max_features_with_generator_layer_8.png)\n",
    "\n"
   ]
  },
  {
   "cell_type": "markdown",
   "metadata": {},
   "source": []
  },
  {
   "cell_type": "code",
   "execution_count": null,
   "metadata": {},
   "outputs": [],
   "source": []
  }
 ],
 "metadata": {
  "kernelspec": {
   "display_name": "Python 3",
   "language": "python",
   "name": "python3"
  },
  "language_info": {
   "codemirror_mode": {
    "name": "ipython",
    "version": 3
   },
   "file_extension": ".py",
   "mimetype": "text/x-python",
   "name": "python",
   "nbconvert_exporter": "python",
   "pygments_lexer": "ipython3",
   "version": "3.6.3"
  }
 },
 "nbformat": 4,
 "nbformat_minor": 2
}
