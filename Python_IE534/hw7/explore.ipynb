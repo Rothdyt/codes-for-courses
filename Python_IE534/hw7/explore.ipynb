{
 "cells": [
  {
   "cell_type": "code",
   "execution_count": 1,
   "metadata": {},
   "outputs": [],
   "source": [
    "import numpy as np\n",
    "import os\n",
    "import nltk\n",
    "import itertools\n",
    "import io"
   ]
  },
  {
   "cell_type": "code",
   "execution_count": 2,
   "metadata": {},
   "outputs": [],
   "source": [
    "if(not os.path.isdir('preprocessed_data')):\n",
    "    os.mkdir('preprocessed_data')"
   ]
  },
  {
   "cell_type": "code",
   "execution_count": 29,
   "metadata": {},
   "outputs": [],
   "source": [
    "#train_directory = '/projects/training/bauh/NLP/aclImdb/train/'\n",
    "train_directory = '../data/aclImdb/train/'\n",
    "pos_filenames = os.listdir(train_directory + 'pos/')\n",
    "neg_filenames = os.listdir(train_directory + 'neg/')\n",
    "unsup_filenames = os.listdir(train_directory + 'unsup/')\n",
    "\n",
    "pos_filenames = [train_directory+'pos/'+filename for filename in pos_filenames] # 12500\n",
    "neg_filenames = [train_directory+'neg/'+filename for filename in neg_filenames] # 12500\n",
    "unsup_filenames = [train_directory+'unsup/'+filename for filename in unsup_filenames] # 50000\n",
    "\n",
    "filenames = pos_filenames + neg_filenames + unsup_filenames\n",
    "count = 0\n",
    "x_train = []\n",
    "# nltk.download('punkt')\n",
    "filenames = [filenames[i] for i in np.random.choice(np.array(len(filenames)), 1000)]\n",
    "for filename in filenames:\n",
    "    with io.open(filename,'r',encoding='utf-8') as f:\n",
    "        line = f.readlines()[0]\n",
    "    line = line.replace('<br />',' ')\n",
    "    line = line.replace('\\x96',' ')\n",
    "    line = nltk.word_tokenize(line)\n",
    "    line = [w.lower() for w in line]\n",
    "    x_train.append(line)\n",
    "    count += 1"
   ]
  },
  {
   "cell_type": "code",
   "execution_count": null,
   "metadata": {},
   "outputs": [],
   "source": []
  }
 ],
 "metadata": {
  "kernelspec": {
   "display_name": "Python 3",
   "language": "python",
   "name": "python3"
  },
  "language_info": {
   "codemirror_mode": {
    "name": "ipython",
    "version": 3
   },
   "file_extension": ".py",
   "mimetype": "text/x-python",
   "name": "python",
   "nbconvert_exporter": "python",
   "pygments_lexer": "ipython3",
   "version": "3.6.3"
  }
 },
 "nbformat": 4,
 "nbformat_minor": 2
}
