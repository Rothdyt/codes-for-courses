{
 "cells": [
  {
   "cell_type": "code",
   "execution_count": 1,
   "metadata": {},
   "outputs": [],
   "source": [
    "import numpy as np\n",
    "import os\n",
    "import nltk\n",
    "import itertools\n",
    "import io"
   ]
  },
  {
   "cell_type": "code",
   "execution_count": 2,
   "metadata": {},
   "outputs": [],
   "source": [
    "if(not os.path.isdir('preprocessed_data')):\n",
    "    os.mkdir('preprocessed_data')"
   ]
  },
  {
   "cell_type": "code",
   "execution_count": 6,
   "metadata": {},
   "outputs": [
    {
     "ename": "FileNotFoundError",
     "evalue": "[Errno 2] No such file or directory: './data/acmldb/pos/'",
     "output_type": "error",
     "traceback": [
      "\u001b[0;31m---------------------------------------------------------------------------\u001b[0m",
      "\u001b[0;31mFileNotFoundError\u001b[0m                         Traceback (most recent call last)",
      "\u001b[0;32m<ipython-input-6-26e0ca9069d1>\u001b[0m in \u001b[0;36m<module>\u001b[0;34m()\u001b[0m\n\u001b[1;32m      1\u001b[0m \u001b[0;31m#train_directory = '/projects/training/bauh/NLP/aclImdb/train/'\u001b[0m\u001b[0;34m\u001b[0m\u001b[0;34m\u001b[0m\u001b[0m\n\u001b[1;32m      2\u001b[0m \u001b[0mtrain_directory\u001b[0m \u001b[0;34m=\u001b[0m \u001b[0;34m'./data/acmldb/'\u001b[0m\u001b[0;34m\u001b[0m\u001b[0m\n\u001b[0;32m----> 3\u001b[0;31m \u001b[0mpos_filenames\u001b[0m \u001b[0;34m=\u001b[0m \u001b[0mos\u001b[0m\u001b[0;34m.\u001b[0m\u001b[0mlistdir\u001b[0m\u001b[0;34m(\u001b[0m\u001b[0mtrain_directory\u001b[0m \u001b[0;34m+\u001b[0m \u001b[0;34m'pos/'\u001b[0m\u001b[0;34m)\u001b[0m\u001b[0;34m\u001b[0m\u001b[0m\n\u001b[0m\u001b[1;32m      4\u001b[0m \u001b[0mneg_filenames\u001b[0m \u001b[0;34m=\u001b[0m \u001b[0mos\u001b[0m\u001b[0;34m.\u001b[0m\u001b[0mlistdir\u001b[0m\u001b[0;34m(\u001b[0m\u001b[0mtrain_directory\u001b[0m \u001b[0;34m+\u001b[0m \u001b[0;34m'neg/'\u001b[0m\u001b[0;34m)\u001b[0m\u001b[0;34m\u001b[0m\u001b[0m\n\u001b[1;32m      5\u001b[0m \u001b[0munsup_filenames\u001b[0m \u001b[0;34m=\u001b[0m \u001b[0mos\u001b[0m\u001b[0;34m.\u001b[0m\u001b[0mlistdir\u001b[0m\u001b[0;34m(\u001b[0m\u001b[0mtrain_directory\u001b[0m \u001b[0;34m+\u001b[0m \u001b[0;34m'unsup/'\u001b[0m\u001b[0;34m)\u001b[0m\u001b[0;34m\u001b[0m\u001b[0m\n",
      "\u001b[0;31mFileNotFoundError\u001b[0m: [Errno 2] No such file or directory: './data/acmldb/pos/'"
     ]
    }
   ],
   "source": [
    "#train_directory = '/projects/training/bauh/NLP/aclImdb/train/'\n",
    "train_directory = './data/acmldb/train/''\n",
    "pos_filenames = os.listdir(train_directory + 'pos/')\n",
    "neg_filenames = os.listdir(train_directory + 'neg/')\n",
    "unsup_filenames = os.listdir(train_directory + 'unsup/')\n",
    "\n",
    "pos_filenames = [train_directory+'pos/'+filename for filename in pos_filenames]\n",
    "neg_filenames = [train_directory+'neg/'+filename for filename in neg_filenames]\n",
    "unsup_filenames = [train_directory+'unsup/'+filename for filename in unsup_filenames]\n",
    "\n",
    "filenames = pos_filenames + neg_filenames + unsup_filenames\n",
    "\n",
    "count = 0\n",
    "x_train = []\n",
    "for filename in filenames:\n",
    "    with io.open(filename,'r',encoding='utf-8') as f:\n",
    "        line = f.readlines()[0]\n",
    "    line = line.replace('<br />',' ')\n",
    "    line = line.replace('\\x96',' ')\n",
    "    line = nltk.word_tokenize(line)\n",
    "    line = [w.lower() for w in line]\n",
    "\n",
    "    x_train.append(line)\n",
    "    count += 1\n",
    "    print(count)"
   ]
  },
  {
   "cell_type": "code",
   "execution_count": null,
   "metadata": {},
   "outputs": [],
   "source": []
  }
 ],
 "metadata": {
  "kernelspec": {
   "display_name": "Python 3",
   "language": "python",
   "name": "python3"
  },
  "language_info": {
   "codemirror_mode": {
    "name": "ipython",
    "version": 3
   },
   "file_extension": ".py",
   "mimetype": "text/x-python",
   "name": "python",
   "nbconvert_exporter": "python",
   "pygments_lexer": "ipython3",
   "version": "3.6.3"
  }
 },
 "nbformat": 4,
 "nbformat_minor": 2
}
