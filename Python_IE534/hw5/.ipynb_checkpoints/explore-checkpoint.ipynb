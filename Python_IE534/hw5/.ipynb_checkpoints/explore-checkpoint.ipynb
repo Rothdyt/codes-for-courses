{
 "cells": [
  {
   "cell_type": "code",
   "execution_count": 3,
   "metadata": {},
   "outputs": [],
   "source": [
    "import utils \n",
    "import h5py\n",
    "import torchvision\n",
    "import torchvision.transforms as transforms\n",
    "import torch\n",
    "from utils import TinyImageNet\n",
    "from torch.utils.data.sampler import SubsetRandomSampler\n",
    "import time"
   ]
  },
  {
   "cell_type": "code",
   "execution_count": 4,
   "metadata": {},
   "outputs": [
    {
     "name": "stdout",
     "output_type": "stream",
     "text": [
      "Begin to sampling. It takes a while...\n",
      "Finished in 0.0007165312767028808 mins\n"
     ]
    }
   ],
   "source": [
    "train_dict, db = utils.create_database()\n",
    "img_all = [db[i] for i in db.keys()]\n",
    "img_all = [item for l in img_all for item in l]\n",
    "img_triplet = []\n",
    "label_triplet = []\n",
    "print(\"Begin to sampling. It takes a while...\")\n",
    "start = time.time()\n",
    "for url in img_all[1:10]:\n",
    "    img_tri, label_tri = utils.sample_the_triplet(url, db, train_dict)\n",
    "    img_triplet.append(img_tri)\n",
    "    label_triplet.append(label_tri)\n",
    "end = time.time()\n",
    "print(\"Finished in {} mins\".format((end-start) / 60))\n",
    "\n",
    "hf = h5py.File('data_lzf.h5', 'w')\n",
    "hf.create_dataset('img_triplet', data=img_triplet, compression=\"lzf\")\n",
    "hf.create_dataset('label_triplet', data=label_triplet, compression=\"lzf\")\n",
    "hf.close()"
   ]
  },
  {
   "cell_type": "code",
   "execution_count": 5,
   "metadata": {},
   "outputs": [],
   "source": [
    "hf = h5py.File('data_lzf.h5', 'r')\n",
    "img_triplet = hf[\"img_triplet\"][:]\n",
    "label_triplet = hf['label_triplet'][:]\n",
    "hf.close()"
   ]
  },
  {
   "cell_type": "code",
   "execution_count": 6,
   "metadata": {},
   "outputs": [],
   "source": [
    "transform_train = transforms.Compose([\n",
    "    transforms.RandomCrop(64, padding=4),\n",
    "    transforms.RandomHorizontalFlip(),\n",
    "    transforms.ToTensor(),\n",
    "])\n",
    "train = TinyImageNet(img_triplet, label_triplet, transform=transform_train)\n",
    "train_loader = torch.utils.data.DataLoader(train, batch_size=2,\n",
    "                                           shuffle=False, sampler=SubsetRandomSampler(range(6)))"
   ]
  },
  {
   "cell_type": "code",
   "execution_count": 7,
   "metadata": {},
   "outputs": [
    {
     "name": "stdout",
     "output_type": "stream",
     "text": [
      "0 tensor(64) tensor(28)\n",
      "1 tensor(76) tensor(5)\n",
      "2 tensor(136) tensor(116)\n"
     ]
    }
   ],
   "source": [
    "for idx, (t,l) in enumerate(train_loader):\n",
    "    print(idx, l[0][2], l[1][2])"
   ]
  },
  {
   "cell_type": "code",
   "execution_count": 11,
   "metadata": {},
   "outputs": [],
   "source": [
    "from PIL import Image\n",
    "import numpy as np\n",
    "img = Image.open(img_all[1])"
   ]
  },
  {
   "cell_type": "code",
   "execution_count": 12,
   "metadata": {},
   "outputs": [
    {
     "data": {
      "text/plain": [
       "3.6864"
      ]
     },
     "execution_count": 12,
     "metadata": {},
     "output_type": "execute_result"
    }
   ],
   "source": [
    "ar = np.asarray(img, dtype=\"byte\")\n",
    "ar.nbytes * 3 * 100000 / 1e9"
   ]
  },
  {
   "cell_type": "code",
   "execution_count": 32,
   "metadata": {},
   "outputs": [],
   "source": [
    "import torchvision\n",
    "import torchvision.transforms as transforms\n",
    "import torch\n",
    "from torch.utils.data.sampler import SubsetRandomSampler"
   ]
  },
  {
   "cell_type": "code",
   "execution_count": 40,
   "metadata": {},
   "outputs": [],
   "source": [
    "transform_train = transforms.Compose([\n",
    "    transforms.RandomCrop(64, padding=4),\n",
    "    transforms.RandomHorizontalFlip(),\n",
    "    transforms.ToTensor(),\n",
    "])\n",
    "train = TinyImageNet(img_triplet, label_triplet, transform=transform_train)"
   ]
  },
  {
   "cell_type": "code",
   "execution_count": 42,
   "metadata": {},
   "outputs": [],
   "source": [
    "train_loader = torch.utils.data.DataLoader(train, batch_size=2,\n",
    "                                               shuffle=False, sampler=SubsetRandomSampler(range(10)))"
   ]
  },
  {
   "cell_type": "code",
   "execution_count": 13,
   "metadata": {},
   "outputs": [
    {
     "data": {
      "text/plain": [
       "12288"
      ]
     },
     "execution_count": 13,
     "metadata": {},
     "output_type": "execute_result"
    }
   ],
   "source": [
    "ar.nbytes"
   ]
  },
  {
   "cell_type": "code",
   "execution_count": 19,
   "metadata": {},
   "outputs": [],
   "source": [
    "import os\n",
    "import numpy as np\n",
    "import copy\n",
    "from PIL import Image\n",
    "import random\n",
    "import torch.utils.data as data\n",
    "import utils\n",
    "import time\n",
    "\n",
    "def create_database():\n",
    "    \"\"\"\n",
    "    Ceate database for tiny-ImageNet.\n",
    "\n",
    "    @input:\n",
    "        NA\n",
    "\n",
    "    @output:\n",
    "        train_dict: A dictionay contains internal-encoding and its corresponding label.\n",
    "                    e.g. {'n01443537': 'goldfish, Carassius auratus'}\n",
    "        db: A dictionay contains internal-encode and all the image address.\n",
    "            e.g. {'n01443537': ['../data/tiny-imagenet-200/train/n01443537/images/n01443537_0.JPEG']}\n",
    "    \"\"\"\n",
    "    label = [name for name in os.listdir(\"../data/tiny-imagenet-200/train/\") if name != '.DS_Store']\n",
    "    with open(\"../data/tiny-imagenet-200/words.txt\") as f:\n",
    "        content = f.readlines()\n",
    "    content = [x.strip() for x in content]\n",
    "    full_dict = {}\n",
    "    for item in content:\n",
    "        temp = item.split(\"\\t\")\n",
    "        full_dict[temp[0]] = temp[1]\n",
    "    train_dict = {}\n",
    "    for idx, name in enumerate(label):\n",
    "        train_dict[name] = [idx, full_dict[name]]\n",
    "    db = {}\n",
    "    for key in train_dict.keys():\n",
    "        all_imgs = os.listdir(\"../data/tiny-imagenet-200/train/{}/images\".format(key))\n",
    "        db[key] = [\"../data/tiny-imagenet-200/train/{}/images/{}\".format(key, i) for i in all_imgs]\n",
    "    return train_dict, db\n",
    "\n",
    "\n",
    "def sample_the_triplet(query_img, database, train_dict):\n",
    "    \"\"\"\n",
    "    Given the query to generate a triplet.\n",
    "\n",
    "    @input:\n",
    "        query_img: a `key` in the `category_dict`\n",
    "        database: a dictionay contains all images' paths\n",
    "\n",
    "    @output:\n",
    "        A list of the form [query, postive_sample, negative_sample].\n",
    "        Each of these three is a numpy array.\n",
    "\n",
    "    @input example:\n",
    "        query:'../data/tiny-imagenet-200/train/n01443537/images/n01443537_0.JPEG'\n",
    "        database: {'n01443537': [../data/tiny-imagenet-200/train/n01443537/images/n01443537_0.JPEG]}\n",
    "    \"\"\"\n",
    "    query_img_label = query_img.split(\"/\")[-3]\n",
    "    postive_pools = copy.deepcopy(database[query_img_label])\n",
    "    postive_pools.remove(query_img)\n",
    "    postive_index = random.randint(0, len(postive_pools)-1)\n",
    "    postive_sample = postive_pools[postive_index]\n",
    "    negative_pools_label = [i for i in database.keys() if i != query_img_label]\n",
    "    negative_index_label = random.randint(0, len(negative_pools_label)-1)\n",
    "    negtive_pools = database[negative_pools_label[negative_index_label]]\n",
    "    negative_index = random.randint(0, len(negtive_pools)-1)\n",
    "    negative_sample = negtive_pools[negative_index]\n",
    "\n",
    "    # It is not necessary to change it to array, since later we will use torchvision.transforms.ToTensor, which will automatically\n",
    "    # Converts a PIL Image or numpy.ndarray (H x W x C) in the range [0, 255] to a torch.FloatTensor of shape (C x H x W) in the range [0.0, 1.0].\n",
    "    # Also it will facilitate the construction of the dataloader.\n",
    "    # However, I can not figure out a good to way pickle such a large object ~850MB. The pickling procedure lasts forever and throws a lot of errors.\n",
    "\n",
    "    # Warning 1: You have to explicitly close all img, otherwise it will give you tons of shitty errors!!!!\n",
    "    # Warning 2: Some pictures are in f***ing grey scale, which will cause problems for h5py storgae. You need to check this buy using this.\n",
    "    #            F***king examples: '../data/tiny-imagenet-200/train/n01644900/images/n01644900_75.JPEG'\n",
    "    # img = Image.open(query_img)\n",
    "    # if img.mode == \"L\":\n",
    "    #     img = img.convert(\"RGB\")\n",
    "    # query_img = np.asarray(img.copy(), dtype=\"uint8\")\n",
    "    # img.close()\n",
    "    # img = Image.open(postive_sample)\n",
    "    # if img.mode == \"L\":\n",
    "    #     img = img.convert(\"RGB\")\n",
    "    # postive_sample = np.asarray(img.copy(), dtype=\"uint8\")\n",
    "    # img.close()\n",
    "    # img = Image.open(negative_sample)\n",
    "    # if img.mode == \"L\":\n",
    "    #     img = img.convert(\"RGB\")\n",
    "    # negative_sample = np.asarray(img.copy(), dtype=\"uint8\")\n",
    "    # img.close()\n",
    "    img_triplet = [query_img, postive_sample, negative_sample]\n",
    "    label_triplet = [train_dict[query_img_label][0],\n",
    "                     train_dict[query_img_label][0],\n",
    "                     train_dict[negative_pools_label[negative_index_label]][0]]\n",
    "    return img_triplet, label_triplet\n",
    "\n",
    "\n",
    "class TinyImageNet(data.Dataset):\n",
    "    def __init__(self, img_triplet, label_triplet, transform=None):\n",
    "        self.transform = transform\n",
    "        self.data = img_triplet\n",
    "        self.target = label_triplet\n",
    "\n",
    "    def __getitem__(self, index):\n",
    "        \"\"\"\n",
    "        Args:\n",
    "            index (int): Index\n",
    "        Returns:\n",
    "            tuple: (image, target) where target is index of the target class.\n",
    "        \"\"\"\n",
    "        img_triplet, target_triplet = self.data[index], self.target[index]\n",
    "        # to return a PIL Image\n",
    "        img_triplet = [Image.open(img_triplet[i]) for i in range(3)] \n",
    "        img_triplet = [item.convert(\"RGB\") for item in img_triplet ]\n",
    "        if self.transform is not None:\n",
    "            img_triplet = [self.transform(item) for item in img_triplet]\n",
    "        return img_triplet, target_triplet\n",
    "\n",
    "    def __len__(self):\n",
    "        return len(self.data)\n",
    "\n",
    "    def __repr__(self):\n",
    "        return \"Triplet for 200-TinyImageNet\""
   ]
  },
  {
   "cell_type": "code",
   "execution_count": 7,
   "metadata": {},
   "outputs": [
    {
     "name": "stdout",
     "output_type": "stream",
     "text": [
      "Begin to sampling. It takes a while...\n",
      "Finished in 0.5708494146664937 mins\n"
     ]
    }
   ],
   "source": [
    "train_dict, db = utils.create_database()\n",
    "img_all = [db[i] for i in db.keys()]\n",
    "img_all = [item for l in img_all for item in l]\n",
    "img_triplet = []\n",
    "label_triplet = []\n",
    "print(\"Begin to sampling. It takes a while...\")\n",
    "start = time.time()\n",
    "for url in img_all:\n",
    "    img_tri, label_tri = utils.sample_the_triplet(url, db, train_dict)\n",
    "    img_triplet.append(img_tri)\n",
    "    label_triplet.append(label_tri)\n",
    "end = time.time()\n",
    "print(\"Finished in {} mins\".format((end-start) / 60))"
   ]
  },
  {
   "cell_type": "code",
   "execution_count": 22,
   "metadata": {},
   "outputs": [],
   "source": [
    "import torchvision\n",
    "import torchvision.transforms as transforms\n",
    "import torch\n",
    "from utils import TinyImageNet\n",
    "from torch.utils.data.sampler import SubsetRandomSampler\n",
    "transform_train = transforms.Compose([\n",
    "    transforms.RandomCrop(64, padding=4),\n",
    "    transforms.RandomHorizontalFlip(),\n",
    "    transforms.ToTensor(),\n",
    "])\n",
    "train = TinyImageNet(img_triplet, label_triplet, transform=None)\n",
    "#train_loader = torch.utils.data.DataLoader(train, batch_size=2,\n",
    "                                           shuffle=False, sampler=SubsetRandomSampler(range(10)))"
   ]
  },
  {
   "cell_type": "code",
   "execution_count": 23,
   "metadata": {},
   "outputs": [
    {
     "name": "stdout",
     "output_type": "stream",
     "text": [
      "0 [tensor([0, 0]), tensor([0, 0]), tensor([ 38, 183])]\n",
      "1 [tensor([0, 0]), tensor([0, 0]), tensor([ 91, 197])]\n",
      "2 [tensor([0, 0]), tensor([0, 0]), tensor([64, 40])]\n",
      "3 [tensor([0, 0]), tensor([0, 0]), tensor([11, 39])]\n",
      "4 [tensor([0, 0]), tensor([0, 0]), tensor([ 60, 131])]\n"
     ]
    }
   ],
   "source": [
    "# for idx, (a,b) in enumerate(train_loader):\n",
    "#     print(idx, b)"
   ]
  },
  {
   "cell_type": "code",
   "execution_count": 24,
   "metadata": {},
   "outputs": [
    {
     "data": {
      "text/plain": [
       "([], [0, 0, 91])"
      ]
     },
     "execution_count": 24,
     "metadata": {},
     "output_type": "execute_result"
    }
   ],
   "source": [
    "train[1]"
   ]
  },
  {
   "cell_type": "code",
   "execution_count": null,
   "metadata": {},
   "outputs": [],
   "source": []
  }
 ],
 "metadata": {
  "kernelspec": {
   "display_name": "Python 3",
   "language": "python",
   "name": "python3"
  },
  "language_info": {
   "codemirror_mode": {
    "name": "ipython",
    "version": 3
   },
   "file_extension": ".py",
   "mimetype": "text/x-python",
   "name": "python",
   "nbconvert_exporter": "python",
   "pygments_lexer": "ipython3",
   "version": "3.6.3"
  }
 },
 "nbformat": 4,
 "nbformat_minor": 2
}
