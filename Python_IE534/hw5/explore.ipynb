{
 "cells": [
  {
   "cell_type": "code",
   "execution_count": 3,
   "metadata": {},
   "outputs": [],
   "source": [
    "import utils \n",
    "import h5py\n",
    "import torchvision\n",
    "import torchvision.transforms as transforms\n",
    "import torch\n",
    "from utils import TinyImageNet\n",
    "from torch.utils.data.sampler import SubsetRandomSampler\n",
    "import time"
   ]
  },
  {
   "cell_type": "code",
   "execution_count": 4,
   "metadata": {},
   "outputs": [
    {
     "name": "stdout",
     "output_type": "stream",
     "text": [
      "Begin to sampling. It takes a while...\n",
      "Finished in 0.0007165312767028808 mins\n"
     ]
    }
   ],
   "source": [
    "train_dict, db = utils.create_database()\n",
    "img_all = [db[i] for i in db.keys()]\n",
    "img_all = [item for l in img_all for item in l]\n",
    "img_triplet = []\n",
    "label_triplet = []\n",
    "print(\"Begin to sampling. It takes a while...\")\n",
    "start = time.time()\n",
    "for url in img_all[1:10]:\n",
    "    img_tri, label_tri = utils.sample_the_triplet(url, db, train_dict)\n",
    "    img_triplet.append(img_tri)\n",
    "    label_triplet.append(label_tri)\n",
    "end = time.time()\n",
    "print(\"Finished in {} mins\".format((end-start) / 60))\n",
    "\n",
    "hf = h5py.File('data_lzf.h5', 'w')\n",
    "hf.create_dataset('img_triplet', data=img_triplet, compression=\"lzf\")\n",
    "hf.create_dataset('label_triplet', data=label_triplet, compression=\"lzf\")\n",
    "hf.close()"
   ]
  },
  {
   "cell_type": "code",
   "execution_count": 5,
   "metadata": {},
   "outputs": [],
   "source": [
    "hf = h5py.File('data_lzf.h5', 'r')\n",
    "img_triplet = hf[\"img_triplet\"][:]\n",
    "label_triplet = hf['label_triplet'][:]\n",
    "hf.close()"
   ]
  },
  {
   "cell_type": "code",
   "execution_count": 6,
   "metadata": {},
   "outputs": [],
   "source": [
    "transform_train = transforms.Compose([\n",
    "    transforms.RandomCrop(64, padding=4),\n",
    "    transforms.RandomHorizontalFlip(),\n",
    "    transforms.ToTensor(),\n",
    "])\n",
    "train = TinyImageNet(img_triplet, label_triplet, transform=transform_train)\n",
    "train_loader = torch.utils.data.DataLoader(train, batch_size=2,\n",
    "                                           shuffle=False, sampler=SubsetRandomSampler(range(6)))"
   ]
  },
  {
   "cell_type": "code",
   "execution_count": 7,
   "metadata": {},
   "outputs": [
    {
     "name": "stdout",
     "output_type": "stream",
     "text": [
      "0 tensor(64) tensor(28)\n",
      "1 tensor(76) tensor(5)\n",
      "2 tensor(136) tensor(116)\n"
     ]
    }
   ],
   "source": [
    "for idx, (t,l) in enumerate(train_loader):\n",
    "    print(idx, l[0][2], l[1][2])"
   ]
  },
  {
   "cell_type": "code",
   "execution_count": 21,
   "metadata": {},
   "outputs": [],
   "source": [
    "from PIL import Image\n",
    "img = Image.open(img_all[1])"
   ]
  },
  {
   "cell_type": "code",
   "execution_count": 29,
   "metadata": {},
   "outputs": [
    {
     "data": {
      "text/plain": [
       "3.6864"
      ]
     },
     "execution_count": 29,
     "metadata": {},
     "output_type": "execute_result"
    }
   ],
   "source": [
    "ar = np.asarray(img, dtype=\"byte\")\n",
    "ar.nbytes * 3 * 100000 / 1e9"
   ]
  },
  {
   "cell_type": "code",
   "execution_count": 32,
   "metadata": {},
   "outputs": [],
   "source": [
    "import torchvision\n",
    "import torchvision.transforms as transforms\n",
    "import torch\n",
    "from torch.utils.data.sampler import SubsetRandomSampler"
   ]
  },
  {
   "cell_type": "code",
   "execution_count": 40,
   "metadata": {},
   "outputs": [],
   "source": [
    "transform_train = transforms.Compose([\n",
    "    transforms.RandomCrop(64, padding=4),\n",
    "    transforms.RandomHorizontalFlip(),\n",
    "    transforms.ToTensor(),\n",
    "])\n",
    "train = TinyImageNet(img_triplet, label_triplet, transform=transform_train)"
   ]
  },
  {
   "cell_type": "code",
   "execution_count": 42,
   "metadata": {},
   "outputs": [],
   "source": [
    "train_loader = torch.utils.data.DataLoader(train, batch_size=2,\n",
    "                                               shuffle=False, sampler=SubsetRandomSampler(range(10)))"
   ]
  },
  {
   "cell_type": "code",
   "execution_count": null,
   "metadata": {},
   "outputs": [],
   "source": []
  }
 ],
 "metadata": {
  "kernelspec": {
   "display_name": "Python 3",
   "language": "python",
   "name": "python3"
  },
  "language_info": {
   "codemirror_mode": {
    "name": "ipython",
    "version": 3
   },
   "file_extension": ".py",
   "mimetype": "text/x-python",
   "name": "python",
   "nbconvert_exporter": "python",
   "pygments_lexer": "ipython3",
   "version": "3.6.3"
  }
 },
 "nbformat": 4,
 "nbformat_minor": 2
}
