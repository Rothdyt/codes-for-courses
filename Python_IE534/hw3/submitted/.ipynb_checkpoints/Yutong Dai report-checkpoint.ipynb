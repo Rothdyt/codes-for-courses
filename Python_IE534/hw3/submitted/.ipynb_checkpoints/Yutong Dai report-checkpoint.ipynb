{
 "cells": [
  {
   "cell_type": "markdown",
   "metadata": {},
   "source": [
    "# Model Configuration\n",
    "\n",
    "**CNN Architecture:** The same as described in the lecture notes.\n",
    "    \n",
    "   * convolution(channel=64, filter_size=4, stride=1, padding=2) -> Relu -> Batch normalization\n",
    "   * convolution(channel=64, filter_size=4, stride=1, padding=2) -> Relu  -> Maxpooling(stride =2. kernel_size = 2)\n",
    "   * Dropout(probability=0.25)\n",
    "   * convolution(channel=64, filter_size=4, stride=1, padding=2) -> Relu -> Batch normalization\n",
    "   * convolution(channel=64, filter_size=4, stride=1, padding=2) -> Maxpooling(stride =2. kernel_size = 2)\n",
    "   * Dropout(probability=0.25)\n",
    "   * convolution(channel=64, filter_size=4, stride=1, padding=2) -> Relu -> Batch normalization\n",
    "   * convolution(channel=64, filter_size=3, stride=1, padding=0) -> Relu\n",
    "   * Dropout(probability=0.25)\n",
    "   * convolution(channel=64, filter_size=3, stride=1, padding=0) -> Relu -> Batch normalization\n",
    "   * convolution(channel=64, filter_size=3, stride=1, padding=0) -> Relu -> Batch normalization\n",
    "   * Dropout\n",
    "   * Fully connected layer(hidden_units=500)\n",
    "   * Fully connected layer(hidden_units=500)\n",
    "   * Softmax\n",
    "   \n",
    "**Batch Size:**100\n",
    "\n",
    "**Optimizer:** Adam\n",
    "\n",
    "**Data Augmentation:** \n",
    "\n",
    "* With 0.5 probability employ the data augmentation. \n",
    "    * Randomly flip 60% of mini-batch training samples either horizontally or vertically.\n",
    "    * Randomly rotate 60% of mini-batch training samples 90 degrees."
   ]
  },
  {
   "cell_type": "markdown",
   "metadata": {},
   "source": [
    "# Experiment Results\n",
    "\n",
    "**Note my code supports `resume` functionality**, which means you can training your cnn based previous stored results. \n",
    "\n",
    "First, I trained my model on 30 epochs, which has 80% test accuracy. In order to get higher test accuracy, I resumed training 3 times, each with additional 5 epochs. So finally:\n",
    "\n",
    "**For 45 epochs, I obtain 85.43% training accuracy.** The training log is given below."
   ]
  },
  {
   "cell_type": "markdown",
   "metadata": {},
   "source": [
    "\n",
    "    training...\n",
    "    => no checkpoint found at './checkpoint.pth.tar'\n",
    "    2018-09-26 00:40:33,767 - [INFO] - torch version: 0.3.0\n",
    "    2018-09-26 00:40:33,784 - [INFO] - loading data...\n",
    "    2018-09-26 00:41:38,176 - [INFO] - Epoch: 1 | Loss: 1.260013461112976 | Accuracy::0.42578\n",
    "    2018-09-26 00:41:38,310 - [INFO] - Best parameters is updated!\n",
    "    2018-09-26 00:42:28,968 - [INFO] - Epoch: 2 | Loss: 1.296244502067566 | Accuracy::0.4698\n",
    "    2018-09-26 00:42:29,051 - [INFO] - Best parameters is updated!\n",
    "    2018-09-26 00:43:18,118 - [INFO] - Epoch: 3 | Loss: 0.8326022624969482 | Accuracy::0.60864\n",
    "    2018-09-26 00:43:18,222 - [INFO] - Best parameters is updated!\n",
    "    2018-09-26 00:44:07,194 - [INFO] - Epoch: 4 | Loss: 1.0159904956817627 | Accuracy::0.6705399999999999\n",
    "    2018-09-26 00:44:07,294 - [INFO] - Best parameters is updated!\n",
    "    2018-09-26 00:44:57,909 - [INFO] - Epoch: 5 | Loss: 1.0425361394882202 | Accuracy::0.59338\n",
    "    2018-09-26 00:45:48,699 - [INFO] - Epoch: 6 | Loss: 1.0083378553390503 | Accuracy::0.63738\n",
    "    2018-09-26 00:46:37,809 - [INFO] - Epoch: 7 | Loss: 0.8012216687202454 | Accuracy::0.7139\n",
    "    2018-09-26 00:46:37,913 - [INFO] - Best parameters is updated!\n",
    "    2018-09-26 00:47:26,905 - [INFO] - Epoch: 8 | Loss: 0.7867785692214966 | Accuracy::0.7468199999999999\n",
    "    2018-09-26 00:47:27,008 - [INFO] - Best parameters is updated!\n",
    "    2018-09-26 00:48:17,627 - [INFO] - Epoch: 9 | Loss: 0.9155967831611633 | Accuracy::0.7534\n",
    "    2018-09-26 00:48:17,734 - [INFO] - Best parameters is updated!\n",
    "    2018-09-26 00:49:08,430 - [INFO] - Epoch: 10 | Loss: 0.5476292967796326 | Accuracy::0.7746200000000001\n",
    "    2018-09-26 00:49:08,553 - [INFO] - Best parameters is updated!\n",
    "    2018-09-26 00:49:59,315 - [INFO] - Epoch: 11 | Loss: 0.7429620623588562 | Accuracy::0.78534\n",
    "    2018-09-26 00:49:59,403 - [INFO] - Best parameters is updated!\n",
    "    2018-09-26 00:50:50,160 - [INFO] - Epoch: 12 | Loss: 0.7952980995178223 | Accuracy::0.66768\n",
    "    2018-09-26 00:51:40,980 - [INFO] - Epoch: 13 | Loss: 0.604600191116333 | Accuracy::0.78676\n",
    "    2018-09-26 00:51:41,146 - [INFO] - Best parameters is updated!\n",
    "    2018-09-26 00:52:30,233 - [INFO] - Epoch: 14 | Loss: 0.5061242580413818 | Accuracy::0.80578\n",
    "    2018-09-26 00:52:30,343 - [INFO] - Best parameters is updated!\n",
    "    2018-09-26 00:53:21,051 - [INFO] - Epoch: 15 | Loss: 0.6744173169136047 | Accuracy::0.80708\n",
    "    2018-09-26 00:53:21,605 - [INFO] - Best parameters is updated!\n",
    "    2018-09-26 00:54:10,660 - [INFO] - Epoch: 16 | Loss: 0.5296404957771301 | Accuracy::0.81908\n",
    "    2018-09-26 00:54:10,769 - [INFO] - Best parameters is updated!\n",
    "    2018-09-26 00:54:59,785 - [INFO] - Epoch: 17 | Loss: 0.5702775716781616 | Accuracy::0.82688\n",
    "    2018-09-26 00:54:59,877 - [INFO] - Best parameters is updated!\n",
    "    2018-09-26 00:55:48,908 - [INFO] - Epoch: 18 | Loss: 0.5297756791114807 | Accuracy::0.8341599999999999\n",
    "    2018-09-26 00:55:49,022 - [INFO] - Best parameters is updated!\n",
    "    2018-09-26 00:56:38,040 - [INFO] - Epoch: 19 | Loss: 0.44035109877586365 | Accuracy::0.83974\n",
    "    2018-09-26 00:56:38,155 - [INFO] - Best parameters is updated!\n",
    "    2018-09-26 00:57:28,850 - [INFO] - Epoch: 20 | Loss: 0.5621123313903809 | Accuracy::0.8280599999999999\n",
    "    2018-09-26 00:58:17,992 - [INFO] - Epoch: 21 | Loss: 0.6654871106147766 | Accuracy::0.84884\n",
    "    2018-09-26 00:58:18,106 - [INFO] - Best parameters is updated!\n",
    "    2018-09-26 00:59:08,746 - [INFO] - Epoch: 22 | Loss: 0.7074993848800659 | Accuracy::0.6948\n",
    "    2018-09-26 00:59:57,873 - [INFO] - Epoch: 23 | Loss: 0.4395642876625061 | Accuracy::0.8431199999999999\n",
    "    2018-09-26 01:00:46,992 - [INFO] - Epoch: 24 | Loss: 0.3320717513561249 | Accuracy::0.85696\n",
    "    2018-09-26 01:00:47,094 - [INFO] - Best parameters is updated!\n",
    "    2018-09-26 01:01:36,155 - [INFO] - Epoch: 25 | Loss: 0.4970552325248718 | Accuracy::0.86164\n",
    "    2018-09-26 01:01:36,274 - [INFO] - Best parameters is updated!\n",
    "    2018-09-26 01:02:25,312 - [INFO] - Epoch: 26 | Loss: 0.48153769969940186 | Accuracy::0.86512\n",
    "    2018-09-26 01:02:25,416 - [INFO] - Best parameters is updated!\n",
    "    2018-09-26 01:03:14,437 - [INFO] - Epoch: 27 | Loss: 0.392272412776947 | Accuracy::0.8693799999999999\n",
    "    2018-09-26 01:03:14,559 - [INFO] - Best parameters is updated!\n",
    "    2018-09-26 01:04:03,589 - [INFO] - Epoch: 28 | Loss: 0.3902410566806793 | Accuracy::0.87354\n",
    "    2018-09-26 01:04:03,711 - [INFO] - Best parameters is updated!\n",
    "    2018-09-26 01:04:54,393 - [INFO] - Epoch: 29 | Loss: 0.46228259801864624 | Accuracy::0.8439800000000001\n",
    "    2018-09-26 01:05:45,239 - [INFO] - Epoch: 30 | Loss: 0.7465217709541321 | Accuracy::0.7101199999999999\n",
    "    2018-09-26 01:05:48,100 - [INFO] - trained on [30] epoch, with test accuracy [0.8000000000000003]\n",
    "    => checkpoint found at './checkpoint.pth.tar'\n",
    "    2018-09-26 01:07:43,765 - [INFO] - torch version: 0.3.0\n",
    "    2018-09-26 01:07:43,765 - [INFO] - loading data...\n",
    "    2018-09-26 01:08:48,078 - [INFO] - Epoch: 31 | Loss: 0.8729916214942932 | Accuracy::0.74126\n",
    "    2018-09-26 01:09:38,858 - [INFO] - Epoch: 32 | Loss: 0.7604179978370667 | Accuracy::0.75458\n",
    "    2018-09-26 01:10:29,618 - [INFO] - Epoch: 33 | Loss: 0.6580194234848022 | Accuracy::0.7646799999999999\n",
    "    2018-09-26 01:11:20,380 - [INFO] - Epoch: 34 | Loss: 0.5148293972015381 | Accuracy::0.7677\n",
    "    2018-09-26 01:12:11,116 - [INFO] - Epoch: 35 | Loss: 0.7237148880958557 | Accuracy::0.77336\n",
    "    2018-09-26 01:12:14,044 - [INFO] - trained on [35] epoch, with test accuracy [0.8082]\n",
    "    => checkpoint found at './checkpoint.pth.tar'\n",
    "    2018-09-26 01:12:48,311 - [INFO] - torch version: 0.3.0\n",
    "    2018-09-26 01:12:48,315 - [INFO] - loading data...\n",
    "    2018-09-26 01:13:51,021 - [INFO] - Epoch: 36 | Loss: 0.5348299145698547 | Accuracy::0.8542799999999999\n",
    "    2018-09-26 01:14:41,852 - [INFO] - Epoch: 37 | Loss: 0.5350968837738037 | Accuracy::0.7725799999999999\n",
    "    2018-09-26 01:15:31,053 - [INFO] - Epoch: 38 | Loss: 0.4586135149002075 | Accuracy::0.8614200000000001\n",
    "    2018-09-26 01:16:20,174 - [INFO] - Epoch: 39 | Loss: 0.3627488613128662 | Accuracy::0.8773399999999999\n",
    "    2018-09-26 01:16:20,292 - [INFO] - Best parameters is updated!\n",
    "    2018-09-26 01:17:10,958 - [INFO] - Epoch: 40 | Loss: 0.5626611113548279 | Accuracy::0.77176\n",
    "    2018-09-26 01:17:13,840 - [INFO] - trained on [40] epoch, with test accuracy [0.8236999999999999]\n",
    "    => checkpoint found at './checkpoint.pth.tar'\n",
    "    2018-09-26 01:18:08,354 - [INFO] - torch version: 0.3.0\n",
    "    2018-09-26 01:18:08,358 - [INFO] - loading data...\n",
    "    2018-09-26 01:19:11,541 - [INFO] - Epoch: 41 | Loss: 0.199357807636261 | Accuracy::0.8735799999999999\n",
    "    2018-09-26 01:20:00,656 - [INFO] - Epoch: 42 | Loss: 0.33019065856933594 | Accuracy::0.88454\n",
    "    2018-09-26 01:20:00,777 - [INFO] - Best parameters is updated!\n",
    "    2018-09-26 01:20:49,802 - [INFO] - Epoch: 43 | Loss: 0.35046303272247314 | Accuracy::0.8888400000000001\n",
    "    2018-09-26 01:20:49,938 - [INFO] - Best parameters is updated!\n",
    "    2018-09-26 01:21:40,676 - [INFO] - Epoch: 44 | Loss: 0.5082605481147766 | Accuracy::0.7692\n",
    "    2018-09-26 01:22:29,865 - [INFO] - Epoch: 45 | Loss: 0.2712952792644501 | Accuracy::0.8809400000000001\n",
    "    2018-09-26 01:22:32,733 - [INFO] - trained on [45] epoch, with test accuracy [0.8543]\n",
    "\n"
   ]
  },
  {
   "cell_type": "code",
   "execution_count": 1,
   "metadata": {},
   "outputs": [],
   "source": [
    "import torch\n",
    "import matplotlib.pyplot as plt\n",
    "resume = '../checkpoint.pth.tar'\n",
    "checkpoint = torch.load(resume, map_location='cpu')\n",
    "start_epoch = checkpoint['epoch']\n",
    "best_train_acc = checkpoint['best_train_acc']\n",
    "train_loss = checkpoint['train_loss']\n",
    "train_accuracy_epoch = checkpoint['train_accuracy_epoch']"
   ]
  },
  {
   "cell_type": "code",
   "execution_count": 2,
   "metadata": {},
   "outputs": [
    {
     "data": {
      "image/png": "[encoded data removed]",
      "text/plain": [
       "<matplotlib.figure.Figure at 0x11fc9e3c8>"
      ]
     },
     "metadata": {},
     "output_type": "display_data"
    }
   ],
   "source": [
    "plt.plot(train_accuracy_epoch)\n",
    "plt.xlabel(\"num of epoch\")\n",
    "plt.ylabel(\"accuracy\")\n",
    "plt.show()"
   ]
  },
  {
   "cell_type": "code",
   "execution_count": 3,
   "metadata": {},
   "outputs": [
    {
     "data": {
      "image/png": "[encoded data removed]",
      "text/plain": [
       "<matplotlib.figure.Figure at 0x12065dcf8>"
      ]
     },
     "metadata": {},
     "output_type": "display_data"
    }
   ],
   "source": [
    "plt.plot(train_loss)\n",
    "plt.xlabel(\"num of data access\")\n",
    "plt.ylabel(\"loss\")\n",
    "plt.show()"
   ]
  },
  {
   "cell_type": "markdown",
   "metadata": {},
   "source": [
    "Here `1 num of data access` means that 100 figures are used to train the model."
   ]
  },
  {
   "cell_type": "markdown",
   "metadata": {},
   "source": [
    "## Some notes on experiments\n",
    "\n",
    "1. Why we have sudden decrease in training accuracy? Because in my training setting, with 0.5 probability I apply the data augmentation in the current epoch. And for each batch of data, only 60% of the pictures will be randomly flipped either horizontally or vertically. The drop may occur when the data augmentation takes place and produce some new patterns that are unseen to the current cnn network or it is possible the batch size is small. But test accuracy is still increasing.\n",
    "\n",
    "2. I previously made a mistake when writing the dropout. Indeed we need to use `nn.Droput2d` instead of `nn.functional.droput2d`. If you use the latter, you need specifically set the `training=True`. Otherwise, it won't take effect! That's the reason why I saw 97% training accuracy in my previous implementation. Obviously, it is over-fitted. But, I can still get around 83% test accuracy."
   ]
  },
  {
   "cell_type": "markdown",
   "metadata": {},
   "source": [
    "## Extra credit problem\n",
    "Following code snippet is the key part of the monte carlo method for estimating testing accuracy. For details, please see the attached code `mc_test_acc.py`.\n",
    "\n",
    "```\n",
    "for i in range(0, len(y_test), batch_size):\n",
    "    x_test_batch = torch.FloatTensor(x_test[i:i+batch_size, :])\n",
    "    y_test_batch = torch.LongTensor(y_test[i:i+batch_size])\n",
    "    if use_cuda:\n",
    "        data, target = Variable(x_test_batch).cuda(), Variable(y_test_batch).cuda()\n",
    "    else:\n",
    "        data, target = Variable(x_test_batch), Variable(y_test_batch)\n",
    "    output = model.forward(data)\n",
    "    mc_output = output\n",
    "    for i in range(99):\n",
    "        output = model.forward(data)\n",
    "        mc_output += output\n",
    "    mc_output = mc_output / 100\n",
    "    prediction = mc_output.data.max(1)[1]\n",
    "    accuracy = (float(prediction.eq(target.data).sum()) / float(batch_size))\n",
    "    test_accuracy.append(accuracy)\n",
    "accuracy_test = np.mean(test_accuracy)\n",
    "```"
   ]
  },
  {
   "cell_type": "markdown",
   "metadata": {},
   "source": [
    "I get 100 replicates of the output of the softmax function and average them to get the predicted value.\n",
    "Finally, with 100 i.i.d relization of the mask $R$, my monte carlo test accuracy is **83.78%**, which is smaller than the heuristic test accuracy **85.43%**."
   ]
  }
 ],
 "metadata": {
  "kernelspec": {
   "display_name": "Python 3",
   "language": "python",
   "name": "python3"
  },
  "language_info": {
   "codemirror_mode": {
    "name": "ipython",
    "version": 3
   },
   "file_extension": ".py",
   "mimetype": "text/x-python",
   "name": "python",
   "nbconvert_exporter": "python",
   "pygments_lexer": "ipython3",
   "version": "3.6.3"
  }
 },
 "nbformat": 4,
 "nbformat_minor": 2
}
