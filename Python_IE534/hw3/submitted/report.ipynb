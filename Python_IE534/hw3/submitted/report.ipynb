{
 "cells": [
  {
   "cell_type": "code",
   "execution_count": null,
   "metadata": {},
   "outputs": [],
   "source": []
  },
  {
   "cell_type": "markdown",
   "metadata": {},
   "source": [
    "\n",
    "    training...\n",
    "    => no checkpoint found at './checkpoint.pth.tar'\n",
    "    Epoch: 1 | Loss: 1.310076117515564 | Accuracy::0.46238\n",
    "    Epoch: 2 | Loss: 0.7733752727508545 | Accuracy::0.6727\n",
    "    Epoch: 3 | Loss: 0.8667066097259521 | Accuracy::0.74852\n",
    "    Epoch: 4 | Loss: 0.6155720353126526 | Accuracy::0.78472\n",
    "    Epoch: 5 | Loss: 0.478678822517395 | Accuracy::0.81162\n",
    "    Epoch: 6 | Loss: 0.5366249680519104 | Accuracy::0.8334600000000001\n",
    "    Epoch: 7 | Loss: 0.677316427230835 | Accuracy::0.71838\n",
    "    Epoch: 8 | Loss: 0.5570617914199829 | Accuracy::0.84722\n",
    "    Epoch: 9 | Loss: 0.4002855718135834 | Accuracy::0.8734000000000001\n",
    "    Epoch: 10 | Loss: 0.7161683440208435 | Accuracy::0.77744\n",
    "    Epoch: 11 | Loss: 0.49755004048347473 | Accuracy::0.81674\n",
    "    Epoch: 12 | Loss: 0.23092609643936157 | Accuracy::0.87024\n",
    "    Epoch: 13 | Loss: 0.3864538073539734 | Accuracy::0.9073\n",
    "    Epoch: 14 | Loss: 0.3977225124835968 | Accuracy::0.8212200000000001\n",
    "    Epoch: 15 | Loss: 0.44424372911453247 | Accuracy::0.8520800000000001\n",
    "    Epoch: 16 | Loss: 0.19580140709877014 | Accuracy::0.92028\n",
    "    Epoch: 17 | Loss: 0.30435994267463684 | Accuracy::0.8980799999999999\n",
    "    Epoch: 18 | Loss: 0.2583535313606262 | Accuracy::0.9148399999999999\n",
    "    Epoch: 19 | Loss: 0.1366908848285675 | Accuracy::0.9449799999999999\n",
    "    Epoch: 20 | Loss: 0.2577490508556366 | Accuracy::0.84388\n",
    "    Epoch: 21 | Loss: 0.12290289252996445 | Accuracy::0.91362\n",
    "    Epoch: 22 | Loss: 0.40796828269958496 | Accuracy::0.8657999999999999\n",
    "    Epoch: 23 | Loss: 0.3450239598751068 | Accuracy::0.88774\n",
    "    Epoch: 24 | Loss: 0.24872513115406036 | Accuracy::0.948\n",
    "    Epoch: 25 | Loss: 0.0872989371418953 | Accuracy::0.9649200000000001\n",
    "    Epoch: 26 | Loss: 0.11069934815168381 | Accuracy::0.9676800000000001\n",
    "    Epoch: 27 | Loss: 0.1300189048051834 | Accuracy::0.9725600000000001\n",
    "    Epoch: 28 | Loss: 0.12477043271064758 | Accuracy::0.92004\n",
    "    Epoch: 29 | Loss: 0.2987133860588074 | Accuracy::0.8765\n",
    "    Epoch: 30 | Loss: 0.3045714497566223 | Accuracy::0.93266\n"
   ]
  },
  {
   "cell_type": "code",
   "execution_count": null,
   "metadata": {},
   "outputs": [],
   "source": []
  }
 ],
 "metadata": {
  "kernelspec": {
   "display_name": "Python 3",
   "language": "python",
   "name": "python3"
  },
  "language_info": {
   "codemirror_mode": {
    "name": "ipython",
    "version": 3
   },
   "file_extension": ".py",
   "mimetype": "text/x-python",
   "name": "python",
   "nbconvert_exporter": "python",
   "pygments_lexer": "ipython3",
   "version": "3.6.3"
  }
 },
 "nbformat": 4,
 "nbformat_minor": 2
}
