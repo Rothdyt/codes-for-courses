{
 "cells": [
  {
   "cell_type": "code",
   "execution_count": 1,
   "metadata": {},
   "outputs": [],
   "source": [
    "import numpy as np\n",
    "import torch\n",
    "import torch.nn as nn\n",
    "import torch.nn.functional as F\n",
    "import torch.optim as optim\n",
    "from torch.autograd import Variable\n",
    "from torchvision import transforms\n",
    "import h5py\n",
    "import copy\n",
    "import time\n",
    "# print(torch.__version__)\n",
    "file_name = \"../data/CIFAR10.hdf5\"\n",
    "data = h5py.File(file_name, \"r\")\n",
    "# get metadata for data: [n for n in data.keys()]\n",
    "x_train = np.float32(data[\"X_train\"][:]).reshape(-1, 3, 32, 32)\n",
    "y_train = np.int32(np.array(data[\"Y_train\"]))\n",
    "x_test = np.float32(data[\"X_test\"][:]).reshape(-1, 3, 32, 32)\n",
    "y_test = np.int32(np.array(data[\"Y_test\"]))\n",
    "data.close()"
   ]
  },
  {
   "cell_type": "code",
   "execution_count": 2,
   "metadata": {},
   "outputs": [],
   "source": [
    "class CNN_torch(nn.Module):\n",
    "    def __init__(self):\n",
    "        super(CNN_torch, self).__init__()\n",
    "        self.conv1 = nn.Conv2d(in_channels=3, out_channels=64, kernel_size=4, stride=1, padding=2, bias=True)\n",
    "        self.batch_norm1 = nn.BatchNorm2d(num_features=64, eps=1e-05, momentum=0.1, affine=True, track_running_stats=True)\n",
    "        self.conv2 = nn.Conv2d(in_channels=64, out_channels=64, kernel_size=4, stride=1, padding=2, bias=True)\n",
    "        self.conv3 = nn.Conv2d(in_channels=64, out_channels=64, kernel_size=4, stride=1, padding=2, bias=True)\n",
    "        self.batch_norm2 = nn.BatchNorm2d(num_features=64, eps=1e-05, momentum=0.1, affine=True, track_running_stats=True)\n",
    "        self.conv4 = nn.Conv2d(in_channels=64, out_channels=64, kernel_size=4, stride=1, padding=2, bias=True)\n",
    "        self.conv5 = nn.Conv2d(in_channels=64, out_channels=64, kernel_size=4, stride=1, padding=2, bias=True)\n",
    "        self.batch_norm3 = nn.BatchNorm2d(num_features=64, eps=1e-05, momentum=0.1, affine=True, track_running_stats=True)\n",
    "        self.conv6 = nn.Conv2d(in_channels=64, out_channels=64, kernel_size=3, stride=1, padding=0, bias=True)\n",
    "        self.conv7 = nn.Conv2d(in_channels=64, out_channels=64, kernel_size=3, stride=1, padding=0, bias=True)\n",
    "        self.batch_norm4 = nn.BatchNorm2d(num_features=64, eps=1e-05, momentum=0.1, affine=True, track_running_stats=True)\n",
    "        self.conv8 = nn.Conv2d(in_channels=64, out_channels=64, kernel_size=3, stride=1, padding=0, bias=True)\n",
    "        self.batch_norm5 = nn.BatchNorm2d(num_features=64, eps=1e-05, momentum=0.1, affine=True, track_running_stats=True)\n",
    "        self.fc1 = nn.Linear(64 * 4 * 4, 500)\n",
    "        self.fc2 = nn.Linear(500, 10)\n",
    "    def forward(self, x):\n",
    "        #print(\"con0: x shape{}\".format(x.shape))\n",
    "        x = F.relu(self.conv1(x))\n",
    "        #print(\"con1: x shape{}\".format(x.shape))\n",
    "        x = self.batch_norm1(x)\n",
    "        x = F.relu(self.conv2(x))\n",
    "        #print(\"con2: x shape{}\".format(x.shape))\n",
    "        x = F.dropout2d(F.max_pool2d(x, kernel_size=2, stride=2), p=0.25)\n",
    "        #print(\"maxpool1: x shape{}\".format(x.shape))\n",
    "        x = F.relu(self.conv3(x))\n",
    "        #print(\"con3: x shape{}\".format(x.shape))\n",
    "        x = self.batch_norm2(x)\n",
    "        x = F.relu(self.conv4(x))\n",
    "        #print(\"con4: x shape{}\".format(x.shape))\n",
    "        x = F.dropout2d(F.max_pool2d(x, kernel_size=2, stride=2), p=0.25)\n",
    "        #print(\"maxpool2: x shape{}\".format(x.shape))\n",
    "        x = F.relu(self.conv5(x))\n",
    "        #print(\"con5: x shape{}\".format(x.shape))\n",
    "        x = self.batch_norm3(x)\n",
    "        x = F.relu(self.conv6(x))\n",
    "        #print(\"con6: x shape{}\".format(x.shape))\n",
    "        x = F.dropout2d(x, p=0.25)\n",
    "        x = F.relu(self.conv7(x))\n",
    "        #print(\"con7: x shape{}\".format(x.shape))\n",
    "        x = self.batch_norm4(x)\n",
    "        x = F.relu(self.conv8(x))\n",
    "        #print(\"con8: x shape{}\".format(x.shape))\n",
    "        x = self.batch_norm5(x)\n",
    "        x = F.dropout2d(x, p=0.25)\n",
    "        #print(\"final: x shape{}\".format(x.shape))\n",
    "        x = x.view(-1, self.fc1.in_features)\n",
    "        #print(\"flatten: x shape{}\".format(x.shape))\n",
    "        x = self.fc1(x)\n",
    "        x = self.fc2(x)\n",
    "        return F.log_softmax(x, dim=1)"
   ]
  },
  {
   "cell_type": "code",
   "execution_count": 6,
   "metadata": {},
   "outputs": [],
   "source": [
    "model = CNN_torch()\n",
    "use_cuda = torch.cuda.is_available()\n",
    "num_epoch = 10\n",
    "batch_size = 100\n",
    "x_train = x_train[0:1000]\n",
    "y_train = y_train[0:1000]\n",
    "x_test = x_test[0:100]\n",
    "y_test = y_test[0:100]\n",
    "L_Y_train = len(y_train)\n",
    "L_Y_test = len(y_test)"
   ]
  },
  {
   "cell_type": "code",
   "execution_count": 7,
   "metadata": {},
   "outputs": [],
   "source": [
    "model.load_state_dict(torch.load('saved_model_state.pt'))"
   ]
  },
  {
   "cell_type": "code",
   "execution_count": 8,
   "metadata": {},
   "outputs": [
    {
     "name": "stdout",
     "output_type": "stream",
     "text": [
      "trained on [10] epoch, with test accuracy [0.38]\n"
     ]
    }
   ],
   "source": [
    "model.eval()\n",
    "test_accuracy = []\n",
    "for i in range(0, L_Y_test, batch_size):\n",
    "    x_test_batch = torch.FloatTensor(x_test[i:i+batch_size, :])\n",
    "    y_test_batch = torch.LongTensor(y_test[i:i+batch_size])\n",
    "    if use_cuda:\n",
    "        data, target = Variable(x_test_batch).cuda(), Variable(y_test_batch).cuda()\n",
    "    else:\n",
    "        data, target = Variable(x_test_batch), Variable(y_test_batch)\n",
    "    output = model(data)\n",
    "    loss = F.nll_loss(output, target)\n",
    "    prediction = output.data.max(1)[1]\n",
    "    accuracy = (float(prediction.eq(target.data).sum()) / float(batch_size))\n",
    "    test_accuracy.append(accuracy)\n",
    "accuracy_test = np.mean(test_accuracy)\n",
    "print(\"trained on [{}] epoch, with test accuracy [{}]\".format(num_epoch, accuracy_test))"
   ]
  },
  {
   "cell_type": "code",
   "execution_count": 3,
   "metadata": {},
   "outputs": [],
   "source": [
    "import torch\n",
    "resume = './checkpoint.pth.tar'\n",
    "checkpoint = torch.load(resume)\n",
    "start_epoch = checkpoint['epoch']\n",
    "best_train_acc = checkpoint['best_train_acc']\n",
    "train_loss = checkpoint['train_loss']\n",
    "train_accuracy_epoch = checkpoint['train_accuracy_epoch']"
   ]
  },
  {
   "cell_type": "code",
   "execution_count": 6,
   "metadata": {},
   "outputs": [
    {
     "data": {
      "image/png": "[encoded data removed]",
      "text/plain": [
       "<matplotlib.figure.Figure at 0x12124f390>"
      ]
     },
     "metadata": {},
     "output_type": "display_data"
    }
   ],
   "source": [
    "import matplotlib.pyplot as plt\n",
    "plt.plot(train_accuracy_epoch)\n",
    "plt.show()"
   ]
  },
  {
   "cell_type": "code",
   "execution_count": null,
   "metadata": {},
   "outputs": [],
   "source": []
  }
 ],
 "metadata": {
  "kernelspec": {
   "display_name": "Python 3",
   "language": "python",
   "name": "python3"
  },
  "language_info": {
   "codemirror_mode": {
    "name": "ipython",
    "version": 3
   },
   "file_extension": ".py",
   "mimetype": "text/x-python",
   "name": "python",
   "nbconvert_exporter": "python",
   "pygments_lexer": "ipython3",
   "version": "3.6.3"
  }
 },
 "nbformat": 4,
 "nbformat_minor": 2
}
