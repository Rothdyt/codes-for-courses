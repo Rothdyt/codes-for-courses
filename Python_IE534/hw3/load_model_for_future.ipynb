{
 "cells": [
  {
   "cell_type": "code",
   "execution_count": 1,
   "metadata": {},
   "outputs": [],
   "source": [
    "import numpy as np\n",
    "import torch\n",
    "import torch.nn as nn\n",
    "import torch.nn.functional as F\n",
    "import torch.optim as optim\n",
    "from torch.autograd import Variable\n",
    "from torchvision import transforms\n",
    "import h5py\n",
    "import copy\n",
    "import time\n",
    "# print(torch.__version__)\n",
    "file_name = \"../data/CIFAR10.hdf5\"\n",
    "data = h5py.File(file_name, \"r\")\n",
    "# get metadata for data: [n for n in data.keys()]\n",
    "x_train = np.float32(data[\"X_train\"][:]).reshape(-1, 3, 32, 32)\n",
    "y_train = np.int32(np.array(data[\"Y_train\"]))\n",
    "x_test = np.float32(data[\"X_test\"][:]).reshape(-1, 3, 32, 32)\n",
    "y_test = np.int32(np.array(data[\"Y_test\"]))\n",
    "data.close()"
   ]
  },
  {
   "cell_type": "code",
   "execution_count": 4,
   "metadata": {},
   "outputs": [
    {
     "ename": "RuntimeError",
     "evalue": "Error(s) in loading state_dict for CNN_torch:\n\tMissing key(s) in state_dict: \"conv1.weight\", \"conv1.bias\", \"batch_norm1.weight\", \"batch_norm1.bias\", \"batch_norm1.running_mean\", \"batch_norm1.running_var\", \"conv2.weight\", \"conv2.bias\", \"conv3.weight\", \"conv3.bias\", \"batch_norm2.weight\", \"batch_norm2.bias\", \"batch_norm2.running_mean\", \"batch_norm2.running_var\", \"conv4.weight\", \"conv4.bias\", \"conv5.weight\", \"conv5.bias\", \"batch_norm3.weight\", \"batch_norm3.bias\", \"batch_norm3.running_mean\", \"batch_norm3.running_var\", \"conv6.weight\", \"conv6.bias\", \"conv7.weight\", \"conv7.bias\", \"batch_norm4.weight\", \"batch_norm4.bias\", \"batch_norm4.running_mean\", \"batch_norm4.running_var\", \"conv8.weight\", \"conv8.bias\", \"batch_norm5.weight\", \"batch_norm5.bias\", \"batch_norm5.running_mean\", \"batch_norm5.running_var\", \"fc1.weight\", \"fc1.bias\", \"fc2.weight\", \"fc2.bias\". \n\tUnexpected key(s) in state_dict: \"module.conv1.weight\", \"module.conv1.bias\", \"module.batch_norm1.weight\", \"module.batch_norm1.bias\", \"module.batch_norm1.running_mean\", \"module.batch_norm1.running_var\", \"module.conv2.weight\", \"module.conv2.bias\", \"module.conv3.weight\", \"module.conv3.bias\", \"module.batch_norm2.weight\", \"module.batch_norm2.bias\", \"module.batch_norm2.running_mean\", \"module.batch_norm2.running_var\", \"module.conv4.weight\", \"module.conv4.bias\", \"module.conv5.weight\", \"module.conv5.bias\", \"module.batch_norm3.weight\", \"module.batch_norm3.bias\", \"module.batch_norm3.running_mean\", \"module.batch_norm3.running_var\", \"module.conv6.weight\", \"module.conv6.bias\", \"module.conv7.weight\", \"module.conv7.bias\", \"module.batch_norm4.weight\", \"module.batch_norm4.bias\", \"module.batch_norm4.running_mean\", \"module.batch_norm4.running_var\", \"module.conv8.weight\", \"module.conv8.bias\", \"module.batch_norm5.weight\", \"module.batch_norm5.bias\", \"module.batch_norm5.running_mean\", \"module.batch_norm5.running_var\", \"module.fc1.weight\", \"module.fc1.bias\", \"module.fc2.weight\", \"module.fc2.bias\". ",
     "output_type": "error",
     "traceback": [
      "\u001b[0;31m---------------------------------------------------------------------------\u001b[0m",
      "\u001b[0;31mRuntimeError\u001b[0m                              Traceback (most recent call last)",
      "\u001b[0;32m<ipython-input-4-4bd1c3bfd946>\u001b[0m in \u001b[0;36m<module>\u001b[0;34m()\u001b[0m\n\u001b[1;32m      6\u001b[0m \u001b[0mtrain_loss\u001b[0m \u001b[0;34m=\u001b[0m \u001b[0mcheckpoint\u001b[0m\u001b[0;34m[\u001b[0m\u001b[0;34m'train_loss'\u001b[0m\u001b[0;34m]\u001b[0m\u001b[0;34m\u001b[0m\u001b[0m\n\u001b[1;32m      7\u001b[0m \u001b[0mtrain_accuracy_epoch\u001b[0m \u001b[0;34m=\u001b[0m \u001b[0mcheckpoint\u001b[0m\u001b[0;34m[\u001b[0m\u001b[0;34m'train_accuracy_epoch'\u001b[0m\u001b[0;34m]\u001b[0m\u001b[0;34m\u001b[0m\u001b[0m\n\u001b[0;32m----> 8\u001b[0;31m \u001b[0mmodel\u001b[0m\u001b[0;34m.\u001b[0m\u001b[0mload_state_dict\u001b[0m\u001b[0;34m(\u001b[0m\u001b[0mcheckpoint\u001b[0m\u001b[0;34m[\u001b[0m\u001b[0;34m'state_dict'\u001b[0m\u001b[0;34m]\u001b[0m\u001b[0;34m)\u001b[0m\u001b[0;34m\u001b[0m\u001b[0m\n\u001b[0m",
      "\u001b[0;32m~/anaconda/lib/python3.6/site-packages/torch/nn/modules/module.py\u001b[0m in \u001b[0;36mload_state_dict\u001b[0;34m(self, state_dict, strict)\u001b[0m\n\u001b[1;32m    717\u001b[0m         \u001b[0;32mif\u001b[0m \u001b[0mlen\u001b[0m\u001b[0;34m(\u001b[0m\u001b[0merror_msgs\u001b[0m\u001b[0;34m)\u001b[0m \u001b[0;34m>\u001b[0m \u001b[0;36m0\u001b[0m\u001b[0;34m:\u001b[0m\u001b[0;34m\u001b[0m\u001b[0m\n\u001b[1;32m    718\u001b[0m             raise RuntimeError('Error(s) in loading state_dict for {}:\\n\\t{}'.format(\n\u001b[0;32m--> 719\u001b[0;31m                                self.__class__.__name__, \"\\n\\t\".join(error_msgs)))\n\u001b[0m\u001b[1;32m    720\u001b[0m \u001b[0;34m\u001b[0m\u001b[0m\n\u001b[1;32m    721\u001b[0m     \u001b[0;32mdef\u001b[0m \u001b[0mparameters\u001b[0m\u001b[0;34m(\u001b[0m\u001b[0mself\u001b[0m\u001b[0;34m)\u001b[0m\u001b[0;34m:\u001b[0m\u001b[0;34m\u001b[0m\u001b[0m\n",
      "\u001b[0;31mRuntimeError\u001b[0m: Error(s) in loading state_dict for CNN_torch:\n\tMissing key(s) in state_dict: \"conv1.weight\", \"conv1.bias\", \"batch_norm1.weight\", \"batch_norm1.bias\", \"batch_norm1.running_mean\", \"batch_norm1.running_var\", \"conv2.weight\", \"conv2.bias\", \"conv3.weight\", \"conv3.bias\", \"batch_norm2.weight\", \"batch_norm2.bias\", \"batch_norm2.running_mean\", \"batch_norm2.running_var\", \"conv4.weight\", \"conv4.bias\", \"conv5.weight\", \"conv5.bias\", \"batch_norm3.weight\", \"batch_norm3.bias\", \"batch_norm3.running_mean\", \"batch_norm3.running_var\", \"conv6.weight\", \"conv6.bias\", \"conv7.weight\", \"conv7.bias\", \"batch_norm4.weight\", \"batch_norm4.bias\", \"batch_norm4.running_mean\", \"batch_norm4.running_var\", \"conv8.weight\", \"conv8.bias\", \"batch_norm5.weight\", \"batch_norm5.bias\", \"batch_norm5.running_mean\", \"batch_norm5.running_var\", \"fc1.weight\", \"fc1.bias\", \"fc2.weight\", \"fc2.bias\". \n\tUnexpected key(s) in state_dict: \"module.conv1.weight\", \"module.conv1.bias\", \"module.batch_norm1.weight\", \"module.batch_norm1.bias\", \"module.batch_norm1.running_mean\", \"module.batch_norm1.running_var\", \"module.conv2.weight\", \"module.conv2.bias\", \"module.conv3.weight\", \"module.conv3.bias\", \"module.batch_norm2.weight\", \"module.batch_norm2.bias\", \"module.batch_norm2.running_mean\", \"module.batch_norm2.running_var\", \"module.conv4.weight\", \"module.conv4.bias\", \"module.conv5.weight\", \"module.conv5.bias\", \"module.batch_norm3.weight\", \"module.batch_norm3.bias\", \"module.batch_norm3.running_mean\", \"module.batch_norm3.running_var\", \"module.conv6.weight\", \"module.conv6.bias\", \"module.conv7.weight\", \"module.conv7.bias\", \"module.batch_norm4.weight\", \"module.batch_norm4.bias\", \"module.batch_norm4.running_mean\", \"module.batch_norm4.running_var\", \"module.conv8.weight\", \"module.conv8.bias\", \"module.batch_norm5.weight\", \"module.batch_norm5.bias\", \"module.batch_norm5.running_mean\", \"module.batch_norm5.running_var\", \"module.fc1.weight\", \"module.fc1.bias\", \"module.fc2.weight\", \"module.fc2.bias\". "
     ]
    }
   ],
   "source": [
    "model = CNN_torch()\n",
    "resume = './checkpoint.pth.tar'\n",
    "checkpoint = torch.load(resume, map_location=\"cpu\")\n",
    "start_epoch = checkpoint['epoch']\n",
    "best_train_acc = checkpoint['best_train_acc']\n",
    "train_loss = checkpoint['train_loss']\n",
    "train_accuracy_epoch = checkpoint['train_accuracy_epoch']\n",
    "model.load_state_dict(checkpoint['state_dict'])\n",
    "model.eval() # load parameter\n",
    "use_cuda = torch.cuda.is_available()\n",
    "batch_size = 100\n",
    "model.train()\n",
    "test_accuracy = []\n",
    "for i in range(0, len(y_test), batch_size):\n",
    "    x_test_batch = torch.FloatTensor(x_test[i:i+batch_size, :])\n",
    "    y_test_batch = torch.LongTensor(y_test[i:i+batch_size])\n",
    "    if use_cuda:\n",
    "        data, target = Variable(x_test_batch).cuda(), Variable(y_test_batch).cuda()\n",
    "    else:\n",
    "        data, target = Variable(x_test_batch), Variable(y_test_batch)\n",
    "    output = model.forward(data)\n",
    "    mc_output = output\n",
    "    for i in range(49):\n",
    "        output = model.forward(data)\n",
    "        mc_output += output\n",
    "    loss = F.nll_loss(mc_output / 50, target)\n",
    "    prediction = output.data.max(1)[1]\n",
    "    accuracy = (float(prediction.eq(target.data).sum()) / float(batch_size))\n",
    "    test_accuracy.append(accuracy)\n",
    "accuracy_test = np.mean(test_accuracy)\n",
    "print(accuracy_test)"
   ]
  },
  {
   "cell_type": "code",
   "execution_count": null,
   "metadata": {},
   "outputs": [],
   "source": []
  }
 ],
 "metadata": {
  "kernelspec": {
   "display_name": "Python 3",
   "language": "python",
   "name": "python3"
  },
  "language_info": {
   "codemirror_mode": {
    "name": "ipython",
    "version": 3
   },
   "file_extension": ".py",
   "mimetype": "text/x-python",
   "name": "python",
   "nbconvert_exporter": "python",
   "pygments_lexer": "ipython3",
   "version": "3.6.3"
  }
 },
 "nbformat": 4,
 "nbformat_minor": 2
}
