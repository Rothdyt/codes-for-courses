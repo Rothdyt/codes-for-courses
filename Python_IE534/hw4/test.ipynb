{
 "cells": [
  {
   "cell_type": "code",
   "execution_count": 4,
   "metadata": {},
   "outputs": [],
   "source": [
    "import torchvision\n",
    "import torchvision.transforms as transforms\n",
    "\n",
    "import torch\n",
    "import torch.nn as nn\n",
    "import torch.optim as optim\n",
    "import torch.nn.functional as F\n",
    "import torch.backends.cudnn as cudnn\n",
    "from torch.autograd import Variable\n",
    "import numpy as np\n",
    "num_classes = 100"
   ]
  },
  {
   "cell_type": "code",
   "execution_count": 17,
   "metadata": {},
   "outputs": [],
   "source": [
    "# Model\n",
    "class ResidualBlock(nn.Module):\n",
    "    \n",
    "    def __init__(self, in_channels, out_channels, padding=1, stride=1):\n",
    "        super(ResidualBlock, self).__init__()\n",
    "        self.conv1 = nn.Conv2d(in_channels=in_channels, out_channels=out_channels, kernel_size=3, padding=padding, stride=stride)\n",
    "        self.batch_norm1 = nn.BatchNorm2d(num_features=out_channels)\n",
    "        self.conv2 = nn.Conv2d(in_channels=out_channels, out_channels=out_channels, kernel_size=3, padding=padding, stride=1)\n",
    "        self.batch_norm2 = nn.BatchNorm2d(num_features=out_channels)\n",
    "        \n",
    "        self.shortcut = nn.Sequential()\n",
    "        if stride != 1 or in_channels != out_channels:\n",
    "             self.shortcut = nn.Sequential(\n",
    "                 nn.Conv2d(in_channels=in_channels, out_channels=out_channels,\n",
    "                           kernel_size=1, stride=stride),\n",
    "                 nn.BatchNorm2d(num_features=out_channels)\n",
    "             )\n",
    "        \n",
    "        \n",
    "    def forward(self, x):\n",
    "        out = F.relu(self.batch_norm1(self.conv1(x)))\n",
    "        out = self.batch_norm2(self.conv2(out))\n",
    "        out += self.shortcut(x)\n",
    "        return out\n",
    "# x = np.random.randn(108).reshape((1,3,6,6))\n",
    "# x = torch.from_numpy(x)\n",
    "# model = ResidualBlock(in_channels=3, out_channels=32, stride=2)\n",
    "\n",
    "class ResNet(nn.Module):\n",
    "    def __init__(self):\n",
    "        super(ResNet, self).__init__()\n",
    "        self.conv1 = nn.Conv2d(in_channels=3, out_channels=32, \n",
    "                               kernel_size=3, padding=1, stride=1)\n",
    "        self.batch_norm1 = nn.BatchNorm2d(num_features=32)\n",
    "        self.dropout1 = nn.Dropout2d(p=0.5)\n",
    "        self.layer1 = self.repeat_blocks(in_channels=32, out_channels=32, \n",
    "                                         stride=1, padding=1, num_blocks=2)\n",
    "        self.layer2 = self.repeat_blocks(in_channels=32, out_channels=64,\n",
    "                                         num_blocks=4, stride=2, padding=1)\n",
    "        self.layer3 = self.repeat_blocks(in_channels=64, out_channels=128, \n",
    "                                         stride=2, padding=1, num_blocks=4)\n",
    "        self.layer4 = self.repeat_blocks(in_channels=128, out_channels=256, \n",
    "                                         stride=2, padding=1, num_blocks=2)\n",
    "        self.linear = nn.Linear(1024, num_classes)\n",
    "\n",
    "    def repeat_blocks(self, in_channels, out_channels, stride, padding, num_blocks): \n",
    "        blocks = []\n",
    "        for n in range(num_blocks):\n",
    "            if n == 0:\n",
    "                blocks.append(ResidualBlock(in_channels, out_channels, padding, stride))\n",
    "            else:\n",
    "                blocks.append(ResidualBlock(out_channels, out_channels, padding, stride=1))\n",
    "        return nn.Sequential(*blocks)\n",
    "\n",
    "    def forward(self, x):\n",
    "        out = F.relu(self.batch_norm1(self.conv1(x)))\n",
    "        out = self.dropout1(out)\n",
    "        out = self.layer1(out)\n",
    "        out = self.layer2(out)\n",
    "        out = self.layer3(out)\n",
    "        out = self.layer4(out)\n",
    "        out = F.max_pool2d(out, kernel_size=2, stride=2)\n",
    "        out = out.view(out.size(0), -1)\n",
    "        out = self.linear(out)\n",
    "        return out\n",
    "# x = np.random.randn(6144).reshape((2,3,32,32))\n",
    "# x = torch.from_numpy(x)\n",
    "# model = ResNet()\n",
    "# model.forward(x.float()).shape"
   ]
  },
  {
   "cell_type": "code",
   "execution_count": 22,
   "metadata": {},
   "outputs": [],
   "source": [
    "a = None\n",
    "if a:\n",
    "    print(\"got you\")"
   ]
  },
  {
   "cell_type": "code",
   "execution_count": null,
   "metadata": {},
   "outputs": [],
   "source": []
  }
 ],
 "metadata": {
  "kernelspec": {
   "display_name": "Python 3",
   "language": "python",
   "name": "python3"
  },
  "language_info": {
   "codemirror_mode": {
    "name": "ipython",
    "version": 3
   },
   "file_extension": ".py",
   "mimetype": "text/x-python",
   "name": "python",
   "nbconvert_exporter": "python",
   "pygments_lexer": "ipython3",
   "version": "3.6.3"
  }
 },
 "nbformat": 4,
 "nbformat_minor": 2
}
