{
 "cells": [
  {
   "cell_type": "code",
   "execution_count": 1,
   "metadata": {},
   "outputs": [],
   "source": [
    "import numpy as np\n",
    "import h5py\n",
    "import time \n",
    "import copy\n",
    "from scipy import signal\n",
    "file_name = \"../data/MNISTdata.hdf5\"\n",
    "data = h5py.File(file_name, \"r\")\n",
    "x_train = np.float32(data[\"x_train\"][:]).reshape(-1, 28, 28)\n",
    "y_train = np.int32(np.hstack(np.array(data[\"y_train\"]))).reshape(-1,1)\n",
    "x_test = np.float32(data[\"x_test\"][:]).reshape(-1, 28, 28)\n",
    "y_test = np.int32(np.hstack(np.array(data[\"y_test\"]))).reshape(-1,1)\n",
    "data.close()"
   ]
  },
  {
   "cell_type": "code",
   "execution_count": 2,
   "metadata": {},
   "outputs": [],
   "source": [
    "class CNN():\n",
    "    def __init__(self, x_train, y_train, x_test, y_test, num_channels=1, learning_rate=0.01, num_epochs=5):\n",
    "        self.x_train = x_train\n",
    "        self.x_test = x_test\n",
    "        self.y_train = y_train\n",
    "        self.y_test = y_test\n",
    "        \n",
    "        self.num_outputs = 10\n",
    "        self.learning_rate = learning_rate\n",
    "        self.num_epochs = num_epochs\n",
    "        self.num_channels = num_channels\n",
    "        self.d = self.x_train.shape[1]\n",
    "        \n",
    "        self.params = {}\n",
    "        r = np.random.RandomState(1234)\n",
    "        self.params[\"K\"] = r.randn(self.num_channels, 3, 3) / self.d\n",
    "        self.ky = self.params[\"K\"].shape[1]\n",
    "        self.kx = self.params[\"K\"].shape[2]\n",
    "        \n",
    "        # channels = 1\n",
    "        self.params[\"W\"] = r.randn(self.num_outputs, \n",
    "                                   self.d - self.ky + 1,\n",
    "                                   self.d - self.kx + 1) / self.d\n",
    "        self.params[\"b\"] = np.zeros((self.num_outputs, 1))\n",
    "        \n",
    "        self.gradients = {}\n",
    "        \n",
    "        print(\"training sample size: [{}]\\ntest sample size:[{}]\\nchannels:[{}]\".format(self.x_train.shape, self.x_test.shape, self.num_channels))\n",
    "\n",
    "\n",
    "    def convolution_process(self, img):\n",
    "        convoluted = np.zeros((self.params[\"K\"].shape[0],\n",
    "                               self.d - self.ky + 1, \n",
    "                               self.d - self.kx + 1 ))\n",
    "        for filter_idx in range(self.params[\"K\"].shape[0]):\n",
    "            convoluted[filter_idx, :, :] = signal.correlate2d(img[0,:,:], self.params[\"K\"][filter_idx, :, :], mode='valid', boundary='wrap')\n",
    "        return convoluted\n",
    "        \n",
    "    def relu(self, Z):\n",
    "        U = copy.deepcopy(Z)\n",
    "        U[U<=0] = 0\n",
    "        return  U\n",
    "\n",
    "    def relu_gradient(self, Z):\n",
    "        dZ = copy.deepcopy(Z)\n",
    "        dZ[dZ >= 0] = 1\n",
    "        dZ[dZ < 0] = 0\n",
    "        return  dZ\n",
    "\n",
    "    def softmax(self, U):\n",
    "        temp = np.exp(U)\n",
    "        return temp / np.sum(temp)\n",
    "\n",
    "    def forward_propagation(self):\n",
    "        random_index = np.random.randint(self.x_train.shape[0])\n",
    "        self.img = self.x_train[random_index].reshape((1, self.d, self.d))\n",
    "        self.img_label = self.y_train[random_index].reshape((-1,1))\n",
    "        self.forward_results = {}\n",
    "        self.forward_results[\"Z\"] = self.convolution_process(self.img)\n",
    "        self.forward_results[\"H\"] = self.relu(self.forward_results[\"Z\"])\n",
    "        self.forward_results[\"U\"] = np.sum(\n",
    "            np.multiply(self.params[\"W\"],self.forward_results[\"H\"]), \n",
    "            axis=(1,2)).reshape((self.num_outputs ,1)) + self.params[\"b\"]\n",
    "        self.forward_results[\"S\"] = self.softmax(self.forward_results[\"U\"])\n",
    "\n",
    "    def back_propagation(self):\n",
    "        ey = np.zeros((self.num_outputs, 1)); ey[self.img_label] = 1\n",
    "        self.gradients[\"dU\"] = - (ey - self.forward_results[\"S\"])\n",
    "        self.gradients[\"db\"] = self.gradients[\"dU\"]\n",
    "        self.gradients[\"delta\"] = np.tensordot(self.gradients[\"dU\"].squeeze(), self.params[\"W\"], axes=1)\n",
    "        self.gradients[\"dW\"] = np.tensordot(self.gradients[\"dU\"].squeeze(), self.forward_results[\"H\"][0,:,:], axes=0)\n",
    "        dsigmaZ = self.relu_gradient(self.forward_results[\"Z\"])\n",
    "        temp = np.multiply(dsigmaZ, self.gradients[\"delta\"])\n",
    "        self.gradients[\"dK\"] = signal.correlate2d(self.img[0, :,:], temp[0,:,:], mode='valid',  boundary='wrap')\n",
    "                                                         \n",
    "    def train(self):\n",
    "        for epoch in range(self.num_epochs):\n",
    "            if (epoch > 5):\n",
    "                self.learning_rate = 0.001\n",
    "            if (epoch > 10):\n",
    "                self.learning_rate = 0.0001\n",
    "            if (epoch > 15):\n",
    "                self.learning_rate = 0.00001\n",
    "            total_correct = 0\n",
    "            for i in range(int(self.x_train.shape[0])):\n",
    "                self.forward_propagation()\n",
    "                prediction_train =  np.argmax(self.forward_results[\"S\"], axis=0)\n",
    "                total_correct += np.sum(prediction_train == self.img_label)\n",
    "                self.back_propagation()\n",
    "                self.params[\"b\"] -= self.learning_rate * self.gradients[\"db\"]\n",
    "                self.params[\"W\"] -= self.learning_rate * self.gradients[\"dW\"]\n",
    "                self.params[\"K\"] -= self.learning_rate * self.gradients[\"dK\"]\n",
    "            print(\"epoch:{} | Training Accuracy:[{}]\".format(epoch+1, total_correct/(self.x_train.shape[0])))\n",
    "#     def test(self):\n",
    "        \n",
    "#         self.Z = self.convolution_process(self.img)\n",
    "#         self.forward_results[\"H\"] = self.relu(self.forward_results[\"Z\"])\n",
    "#         self.forward_results[\"U\"] = np.zeros((self.num_channels,self.num_outputs, 1))\n",
    "#         for i in range(self.num_outputs):\n",
    "#             # to modify in the future\n",
    "#             self.forward_results[\"U\"][1,i,1] = np.tensordot(self.params[\"W\"][i, :, :],\n",
    "#                                                           self.forward_results[\"H\"],\n",
    "#                                                           axes=((0,1),(0,1))\n",
    "#                                                          ) + self.params[\"b\"][i,1]\n",
    "#         # to modify in the future\n",
    "#         self.forward_results[\"S\"] = self.softmax(self.forward_results[\"U\"][1,:,:])\n",
    "\n",
    "\n",
    "#         self.prediction = np.apply_along_axis(np.argmax, 0, self.S)\n",
    "#         correct_ratio = np.mean(self.prediction == self.y_test)\n",
    "#         return correct_ratio"
   ]
  },
  {
   "cell_type": "code",
   "execution_count": 3,
   "metadata": {},
   "outputs": [
    {
     "name": "stdout",
     "output_type": "stream",
     "text": [
      "training sample size: [(60000, 28, 28)]\n",
      "test sample size:[(10000, 28, 28)]\n",
      "channels:[1]\n"
     ]
    }
   ],
   "source": [
    "myCNN = CNN(x_train, y_train, x_test, y_test,  num_channels=1, learning_rate=0.01, num_epochs=5)"
   ]
  },
  {
   "cell_type": "code",
   "execution_count": 4,
   "metadata": {},
   "outputs": [
    {
     "name": "stdout",
     "output_type": "stream",
     "text": [
      "epoch:1 | Training Accuracy:[0.8928166666666667]\n",
      "epoch:2 | Training Accuracy:[0.9150666666666667]\n",
      "epoch:3 | Training Accuracy:[0.9183666666666667]\n",
      "epoch:4 | Training Accuracy:[0.9211666666666667]\n",
      "epoch:5 | Training Accuracy:[0.9224833333333333]\n"
     ]
    }
   ],
   "source": [
    "myCNN.train()\n",
    "#myCNN.forward_propagation()\n",
    "# myCNN.back_propagation()"
   ]
  },
  {
   "cell_type": "code",
   "execution_count": 13,
   "metadata": {},
   "outputs": [],
   "source": [
    "def convolution(img, myfilter):\n",
    "    ky, kx = myfilter.shape\n",
    "    d = img.shape[1]\n",
    "    Z = np.zeros((d - ky + 1, d - kx + 1))\n",
    "    for i in range(Z.shape[0]):\n",
    "        for j in range(Z.shape[1]):\n",
    "            Z[i,j] = np.tensordot(img[0, i:(i+ky), j:(j+kx)], myfilter, axes=((0,1),(0,1)))\n",
    "    return Z"
   ]
  },
  {
   "cell_type": "code",
   "execution_count": 21,
   "metadata": {},
   "outputs": [
    {
     "data": {
      "text/plain": [
       "array([[21., 27.],\n",
       "       [39., 45.]])"
      ]
     },
     "execution_count": 21,
     "metadata": {},
     "output_type": "execute_result"
    }
   ],
   "source": [
    "img = np.array([[1,2,3], [4,5,6], [7,8,9]]).reshape((1,3,3))\n",
    "myfilter = np.array([[1,1], [2,2]])\n",
    "convolution(img, myfilter)"
   ]
  },
  {
   "cell_type": "code",
   "execution_count": 19,
   "metadata": {},
   "outputs": [
    {
     "data": {
      "text/plain": [
       "(1, 2, 3)"
      ]
     },
     "execution_count": 19,
     "metadata": {},
     "output_type": "execute_result"
    }
   ],
   "source": [
    "img = np.array([[1,2,3], [4,5,6]]).reshape((1,2,3))\n",
    "img.shape"
   ]
  },
  {
   "cell_type": "code",
   "execution_count": 35,
   "metadata": {},
   "outputs": [
    {
     "data": {
      "text/plain": [
       "array([[21, 27],\n",
       "       [39, 45]])"
      ]
     },
     "execution_count": 35,
     "metadata": {},
     "output_type": "execute_result"
    }
   ],
   "source": [
    "signal.correlate2d(img[0,:,:], myfilter, mode='valid',  boundary='wrap')"
   ]
  },
  {
   "cell_type": "code",
   "execution_count": 25,
   "metadata": {},
   "outputs": [
    {
     "data": {
      "text/plain": [
       "array([[1, 2, 3],\n",
       "       [4, 5, 6],\n",
       "       [7, 8, 9]])"
      ]
     },
     "execution_count": 25,
     "metadata": {},
     "output_type": "execute_result"
    }
   ],
   "source": [
    "img[0,:,:]"
   ]
  },
  {
   "cell_type": "code",
   "execution_count": 2,
   "metadata": {},
   "outputs": [
    {
     "data": {
      "text/plain": [
       "array([[[-1.,  0.],\n",
       "        [ 3.,  4.],\n",
       "        [ 5., -6.]],\n",
       "\n",
       "       [[ 7.,  8.],\n",
       "        [-9.,  2.],\n",
       "        [-5.,  9.]]], dtype=float32)"
      ]
     },
     "execution_count": 2,
     "metadata": {},
     "output_type": "execute_result"
    }
   ],
   "source": [
    "a = np.float32(np.array([[-1,0,3], [4,5,-6], [7,8,-9], [2, -5,9]]).reshape((2,3,2)))\n",
    "a"
   ]
  },
  {
   "cell_type": "code",
   "execution_count": 15,
   "metadata": {},
   "outputs": [],
   "source": [
    "a[a == 0] = 1e-8\n",
    "a[a >=0] = 1\n",
    "a[a< 0] = 0"
   ]
  },
  {
   "cell_type": "code",
   "execution_count": 16,
   "metadata": {},
   "outputs": [
    {
     "data": {
      "text/plain": [
       "array([[[0., 1.],\n",
       "        [1., 1.],\n",
       "        [1., 0.]],\n",
       "\n",
       "       [[1., 1.],\n",
       "        [0., 1.],\n",
       "        [0., 1.]]], dtype=float32)"
      ]
     },
     "execution_count": 16,
     "metadata": {},
     "output_type": "execute_result"
    }
   ],
   "source": [
    "a"
   ]
  },
  {
   "cell_type": "code",
   "execution_count": 5,
   "metadata": {},
   "outputs": [
    {
     "data": {
      "text/plain": [
       "array([[[0., 0.],\n",
       "        [3., 4.],\n",
       "        [5., 0.]],\n",
       "\n",
       "       [[7., 8.],\n",
       "        [0., 2.],\n",
       "        [0., 9.]]], dtype=float32)"
      ]
     },
     "execution_count": 5,
     "metadata": {},
     "output_type": "execute_result"
    }
   ],
   "source": [
    "def relu(Z):\n",
    "    \"\"\"\n",
    "    Z: must be of size (num_channels, d - ky + 1, d - kx + 1)\n",
    "    \"\"\"\n",
    "    U = copy.deepcopy(Z)\n",
    "    U[U<=0] = 0\n",
    "    return  U\n",
    "relu(a)"
   ]
  },
  {
   "cell_type": "code",
   "execution_count": 22,
   "metadata": {},
   "outputs": [
    {
     "data": {
      "text/plain": [
       "60000"
      ]
     },
     "execution_count": 22,
     "metadata": {},
     "output_type": "execute_result"
    }
   ],
   "source": [
    "x_train.shape[0]"
   ]
  },
  {
   "cell_type": "code",
   "execution_count": null,
   "metadata": {},
   "outputs": [],
   "source": []
  }
 ],
 "metadata": {
  "kernelspec": {
   "display_name": "Python 3",
   "language": "python",
   "name": "python3"
  },
  "language_info": {
   "codemirror_mode": {
    "name": "ipython",
    "version": 3
   },
   "file_extension": ".py",
   "mimetype": "text/x-python",
   "name": "python",
   "nbconvert_exporter": "python",
   "pygments_lexer": "ipython3",
   "version": "3.6.3"
  }
 },
 "nbformat": 4,
 "nbformat_minor": 2
}
