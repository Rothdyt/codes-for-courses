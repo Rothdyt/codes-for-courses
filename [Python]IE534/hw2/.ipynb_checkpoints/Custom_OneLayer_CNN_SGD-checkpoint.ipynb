{
 "cells": [
  {
   "cell_type": "code",
   "execution_count": 1,
   "metadata": {},
   "outputs": [
    {
     "name": "stderr",
     "output_type": "stream",
     "text": [
      "C:\\Users\\LEN\\Anaconda3\\lib\\site-packages\\h5py\\__init__.py:34: FutureWarning: Conversion of the second argument of issubdtype from `float` to `np.floating` is deprecated. In future, it will be treated as `np.float64 == np.dtype(float).type`.\n",
      "  from ._conv import register_converters as _register_converters\n"
     ]
    }
   ],
   "source": [
    "# Import Module\n",
    "import numpy as np\n",
    "import pandas as pd\n",
    "import matplotlib.pyplot as plt\n",
    "import h5py"
   ]
  },
  {
   "cell_type": "code",
   "execution_count": 2,
   "metadata": {
    "collapsed": true
   },
   "outputs": [],
   "source": [
    "# Read data, which has a size of N * 784 and N * 1\n",
    "MNIST = h5py.File(\"..\\MNISTdata.hdf5\",'r')\n",
    "x_train = np.float32(MNIST['x_train'][:])\n",
    "x_test = np.float32(MNIST['x_test'][:])\n",
    "y_train = np.int32(MNIST['y_train'][:,0])\n",
    "y_test = np.int32(MNIST['y_test'][:,0])"
   ]
  },
  {
   "cell_type": "code",
   "execution_count": 4,
   "metadata": {
    "collapsed": true
   },
   "outputs": [],
   "source": [
    "# Reshape samples as 28 * 28 images\n",
    "x_trainnew = np.reshape(x_train, (len(x_train),28,28))\n",
    "x_testnew = np.reshape(x_test, (len(x_test),28,28))"
   ]
  },
  {
   "cell_type": "code",
   "execution_count": 3,
   "metadata": {
    "collapsed": true
   },
   "outputs": [],
   "source": [
    "# Build activate functions\n",
    "relu = lambda x: x*(x>0)\n",
    "\n",
    "# Input a m * n matrix, output a m * n matrix whose rows are transformed and normalized\n",
    "def softmax(X):\n",
    "    Xexp = np.exp(X)\n",
    "    return Xexp / np.sum(Xexp,axis=1,keepdims=True)"
   ]
  },
  {
   "cell_type": "code",
   "execution_count": 5,
   "metadata": {
    "collapsed": true
   },
   "outputs": [],
   "source": [
    "# Initialize the parameters\n",
    "def param_init(input_size, kernel_size, output_size):\n",
    "    lx = input_size # 2-dim\n",
    "    lk = kernel_size # 2-dim\n",
    "    lh = (lx[0]-lk[0]+1, lx[1]-lk[1]+1) # Hidden layer size, 2-dim\n",
    "    ly = output_size # 1-dim\n",
    "    K = np.random.randn(lk[0],lk[1]) / max(lx)\n",
    "    W = np.random.randn(ly,lh[0],lh[1]) / max(lx)\n",
    "    b = np.zeros(ly)\n",
    "    \n",
    "    return K,W,b"
   ]
  },
  {
   "cell_type": "code",
   "execution_count": 6,
   "metadata": {
    "collapsed": true
   },
   "outputs": [],
   "source": [
    "K,W,b = param_init((28,28),(3,3),10)"
   ]
  },
  {
   "cell_type": "code",
   "execution_count": 31,
   "metadata": {
    "collapsed": true
   },
   "outputs": [],
   "source": [
    "# Build the forward step\n",
    "# Model: Z = X * K → H = relu(Z) → U = WH + b → Yhat = softmax(U)\n",
    "def Convolution(image, kernel):\n",
    "    d1,d2 = image.shape\n",
    "    k1,k2 = kernel.shape\n",
    "    output_a = d1 - k1 + 1\n",
    "    output_b = d2 - k2 + 1\n",
    "    conv = np.zeros((output_a,output_b))\n",
    "    for a in range(output_a):\n",
    "        for b in range(output_b):\n",
    "            conv[a,b] = np.sum(np.multiply(image[a:a+k1,b:b+k2], kernel))\n",
    "    return conv\n",
    "\n",
    "def forward_prop(X,K,W,b):\n",
    "    # Input to Hidden layer\n",
    "    Z = Convolution(X,K) # Shape: (lx[0]-lk[0]+1, lx[1]-lk[1]+1)\n",
    "    H = relu(Z) # Shape: (lx[0]-lk[0]+1, lx[1]-lk[1]+1)\n",
    "    \n",
    "    # Hidden layer to Output\n",
    "    U = np.sum(np.multiply(W,H), axis=(1,2)) + b # Shape: (1 * ly)\n",
    "    U.shape = (1,W.shape[0])\n",
    "    Yhat = softmax(U) # Shape: (1 * ly)\n",
    "    \n",
    "    return Z, H, Yhat"
   ]
  },
  {
   "cell_type": "code",
   "execution_count": 8,
   "metadata": {
    "collapsed": true
   },
   "outputs": [],
   "source": [
    "N = x_trainnew.shape[0]\n",
    "r = np.random.randint(N)\n",
    "x_samp = x_trainnew[r,:,:]\n",
    "\n",
    "Y_oh = np.array(pd.get_dummies(np.squeeze(y_train)))\n",
    "y_samp = Y_oh[[r]]"
   ]
  },
  {
   "cell_type": "code",
   "execution_count": 9,
   "metadata": {
    "collapsed": true
   },
   "outputs": [],
   "source": [
    "Z, H, Yhat = forward_prop(x_samp,K,W,b)"
   ]
  },
  {
   "cell_type": "code",
   "execution_count": 7,
   "metadata": {
    "collapsed": true
   },
   "outputs": [],
   "source": [
    "# Build the back-propagation step\n",
    "def back_prop(K,W,b,Z,H,Yhat,X,Y,alpha):\n",
    "    bDel = Y - Yhat # Length ly\n",
    "    bDel = np.squeeze(bDel)\n",
    "    WDel = np.tensordot(bDel, H, axes=0) # Shape (ly, lx[0]-lk[0]+1, lx[1]-lk[1]+1)\n",
    "    HDel = np.tensordot(bDel, W, axes=1) # Shape (lx[0]-lk[0]+1, lx[1]-lk[1]+1)\n",
    "    ZDel = np.multiply(HDel,(lambda x:(x>0))(Z)) # Shape (lx[0]-lk[0]+1, lx[1]-lk[1]+1)\n",
    "    KDel = Convolution(X,ZDel) # Shape: (lk[0], lk[1])\n",
    "    #KDel = np.zeros(KDel.shape)\n",
    "    #WDel = np.zeros(WDel.shape)\n",
    "    #bDel = np.zeros(bDel.shape)\n",
    "    \n",
    "    bn = b + alpha * bDel # Length ly\n",
    "    Wn = W + alpha * WDel # Shape (ly, lx[0]-lk[0]+1, lx[1]-lk[1]+1)\n",
    "    Kn = K + alpha * KDel # Shape (1k[0], lk[1])\n",
    "    \n",
    "    return Kn,Wn,bn"
   ]
  },
  {
   "cell_type": "code",
   "execution_count": 15,
   "metadata": {
    "collapsed": true
   },
   "outputs": [],
   "source": [
    "alpha = 0.01\n",
    "bDel,WDel,KDel = back_prop(K,W,b,Z,H,Yhat,x_samp,y_samp,alpha)"
   ]
  },
  {
   "cell_type": "code",
   "execution_count": 27,
   "metadata": {
    "collapsed": true
   },
   "outputs": [],
   "source": [
    "# Build the complete Neural Network\n",
    "def TwoLayer_CNN_train(X, Y, ChannelSize = (3,3), NumChannel = 1, OrigAlpha = 0.01, num_epochs = 10):    \n",
    "    # Recode Y as One-Hot\n",
    "    Y_oh = np.array(pd.get_dummies(np.squeeze(Y)))\n",
    "    \n",
    "    # Indicate number of units per layer\n",
    "    N = X.shape[0] # Number of samples\n",
    "    xsize = X.shape[1:] # Size of every sample\n",
    "    ksize = ChannelSize # Size of the channel\n",
    "    ysize = Y_oh.shape[1] # Number of classes\n",
    "    \n",
    "    # Initialized the parameters\n",
    "    K,W,b = param_init(xsize,ksize,ysize)\n",
    "    \n",
    "    # Run 20 train iterations, record the error every time\n",
    "    for epoch in range(num_epochs):\n",
    "        if epoch <= 5:\n",
    "            alpha = OrigAlpha\n",
    "        elif epoch <= 10: \n",
    "            alpha = OrigAlpha * 1e-1\n",
    "        elif epoch <= 15:\n",
    "            alpha = OrigAlpha * 1e-2\n",
    "        else:\n",
    "            alpha = OrigAlpha * 1e-3\n",
    "        total_cor = 0\n",
    "        for n in range(int(N/6)):\n",
    "            r = np.random.randint(N)\n",
    "            x_samp = X[r,:,:]\n",
    "            y_samp = Y_oh[[r]]\n",
    "            # Forward\n",
    "            Z, H, Yhat = forward_prop(x_samp,K,W,b)\n",
    "            pred = np.argmax(Yhat)\n",
    "            if pred==Y[r]:\n",
    "                total_cor += 1\n",
    "            # Backward\n",
    "            K,W,b = back_prop(K,W,b,Z,H,Yhat,x_samp,y_samp,alpha)\n",
    "        print(\"Training Accuracy: \",total_cor / np.float(N/6))\n",
    "    return K,W,b"
   ]
  },
  {
   "cell_type": "code",
   "execution_count": 28,
   "metadata": {},
   "outputs": [
    {
     "name": "stdout",
     "output_type": "stream",
     "text": [
      "Training Accuracy:  0.8487\n",
      "Training Accuracy:  0.8944\n",
      "Training Accuracy:  0.9117\n",
      "Training Accuracy:  0.9087\n",
      "Training Accuracy:  0.9111\n",
      "Training Accuracy:  0.9134\n",
      "Training Accuracy:  0.9269\n",
      "Training Accuracy:  0.9222\n",
      "Training Accuracy:  0.9241\n",
      "Training Accuracy:  0.9285\n"
     ]
    }
   ],
   "source": [
    "K,W,b = TwoLayer_CNN_train(x_trainnew, y_train, OrigAlpha=0.01, num_epochs=10)"
   ]
  },
  {
   "cell_type": "code",
   "execution_count": 29,
   "metadata": {
    "collapsed": true
   },
   "outputs": [],
   "source": [
    "# For a given neural network, predict an input X\n",
    "def predict_NN(X,K,W,b):\n",
    "    X_predprob = forward_prop(X,K,W,b)[2]\n",
    "    X_pred = X_predprob.argmax(axis=1) # Take the biggest probability as its choice\n",
    "    return X_pred"
   ]
  },
  {
   "cell_type": "code",
   "execution_count": null,
   "metadata": {
    "collapsed": true
   },
   "outputs": [],
   "source": [
    "# Predict on test set\n",
    "# Still has problems!\n",
    "y_predtest = predict_NN(x_testnew,K,W,b)\n",
    "np.sum(y_predtest == y_test) / x_testnew.shape[0]"
   ]
  },
  {
   "cell_type": "code",
   "execution_count": null,
   "metadata": {
    "collapsed": true
   },
   "outputs": [],
   "source": [
    "Ut = np.array([1,2,3])\n",
    "Ut.shape = (1,3)\n",
    "Wt = np.array([[[1,1],[2,2]],[[3,3],[4,4]],[[5,5],[6,6]]])\n",
    "Ht = np.array([[0.3,0.3],[0.4,0.4]])\n",
    "kt = np.sum(np.multiply(Wt,Ht),axis=(1,2))"
   ]
  },
  {
   "cell_type": "code",
   "execution_count": null,
   "metadata": {
    "collapsed": true
   },
   "outputs": [],
   "source": [
    "np.tensordot(Ut,Wt,axes=1)"
   ]
  }
 ],
 "metadata": {
  "kernelspec": {
   "display_name": "Python 3",
   "language": "python",
   "name": "python3"
  },
  "language_info": {
   "codemirror_mode": {
    "name": "ipython",
    "version": 3
   },
   "file_extension": ".py",
   "mimetype": "text/x-python",
   "name": "python",
   "nbconvert_exporter": "python",
   "pygments_lexer": "ipython3",
   "version": "3.6.3"
  }
 },
 "nbformat": 4,
 "nbformat_minor": 2
}
