{
 "cells": [
  {
   "cell_type": "code",
   "execution_count": 9,
   "metadata": {},
   "outputs": [],
   "source": [
    "import numpy as np\n",
    "import torch\n",
    "import torch.nn as nn\n",
    "import torch.nn.functional as F\n",
    "import torch.optim as optim\n",
    "from torch.autograd import Variable\n",
    "import h5py\n",
    "import time\n",
    "\n",
    "file_name = \"../data/MNISTdata.hdf5\"\n",
    "# data = h5py.File(file_name, \"r\")\n",
    "# x_train = np.float32(data[\"x_train\"][:]).reshape(-1, 28, 28)\n",
    "# x_train = torch.from_numpy(np.expand_dims(x_train, axis=1)) \n",
    "# y_train = torch.from_numpy(np.int32(np.hstack(np.array(data[\"y_train\"]))).reshape(-1,1))\n",
    "# x_test = np.float32(data[\"x_test\"][:]).reshape(-1, 28, 28)\n",
    "# x_test = torch.from_numpy(np.expand_dims(x_test, axis=1)) \n",
    "# y_test = torch.from_numpy(np.int32(np.hstack(np.array(data[\"y_test\"]))).reshape(-1,1))\n",
    "# data.close()\n",
    "\n",
    "MNIST_data = h5py.File(file_name, 'r')\n",
    "x_train = np.float32(MNIST_data['x_train'][:] ).reshape(-1, 28, 28)\n",
    "x_train = torch.from_numpy(np.expand_dims(x_train, axis=1)) \n",
    "y_train = np.int32(np.array(MNIST_data['y_train'][:,0]))\n",
    "x_test = np.float32( MNIST_data['x_test'][:] ).reshape(-1, 28, 28)\n",
    "x_test = torch.from_numpy(np.expand_dims(x_test, axis=1)) \n",
    "y_test = np.int32( np.array( MNIST_data['y_test'][:,0] ) )\n",
    "MNIST_data.close()\n"
   ]
  },
  {
   "cell_type": "code",
   "execution_count": 10,
   "metadata": {},
   "outputs": [],
   "source": [
    "class CNN_torch(nn.Module):\n",
    "    def __init__(self):\n",
    "        super().__init__()\n",
    "        self.conv1 = nn.Conv2d(1, 5, 5, bias=False)\n",
    "        self.fc1 = nn.Linear(5 * 24 * 24, 10)\n",
    "    def forward(self, x):\n",
    "        x = F.relu(self.conv1(x))\n",
    "        x = x.view(-1, self.num_flat_features(x))\n",
    "        x = self.fc1(x)\n",
    "        return F.log_softmax(x, dim=1)\n",
    "    def num_flat_features(self, x):\n",
    "        size = x.size()[1:]  # all dimensions except the batch dimension\n",
    "        num_features = 1\n",
    "        for s in size:\n",
    "            num_features *= s\n",
    "        return num_features"
   ]
  },
  {
   "cell_type": "code",
   "execution_count": 11,
   "metadata": {},
   "outputs": [],
   "source": [
    "model = CNN_torch()\n",
    "optimizer = optim.SGD(model.parameters(), lr=0.1)\n",
    "batch_size = 100\n",
    "num_epoch = 5\n",
    "L_Y_train = len(y_train)\n",
    "model.train()\n",
    "train_loss = []"
   ]
  },
  {
   "cell_type": "code",
   "execution_count": 17,
   "metadata": {},
   "outputs": [
    {
     "name": "stdout",
     "output_type": "stream",
     "text": [
      "1 0.9781166666666669\n",
      "2 0.9793666666666667\n",
      "3 0.9809\n",
      "4 0.9822000000000001\n",
      "5 0.9828833333333333\n"
     ]
    }
   ],
   "source": [
    "for epoch in range(num_epoch):\n",
    "    index_permutation = np.random.permutation(L_Y_train)\n",
    "    x_train = x_train[index_permutation, :]\n",
    "    y_train = y_train[index_permutation]\n",
    "    train_accuracy = []\n",
    "    for i in range(0, L_Y_train, batch_size):\n",
    "        x_train_batch = torch.FloatTensor(x_train[i:i+batch_size, :])\n",
    "        y_train_batch = torch.LongTensor(y_train[i:i+batch_size])\n",
    "        data, target = Variable(x_train_batch), Variable(y_train_batch)\n",
    "        optimizer.zero_grad()\n",
    "        output = model(data)\n",
    "        loss = F.nll_loss(output, target)\n",
    "        loss.backward()\n",
    "        train_loss.append(loss.item())#loss.data[0] version conflict\n",
    "        optimizer.step()\n",
    "        prediction = output.data.max(1)[1]\n",
    "        accuracy = (float(prediction.eq(target.data).sum()) / float(batch_size))\n",
    "        train_accuracy.append(accuracy)\n",
    "    accuracy_epcoh = np.mean(train_accuracy)\n",
    "    print(epoch+1, accuracy_epcoh)"
   ]
  },
  {
   "cell_type": "code",
   "execution_count": null,
   "metadata": {},
   "outputs": [],
   "source": []
  }
 ],
 "metadata": {
  "kernelspec": {
   "display_name": "Python 3",
   "language": "python",
   "name": "python3"
  },
  "language_info": {
   "codemirror_mode": {
    "name": "ipython",
    "version": 3
   },
   "file_extension": ".py",
   "mimetype": "text/x-python",
   "name": "python",
   "nbconvert_exporter": "python",
   "pygments_lexer": "ipython3",
   "version": "3.6.3"
  }
 },
 "nbformat": 4,
 "nbformat_minor": 2
}
