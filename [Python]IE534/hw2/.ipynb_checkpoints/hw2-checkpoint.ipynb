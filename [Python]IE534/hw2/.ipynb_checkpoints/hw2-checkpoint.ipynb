{
 "cells": [
  {
   "cell_type": "code",
   "execution_count": 1,
   "metadata": {},
   "outputs": [],
   "source": [
    "import numpy as np\n",
    "import h5py\n",
    "import time \n",
    "import copy\n",
    "from scipy import signal\n",
    "file_name = \"../data/MNISTdata.hdf5\"\n",
    "data = h5py.File(file_name, \"r\")\n",
    "x_train = np.float32(data[\"x_train\"][:]).reshape(-1, 28, 28)\n",
    "y_train = np.int32(np.hstack(np.array(data[\"y_train\"]))).reshape(-1,1)\n",
    "x_test = np.float32(data[\"x_test\"][:]).reshape(-1, 28, 28)\n",
    "y_test = np.int32(np.hstack(np.array(data[\"y_test\"]))).reshape(-1,1)\n",
    "data.close()"
   ]
  },
  {
   "cell_type": "code",
   "execution_count": 8,
   "metadata": {},
   "outputs": [],
   "source": [
    "def relu(x):\n",
    "    x[x<=0] = 0\n",
    "    return x\n",
    "def relu_gradient(x):\n",
    "    x[x>=0] = 1\n",
    "    x[x<0] = 0\n",
    "    return x\n",
    "def softmax(U):\n",
    "    temp = np.exp(U)\n",
    "    return temp / np.sum(temp)\n",
    "def convolution_process(img, myfilter):\n",
    "    num_channels= myfilter.shape[0]\n",
    "    ky = myfilter.shape[1]\n",
    "    kx = myfilter.shape[2]\n",
    "    d = img.shape[1]\n",
    "    convoluted = np.zeros((num_channels, d - ky + 1, d - kx + 1))\n",
    "    for filter_idx in range(num_channels):\n",
    "        convoluted[filter_idx, :, :] = signal.correlate2d(img[0,:,:], myfilter[filter_idx, :, :], mode='valid', boundary='wrap')\n",
    "    return convoluted"
   ]
  },
  {
   "cell_type": "code",
   "execution_count": 9,
   "metadata": {},
   "outputs": [],
   "source": [
    "def parameter_initilization(image_size =28, num_channels=1, num_outputs = 10):\n",
    "    d = image_size\n",
    "    params = {}\n",
    "    r = np.random.RandomState(1234)\n",
    "    params[\"K\"] = r.randn(num_channels, 3, 3) / d\n",
    "    ky = params[\"K\"].shape[1]\n",
    "    kx = params[\"K\"].shape[2]\n",
    "    params[\"W\"] = r.randn(num_outputs, \n",
    "                                  d - ky + 1,\n",
    "                                  d - kx + 1) / d\n",
    "    params[\"b\"] = np.zeros((num_outputs, 1))\n",
    "    return params\n",
    "#     gradients = {}\n",
    "#     gradients[\"dW\"] = np.random.randn(num_outputs, \n",
    "#                                        d - ky + 1,\n",
    "#                                        d - kx + 1)\n",
    "#     gradients[\"delta\"] = np.zeros((d - ky + 1,\n",
    "#                                        d - kx + 1))"
   ]
  },
  {
   "cell_type": "code",
   "execution_count": 13,
   "metadata": {},
   "outputs": [],
   "source": [
    "def forward_prop(img, params):\n",
    "    forward_results = {}\n",
    "    forward_results[\"Z\"] = convolution_process(img, params[\"K\"])\n",
    "    forward_results[\"H\"] = relu(forward_results[\"Z\"])\n",
    "    forward_results[\"U\"] = np.sum(np.multiply(params[\"W\"], \n",
    "                                              forward_results[\"H\"]), axis=(1,2)).reshape(10, 1) + params[\"b\"]\n",
    "    forward_results[\"S\"] = softmax(forward_results[\"U\"])\n",
    "    return forward_results"
   ]
  },
  {
   "cell_type": "code",
   "execution_count": null,
   "metadata": {},
   "outputs": [],
   "source": [
    "def back_prop(params, forward_results, img_label):\n",
    "    gradients = {}\n",
    "    num_outputs =  forward_results[\"S\"].shape[0]\n",
    "    dim1 = forward_results[\"Z\"].shape[1]\n",
    "    dim2 = forward_results[\"Z\"].shape[2]\n",
    "    ey = np.zeros((num_outputs, 1)); ey[img_label] = 1\n",
    "    gradients[\"dU\"] = - (ey - forward_results[\"S\"])\n",
    "    gradients[\"db\"] = gradients[\"dU\"]\n",
    "    for k in range(num_outputs):\n",
    "        gradients[\"dW\"][k,:, :] = gradients[\"dU\"][k,0] * forward_results[\"H\"][0,:,:]\n",
    "    for i in range(dim1):\n",
    "        for j in range(dim2):\n",
    "                gradients[\"delta\"][i,j] = np.sum(np.multiply(gradients[\"dU\"],\n",
    "                                                             params[\"W\"][:,i,j])\n",
    "                                                     )\n",
    "    dsigmaZ = relu_gradient(forward_results[\"Z\"])\n",
    "    temp = np.multiply(dsigmaZ, self.gradients[\"delta\"])\n",
    "    self.gradients[\"dK\"] = signal.correlate2d(self.img[0, :,:], temp[0,:,:], mode='valid',  boundary='wrap')\n"
   ]
  },
  {
   "cell_type": "code",
   "execution_count": 16,
   "metadata": {},
   "outputs": [],
   "source": [
    "img = x_train[0].reshape((1, 28, 28))\n",
    "params = parameter_initilization(image_size =28, num_channels=1, num_outputs = 10)\n",
    "forward_results = forward_prop(img, params)"
   ]
  },
  {
   "cell_type": "code",
   "execution_count": 17,
   "metadata": {},
   "outputs": [
    {
     "data": {
      "text/plain": [
       "(10, 1)"
      ]
     },
     "execution_count": 17,
     "metadata": {},
     "output_type": "execute_result"
    }
   ],
   "source": [
    "forward_results[\"S\"].shape"
   ]
  },
  {
   "cell_type": "code",
   "execution_count": 43,
   "metadata": {},
   "outputs": [],
   "source": [
    "a = np.arange(8).reshape(2,2,2)\n",
    "b = np.arange(4).reshape(1,2,2)"
   ]
  },
  {
   "cell_type": "code",
   "execution_count": 45,
   "metadata": {},
   "outputs": [
    {
     "data": {
      "text/plain": [
       "array([[[0, 1],\n",
       "        [2, 3]],\n",
       "\n",
       "       [[4, 5],\n",
       "        [6, 7]]])"
      ]
     },
     "execution_count": 45,
     "metadata": {},
     "output_type": "execute_result"
    }
   ],
   "source": [
    "a"
   ]
  },
  {
   "cell_type": "code",
   "execution_count": 46,
   "metadata": {},
   "outputs": [
    {
     "data": {
      "text/plain": [
       "array([[[0, 1],\n",
       "        [2, 3]]])"
      ]
     },
     "execution_count": 46,
     "metadata": {},
     "output_type": "execute_result"
    }
   ],
   "source": [
    "b"
   ]
  },
  {
   "cell_type": "code",
   "execution_count": 49,
   "metadata": {},
   "outputs": [
    {
     "data": {
      "text/plain": [
       "array([[[ 0,  1],\n",
       "        [ 4,  9]],\n",
       "\n",
       "       [[ 0,  5],\n",
       "        [12, 21]]])"
      ]
     },
     "execution_count": 49,
     "metadata": {},
     "output_type": "execute_result"
    }
   ],
   "source": [
    "np.multiply(a, b)"
   ]
  },
  {
   "cell_type": "code",
   "execution_count": 20,
   "metadata": {},
   "outputs": [
    {
     "data": {
      "text/plain": [
       "array([[0.],\n",
       "       [0.],\n",
       "       [1.],\n",
       "       [0.],\n",
       "       [0.],\n",
       "       [0.],\n",
       "       [0.],\n",
       "       [0.],\n",
       "       [0.],\n",
       "       [0.]])"
      ]
     },
     "execution_count": 20,
     "metadata": {},
     "output_type": "execute_result"
    }
   ],
   "source": [
    "ey = np.zeros((10, 1))\n",
    "ey[2] = 1\n",
    "ey"
   ]
  },
  {
   "cell_type": "code",
   "execution_count": null,
   "metadata": {},
   "outputs": [],
   "source": []
  }
 ],
 "metadata": {
  "kernelspec": {
   "display_name": "Python 3",
   "language": "python",
   "name": "python3"
  },
  "language_info": {
   "codemirror_mode": {
    "name": "ipython",
    "version": 3
   },
   "file_extension": ".py",
   "mimetype": "text/x-python",
   "name": "python",
   "nbconvert_exporter": "python",
   "pygments_lexer": "ipython3",
   "version": "3.6.3"
  }
 },
 "nbformat": 4,
 "nbformat_minor": 2
}
