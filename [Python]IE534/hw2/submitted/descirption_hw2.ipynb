{
 "cells": [
  {
   "cell_type": "markdown",
   "metadata": {},
   "source": [
    "Yutong Dai, yutongd3@illinois.edu"
   ]
  },
  {
   "cell_type": "markdown",
   "metadata": {},
   "source": [
    "# A few notes on tensor operations in numpy\n",
    "\n",
    "The implementation is straightforward. For forward steps, first conduct convolution operations on input image, and then do element-wise non-linear transformation. After doing a linear transformation, we apply the softmax function to get the final results. For backward steps, using the chain rule to calculate the partial derivatives with respect to $W,b,K$ and then update them.\n",
    "\n",
    "Only thing needs to be specifically addressed here is tensor operations, which consume must of the time.\n",
    "To calculate the \"convolution\" operation defined by the lecture note, which is indeed more often referred as cross-correlation, can be done with the function `signal.correlate2d` in `scipy`. However we can not use it. So I write my own `Convolution` function."
   ]
  },
  {
   "cell_type": "code",
   "execution_count": 1,
   "metadata": {},
   "outputs": [
    {
     "data": {
      "text/plain": [
       "array([[27., 37.],\n",
       "       [57., 67.]])"
      ]
     },
     "execution_count": 1,
     "metadata": {},
     "output_type": "execute_result"
    }
   ],
   "source": [
    "import numpy as np\n",
    "a = np.arange(9).reshape((3,3))\n",
    "b = np.array([[1,2], [3,4]])\n",
    "def Convolution(image, myfilter):\n",
    "    d = image.shape[-1]\n",
    "    ky, kx = myfilter.shape\n",
    "    conv = np.zeros((d - ky + 1, d - kx + 1))\n",
    "    for i in range(d - ky + 1):\n",
    "        for j in range(d - kx + 1):\n",
    "            conv[i,j] = np.sum(np.multiply(image[i:i+ky,j:j+kx], myfilter))\n",
    "    return conv\n",
    "Convolution(a, b)"
   ]
  },
  {
   "cell_type": "markdown",
   "metadata": {},
   "source": [
    "To calculate $U_k = W_{k,:,:,:} \\cdot H + b_k$ in a more efficient way, where $\\cdot$ is the element-wise-multiplication-and-summation on tensors, we can utilize `numpy.tensordot`."
   ]
  },
  {
   "cell_type": "code",
   "execution_count": 3,
   "metadata": {},
   "outputs": [
    {
     "data": {
      "text/plain": [
       "array([[140],\n",
       "       [364],\n",
       "       [588]])"
      ]
     },
     "execution_count": 3,
     "metadata": {},
     "output_type": "execute_result"
    }
   ],
   "source": [
    "W = np.arange(24).reshape((3,2,2,2))\n",
    "H = np.arange(8).reshape((2,2,2))\n",
    "np.tensordot(W, H, axes=3).reshape(3,1)"
   ]
  },
  {
   "cell_type": "markdown",
   "metadata": {},
   "source": [
    "To calculate the $\\delta$, which is a $(d-k_y+1, d - k_x + 1, C)$ tensor in a more efficient way we need use `numpy.squeeze`, `numpy.tensordot`, and the broadcast mechanism. Note the `squeeze` step is a must to avoid dimension issues."
   ]
  },
  {
   "cell_type": "code",
   "execution_count": 5,
   "metadata": {},
   "outputs": [
    {
     "data": {
      "text/plain": [
       "array([[[ 64,  70],\n",
       "        [ 76,  82]],\n",
       "\n",
       "       [[ 88,  94],\n",
       "        [100, 106]]])"
      ]
     },
     "execution_count": 5,
     "metadata": {},
     "output_type": "execute_result"
    }
   ],
   "source": [
    "dU = np.array([1,2,3])\n",
    "W = np.arange(24).reshape((3,2,2,2))\n",
    "np.tensordot(dU.squeeze(), W, axes=1)"
   ]
  },
  {
   "cell_type": "markdown",
   "metadata": {},
   "source": [
    "Similarly, for calculating $dW$, we can use code below."
   ]
  },
  {
   "cell_type": "code",
   "execution_count": 7,
   "metadata": {},
   "outputs": [
    {
     "data": {
      "text/plain": [
       "array([[[[ 0,  1],\n",
       "         [ 2,  3]],\n",
       "\n",
       "        [[ 4,  5],\n",
       "         [ 6,  7]]],\n",
       "\n",
       "\n",
       "       [[[ 0,  2],\n",
       "         [ 4,  6]],\n",
       "\n",
       "        [[ 8, 10],\n",
       "         [12, 14]]]])"
      ]
     },
     "execution_count": 7,
     "metadata": {},
     "output_type": "execute_result"
    }
   ],
   "source": [
    "dU = np.array([1,2])\n",
    "H = np.arange(8).reshape((2,2,2))\n",
    "np.tensordot(dU.squeeze(), H, axes=0)"
   ]
  },
  {
   "cell_type": "markdown",
   "metadata": {},
   "source": [
    "# Experiments\n",
    "If I train the CNN on the`MNIST` dataset based on my own `Convolution` function, the results are summarized below. "
   ]
  },
  {
   "cell_type": "markdown",
   "metadata": {},
   "source": [
    "* Parameters\n",
    "\n",
    "    ```\n",
    "    training sample size: [(60000, 28, 28)]\n",
    "    test sample size:[(10000, 28, 28)]\n",
    "    channels:[5]\n",
    "    filter_size: 5 * 5 * 5\n",
    "    Gaussian noise for W and K with proper normalizing constants.\n",
    "    ```\n",
    "\n",
    "* Learning Rate: Follow the lecture notes.\n",
    "\n",
    "    Training accuracy for each epoch, where a epoch is defined as sampling a input from `x_train` for 60000 times.\n",
    "\n",
    "    ```\n",
    "    epoch:1 | Training Accuracy:[0.9484166666666667]\n",
    "\n",
    "    epoch:2 | Training Accuracy:[0.9765]\n",
    "\n",
    "    epoch:3 | Training Accuracy:[0.9808]\n",
    "\n",
    "    epoch:4 | Training Accuracy:[0.9850166666666667]\n",
    "\n",
    "    epoch:5 | Training Accuracy:[0.9872166666666666]\n",
    "    ```\n",
    "\n"
   ]
  },
  {
   "cell_type": "markdown",
   "metadata": {},
   "source": [
    "**Results:**\n",
    "\n",
    "It took `5594.425630331039` seconds. (This result is run on a server.)\n",
    "\n",
    "Test accuracy is `[0.978]`."
   ]
  },
  {
   "cell_type": "markdown",
   "metadata": {},
   "source": [
    "**Remarks:** \n",
    "\n",
    "If I use `signal.correlate2d` in `scipy` to do the convolution, for the hyper-parameter setting setting, it took me around `[443.0835828781128]` seconds to run 10 epochs locally.\n",
    "And I can get `[0.9796]` test accuracy."
   ]
  }
 ],
 "metadata": {
  "kernelspec": {
   "display_name": "Python 3",
   "language": "python",
   "name": "python3"
  },
  "language_info": {
   "codemirror_mode": {
    "name": "ipython",
    "version": 3
   },
   "file_extension": ".py",
   "mimetype": "text/x-python",
   "name": "python",
   "nbconvert_exporter": "python",
   "pygments_lexer": "ipython3",
   "version": "3.6.3"
  }
 },
 "nbformat": 4,
 "nbformat_minor": 2
}
