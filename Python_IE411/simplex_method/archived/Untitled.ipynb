{
 "cells": [
  {
   "cell_type": "code",
   "execution_count": 3,
   "metadata": {},
   "outputs": [],
   "source": [
    "from numpy.linalg import inv\n",
    "import numpy as np\n",
    "from numpy.linalg import norm\n",
    "def simplex_step(A, b, c, iB, iN, xB,  irule=0, Binv=\"\"):\n",
    "    if not isinstance(iB, np.ndarray):\n",
    "        iB = np.array(iB)\n",
    "    if not isinstance(iN, np.ndarray):\n",
    "        iN = np.array(iN)\n",
    "    if c.shape[1] > 1:\n",
    "        c = c.T # make c a column vector\n",
    "    # iB begin with index 1\n",
    "    iB = iB - 1\n",
    "    if isinstance(Binv, str):\n",
    "        Binv = inv(A[:,iB])\n",
    "        w_t = np.matmul(c[iB,0].T, Binv)\n",
    "    else:\n",
    "        w_t = np.matmul(c[iB,0].T, Binv)\n",
    "    reduced_cost = c.T - np.matmul(w_t, A)\n",
    "    if np.sum(reduced_cost>=0) < reduced_cost.shape[1]:\n",
    "        print(\"not optimal yet\")\n",
    "        if irule == 0:\n",
    "            j = np.argmin(reduced_cost)\n",
    "        u = np.matmul(Binv, A[:,j])\n",
    "        if np.sum(u > 0) == 0:\n",
    "            print(\"optimal cost is negative infinity\")\n",
    "            istatus = 16\n",
    "            return [istatus]\n",
    "        else:\n",
    "            # minimal ratio test\n",
    "            u = np.asarray(u).reshape(-1,)\n",
    "            idx = np.asarray(np.argwhere(u>0)).reshape(-1)\n",
    "            delta = np.asarray(xB).reshape(-1)[idx] / u[idx]\n",
    "            l = np.argmin(delta)\n",
    "            delta_ =delta[l]\n",
    "            for i in range(A.shape[0]):\n",
    "                if i != l:\n",
    "                    #xB[i,0] += xB[l,0] * (-A[i,j]/A[l,j])\n",
    "                    xB[iB[i],0] -= delta_*u[i]\n",
    "            xB[j,0] = delta_\n",
    "            print(\"an iteration finished\")\n",
    "            istatus = 0\n",
    "            iB[l] = j\n",
    "            Binv = inv(A[:,iB])\n",
    "            iB = iB + 1 # recover the index of basic variables\n",
    "            iN = np.setdiff1d(range(1, A.shape[1]+1), iB)\n",
    "            return [istatus, iB, iN, xB, Binv]\n",
    "    else:\n",
    "        print(\"reach optimal\")\n",
    "        istatus = -1\n",
    "        return [istatus, iB, iN, xB, Binv]"
   ]
  },
  {
   "cell_type": "code",
   "execution_count": 7,
   "metadata": {},
   "outputs": [],
   "source": [
    "from numpy.linalg import inv\n",
    "import numpy as np\n",
    "\n",
    "\n",
    "def simplex_step(A, b, c, iB, iN, xB, irule=0, Binv=\"\"):\n",
    "    \"\"\"\n",
    "    Take a single simplex method step for the linear program\n",
    "\n",
    "      min:    c*x\n",
    "      ST:     Ax=b\n",
    "              x>=0,\n",
    "\n",
    "    where A is an (m,n) matrix.\n",
    "\n",
    "    That is, given a basic feasible vector vector described by the variables\n",
    "    iB,iN,XB,\n",
    "\n",
    "    Input Parameters:\n",
    "\n",
    "        A - (n,m) constraint matrix\n",
    "        b - (m,1) POSITIVE vector appearing in the constraint equation above\n",
    "        c - (1,n) vector giving the coefficients of the objective function\n",
    "\n",
    "        iB - (1,m) integer vector specifying the indices of the basic\n",
    "            variables at the beginning of the simplex step\n",
    "        iN - (1,n-m) integer vector specying the indices of the nonbasic\n",
    "            variables at the beginning of the simplex step\n",
    "        xB - (m,1) vector specifying the values of the basic\n",
    "            variables at the beginning of the simplex step\n",
    "\n",
    "        irule - integer parameter speciying which pivot rule to use:\n",
    "            irule = 0 indicates that the smallest coefficient rule should be\n",
    "                used\n",
    "            irule = 1 indicates that Bland's rule should be used\n",
    "\n",
    "    Output Parameters:\n",
    "\n",
    "        istatus - integer parameter reporting the condition of the\n",
    "            istatus = 0  indicates normal simplex method step\n",
    "            completed\n",
    "            istatus = 16 indicates the program is unbounded\n",
    "            istatus = -1 indicates an optimal feasible vector has been\n",
    "            found\n",
    "\n",
    "        iB - integer vector specifying the m indices of the basic variables\n",
    "            after the simplex step\n",
    "        iN - integer vector specifying the n-m indices of the nonbasic\n",
    "            variables after the simplex step\n",
    "        xB - vector of length m specifying the values of the basic\n",
    "            variables after the simplex step\n",
    "    \"\"\"\n",
    "    if not isinstance(iB, np.ndarray):\n",
    "        iB = np.array(iB)\n",
    "    if not isinstance(iN, np.ndarray):\n",
    "        iN = np.array(iN)\n",
    "    if c.shape[1] > 1:\n",
    "        c = c.T  # make c a column vector\n",
    "    iB = iB - 1  # iB begin with index 1\n",
    "    if isinstance(Binv, str):\n",
    "        Binv = inv(A[:, iB])\n",
    "        w_t = np.matmul(c[iB, 0].T, Binv)\n",
    "    else:\n",
    "        w_t = np.matmul(c[iB, 0].T, Binv)\n",
    "    reduced_cost = c.T - np.matmul(w_t, A)\n",
    "    if np.sum(reduced_cost >= 0) < reduced_cost.shape[1]:\n",
    "        #print(\"not optimal yet\")\n",
    "        if irule == 0:\n",
    "            j = np.argmin(reduced_cost)\n",
    "        elif irule == 1:\n",
    "            for idx, flag in enumerate((x < 0)):\n",
    "                if flag:\n",
    "                    j = idx\n",
    "                    break\n",
    "        else:\n",
    "            raise ValueError(\"incorrect irule!\")\n",
    "        u = np.matmul(Binv, A[:, j])\n",
    "        if np.sum(u > 0) == 0:\n",
    "            print(\"optimal cost is negative infinity\")\n",
    "            istatus = 16\n",
    "            return [istatus]\n",
    "        else:\n",
    "            # minimal ratio test\n",
    "            u = np.asarray(u).reshape(-1,)\n",
    "            idx = np.asarray(np.argwhere(u > 0)).reshape(-1)\n",
    "            delta = np.asarray(xB).reshape(-1)[idx] / u[idx]\n",
    "            l = idx[np.argmin(delta)]#np.argmin(delta)\n",
    "            delta_ = min(delta)\n",
    "            for i in range(A.shape[0]):\n",
    "                if i != l:\n",
    "                    xB[i,0] -= delta_ * (u[i] / u[l]) * xB[l,0]\n",
    "                else:\n",
    "                    xB[i] = delta_\n",
    "            print(\"an iteration finished\")\n",
    "            istatus = 0\n",
    "            iB[l] = j\n",
    "            Binv = inv(A[:, iB])\n",
    "            print(xB)\n",
    "            iB = iB + 1  # recover the index of basic variables\n",
    "            iN = np.setdiff1d(range(1, A.shape[1]+1), iB)\n",
    "            return [istatus, iB, iN, xB, Binv]\n",
    "    else:\n",
    "        print(\"reach optimal\")\n",
    "        istatus = -1\n",
    "        return [istatus, iB, iN, xB, Binv]"
   ]
  },
  {
   "cell_type": "code",
   "execution_count": 8,
   "metadata": {},
   "outputs": [
    {
     "name": "stdout",
     "output_type": "stream",
     "text": [
      "an iteration finished\n",
      "[[1.]\n",
      " [1.]\n",
      " [2.]]\n"
     ]
    }
   ],
   "source": [
    "A1 = np.matrix([[1, 1, 2],\n",
    "                [1, 1, 1],\n",
    "                [1, 1, 1]],dtype = np.float64)\n",
    "\n",
    "A = np.hstack((np.eye(3), A1))\n",
    "\n",
    "b = np.matrix([[1],\n",
    "            [2],\n",
    "            [3]],dtype = np.float64)\n",
    "\n",
    "\n",
    "iB = [1,2,3]\n",
    "iN = [4,5,6]\n",
    "xB = np.matrix(np.copy(b))\n",
    "c  = np.matrix([[0,0,0,-1,-2,1]],dtype = np.float64)\n",
    "\n",
    "# form an invertible matrix B and modify the problem\n",
    "B=np.matrix([[4, 1, 0],\n",
    "            [1, -2, -1],\n",
    "            [1, 2, 4]],dtype = np.float64)\n",
    "A=B*A\n",
    "b=B*b\n",
    "# modify c\n",
    "\n",
    "N=A[:,[index_N-1 for index_N in iN]]\n",
    "c1=np.matrix([1, 1, 1],dtype = np.float64)\n",
    "c2=c1*B.I*N+c[:,[index_N-1 for index_N in iN]]\n",
    "\n",
    "\n",
    "# take a step with the first rule\n",
    "irule = 0\n",
    "[istatus,iB,iN,x,Binv] = simplex_step(A,b,c,iB,iN,xB,irule)\n",
    "\n",
    "\n",
    "X = np.zeros((6,1),dtype = np.float64)\n",
    "X[[(b-1) for b in iB]] = xB\n",
    "\n",
    "if (istatus != 0):\n",
    "    print('INCORRECT ISTATUS!\\n')\n",
    "\n",
    "if (norm(X-np.matrix([[0],[1],[2],[0],[1],[0]]) > 1e-10)):\n",
    "    print('INCORRECT STEP!\\n')\n",
    "\n",
    "\n",
    "if (norm(np.array(sorted(iN))-np.array([1, 4, 6])) > 1e-10):\n",
    "    print('iN incorrect!\\n')\n",
    "\n",
    "\n",
    "if (norm(np.array(sorted(iB))-np.array([2, 3, 5])) > 1e-10):\n",
    "    print('iB incorrect!\\n')"
   ]
  },
  {
   "cell_type": "code",
   "execution_count": 9,
   "metadata": {},
   "outputs": [
    {
     "data": {
      "text/plain": [
       "(array([5, 2, 3]), array([1, 4, 6]), matrix([[1.],\n",
       "         [1.],\n",
       "         [2.]]))"
      ]
     },
     "execution_count": 9,
     "metadata": {},
     "output_type": "execute_result"
    }
   ],
   "source": [
    "iB,iN,xB"
   ]
  },
  {
   "cell_type": "code",
   "execution_count": 54,
   "metadata": {},
   "outputs": [],
   "source": [
    "u = np.array([-1,2,3,-2])\n",
    "xB = np.array([3,4,3,2])"
   ]
  },
  {
   "cell_type": "code",
   "execution_count": 55,
   "metadata": {},
   "outputs": [
    {
     "data": {
      "text/plain": [
       "(array([1, 2]), array([2., 1.]))"
      ]
     },
     "execution_count": 55,
     "metadata": {},
     "output_type": "execute_result"
    }
   ],
   "source": [
    "idx = np.asarray(np.argwhere(u > 0)).reshape(-1)\n",
    "delta = np.asarray(xB).reshape(-1)[idx] / u[idx]\n",
    "idx, delta"
   ]
  },
  {
   "cell_type": "code",
   "execution_count": 58,
   "metadata": {},
   "outputs": [
    {
     "data": {
      "text/plain": [
       "2"
      ]
     },
     "execution_count": 58,
     "metadata": {},
     "output_type": "execute_result"
    }
   ],
   "source": [
    "l = idx[np.argmin(delta)]\n",
    "l"
   ]
  },
  {
   "cell_type": "code",
   "execution_count": 60,
   "metadata": {},
   "outputs": [
    {
     "data": {
      "text/plain": [
       "1.0"
      ]
     },
     "execution_count": 60,
     "metadata": {},
     "output_type": "execute_result"
    }
   ],
   "source": [
    "delta_ = min(delta)\n",
    "delta_"
   ]
  },
  {
   "cell_type": "code",
   "execution_count": 61,
   "metadata": {},
   "outputs": [],
   "source": [
    "for i in range(4):\n",
    "    if i != l: \n",
    "        xB[i] -= delta_ * u[i]\n",
    "xB[l] = delta_"
   ]
  },
  {
   "cell_type": "code",
   "execution_count": 62,
   "metadata": {},
   "outputs": [
    {
     "data": {
      "text/plain": [
       "array([4, 2, 1, 4])"
      ]
     },
     "execution_count": 62,
     "metadata": {},
     "output_type": "execute_result"
    }
   ],
   "source": [
    "xB"
   ]
  },
  {
   "cell_type": "code",
   "execution_count": 32,
   "metadata": {},
   "outputs": [],
   "source": [
    "reduced_cost = np.array([[ 0, 0, 0, -1, -2,  1]])\n",
    "\n",
    "for idx, flag in enumerate((reduced_cost[0] < 0)):\n",
    "    if flag:\n",
    "        j = idx\n",
    "        break"
   ]
  },
  {
   "cell_type": "code",
   "execution_count": 31,
   "metadata": {},
   "outputs": [
    {
     "data": {
      "text/plain": [
       "array([[ 0,  0,  0, -1, -2,  1]])"
      ]
     },
     "execution_count": 31,
     "metadata": {},
     "output_type": "execute_result"
    }
   ],
   "source": [
    "reduced_cost.reshape(reduced_cost.shape[0],-1)"
   ]
  },
  {
   "cell_type": "code",
   "execution_count": 1,
   "metadata": {},
   "outputs": [],
   "source": []
  },
  {
   "cell_type": "code",
   "execution_count": 56,
   "metadata": {},
   "outputs": [],
   "source": [
    "import numpy as np\n",
    "from simplex_step import * \n",
    "from simplex_init import simplex_init\n",
    "def find_negative_index(b):\n",
    "    row_idxs = []\n",
    "    for row_idx, element in enumerate(b):\n",
    "        if element < 0:\n",
    "            row_idxs.append(row_idx)\n",
    "    return row_idxs\n",
    "A = np.matrix([[1,2,3,0],\n",
    "               [-1,2,6,0],\n",
    "               [0,4,9,0],\n",
    "              [0,0,3,1]],dtype = np.float64)\n",
    "b = np.matrix([[3],\n",
    "               [2],\n",
    "               [5],[1]],dtype = np.float64)\n",
    "\n",
    "c = np.matrix([[1,1,1,0]],dtype = np.float64)"
   ]
  },
  {
   "cell_type": "code",
   "execution_count": 66,
   "metadata": {},
   "outputs": [],
   "source": [
    "A_new, b_new = A, b\n",
    "A_new[find_negative_index(b)] = -A[find_negative_index(b)]\n",
    "b_new[find_negative_index(b)] = -b[find_negative_index(b)]\n",
    "A_new = np.hstack((A_new, np.eye(b.shape[0])))\n",
    "# problem setup\n",
    "c_phase_I = np.zeros(A_new.shape[1]).reshape(1, -1)\n",
    "c_phase_I[0, c.shape[1]:] = np.ones(b.shape[0])\n",
    "iB = np.arange(c.shape[1], c.shape[1] + b.shape[0]) + 1  # index begin with 1 for input\n",
    "iN = np.arange(0, c.shape[1]) + 1\n",
    "xB = np.matrix(np.copy(b))\n",
    "istatus_step = 1000\n",
    "while istatus_step != -1:\n",
    "    try:\n",
    "        istatus_step, iB, iN, xB, Binv = simplex_step(A_new, b_new, c_phase_I, iB, iN, xB, irule=0)\n",
    "    except np.linalg.LinAlgError:\n",
    "        raise ValueError(\"iB cannot form a basis!\")\n",
    "    if istatus_step == 16:\n",
    "        istatus, iB, iN, xB = 4, None, None, None\n",
    "iB = iB - 1\n",
    "optimal_cost = np.matmul(c_phase_I[0, iB].reshape(1, -2), xB)"
   ]
  },
  {
   "cell_type": "code",
   "execution_count": 67,
   "metadata": {},
   "outputs": [
    {
     "data": {
      "text/plain": [
       "matrix([[0.]])"
      ]
     },
     "execution_count": 67,
     "metadata": {},
     "output_type": "execute_result"
    }
   ],
   "source": [
    "optimal_cost"
   ]
  },
  {
   "cell_type": "code",
   "execution_count": 68,
   "metadata": {},
   "outputs": [],
   "source": [
    "if optimal_cost == 0:\n",
    "    #print(\"optimal basis is found!\")\n",
    "    istatus = 0\n",
    "    artificial_idx = np.arange(c.shape[1], c.shape[1] + b.shape[0])\n",
    "    if len(np.intersect1d(artificial_idx, iB)) == 0:\n",
    "        print(\"no artificial variable in the final basis\")\n",
    "    else:\n",
    "        artificial_in_basis = np.intersect1d(artificial_idx, iB)\n",
    "        tableau = np.matmul(Binv, A_new)\n",
    "        for xl in artificial_in_basis:\n",
    "            row_l = tableau[np.where(iB == xl), :c.shape[1]]\n",
    "            if np.sum(row_l) == 0:\n",
    "                xB = np.delete(xB, np.where(iB == xl))\n",
    "                iB = np.delete(iB, np.where(iB == xl))\n",
    "        iN = np.setdiff1d(range(c.shape[1]), iB)\n",
    "        iB = iB + 1\n",
    "        iN = iN + 1"
   ]
  },
  {
   "cell_type": "code",
   "execution_count": 3,
   "metadata": {},
   "outputs": [],
   "source": [
    "from simplex_method import *\n",
    "from simplex_init import *\n",
    "import numpy as np\n",
    "from numpy.linalg import inv\n",
    "A = np.matrix([[1,1,1,0],\n",
    "               [-1,1,2,0],\n",
    "               [0,2,3,0],[0,0,1,1]],dtype = np.float64)\n",
    "b = np.matrix([[6],\n",
    "               [4],\n",
    "               [10],[2]],dtype = np.float64)\n",
    "\n",
    "c = np.matrix([[-1,2,-3,0]],dtype = np.float64)"
   ]
  },
  {
   "cell_type": "code",
   "execution_count": 4,
   "metadata": {},
   "outputs": [],
   "source": [
    "init_status, iB, iN, xB = simplex_init(A, b, c)"
   ]
  },
  {
   "cell_type": "code",
   "execution_count": 5,
   "metadata": {},
   "outputs": [
    {
     "data": {
      "text/plain": [
       "(0, array([2, 3, 1]), array([4]), matrix([[2., 2., 2.]]))"
      ]
     },
     "execution_count": 5,
     "metadata": {},
     "output_type": "execute_result"
    }
   ],
   "source": [
    "init_status, iB, iN, xB"
   ]
  },
  {
   "cell_type": "code",
   "execution_count": 19,
   "metadata": {},
   "outputs": [
    {
     "data": {
      "text/plain": [
       "array([array([2, 3, 1]), array([4])], dtype=object)"
      ]
     },
     "execution_count": 19,
     "metadata": {},
     "output_type": "execute_result"
    }
   ],
   "source": []
  },
  {
   "cell_type": "code",
   "execution_count": 11,
   "metadata": {},
   "outputs": [
    {
     "ename": "TypeError",
     "evalue": "vstack() takes 1 positional argument but 2 were given",
     "output_type": "error",
     "traceback": [
      "\u001b[0;31m---------------------------------------------------------------------------\u001b[0m",
      "\u001b[0;31mTypeError\u001b[0m                                 Traceback (most recent call last)",
      "\u001b[0;32m<ipython-input-11-4cd0cac8b09d>\u001b[0m in \u001b[0;36m<module>\u001b[0;34m()\u001b[0m\n\u001b[1;32m      1\u001b[0m \u001b[0;31m# simplex_method(A, b, c, irule=1)\u001b[0m\u001b[0;34m\u001b[0m\u001b[0;34m\u001b[0m\u001b[0m\n\u001b[1;32m      2\u001b[0m \u001b[0;31m# simplex_step(A, b, c, iB, iN, xB, irule=0, Binv=\"\")\u001b[0m\u001b[0;34m\u001b[0m\u001b[0;34m\u001b[0m\u001b[0m\n\u001b[0;32m----> 3\u001b[0;31m \u001b[0mA\u001b[0m\u001b[0;34m[\u001b[0m\u001b[0;34m:\u001b[0m\u001b[0;34m,\u001b[0m \u001b[0mnp\u001b[0m\u001b[0;34m.\u001b[0m\u001b[0mvstack\u001b[0m\u001b[0;34m(\u001b[0m\u001b[0miB\u001b[0m\u001b[0;34m,\u001b[0m\u001b[0miN\u001b[0m\u001b[0;34m)\u001b[0m\u001b[0;34m]\u001b[0m\u001b[0;34m\u001b[0m\u001b[0m\n\u001b[0m",
      "\u001b[0;31mTypeError\u001b[0m: vstack() takes 1 positional argument but 2 were given"
     ]
    }
   ],
   "source": [
    "# simplex_method(A, b, c, irule=1)\n",
    "# simplex_step(A, b, c, iB, iN, xB, irule=0, Binv=\"\")\n",
    "A[:, np.vstack(iB,iN)]"
   ]
  },
  {
   "cell_type": "code",
   "execution_count": 6,
   "metadata": {},
   "outputs": [
    {
     "ename": "IndexError",
     "evalue": "index 6 is out of bounds for axis 1 with size 4",
     "output_type": "error",
     "traceback": [
      "\u001b[0;31m---------------------------------------------------------------------------\u001b[0m",
      "\u001b[0;31mIndexError\u001b[0m                                Traceback (most recent call last)",
      "\u001b[0;32m<ipython-input-6-ab0e66441a28>\u001b[0m in \u001b[0;36m<module>\u001b[0;34m()\u001b[0m\n\u001b[0;32m----> 1\u001b[0;31m \u001b[0mistatus_step\u001b[0m\u001b[0;34m,\u001b[0m \u001b[0miB\u001b[0m\u001b[0;34m,\u001b[0m \u001b[0miN\u001b[0m\u001b[0;34m,\u001b[0m \u001b[0mxB\u001b[0m\u001b[0;34m,\u001b[0m \u001b[0m_\u001b[0m \u001b[0;34m=\u001b[0m \u001b[0msimplex_step\u001b[0m\u001b[0;34m(\u001b[0m\u001b[0mA\u001b[0m\u001b[0;34m,\u001b[0m \u001b[0mb\u001b[0m\u001b[0;34m,\u001b[0m \u001b[0mc\u001b[0m\u001b[0;34m,\u001b[0m \u001b[0miB\u001b[0m\u001b[0;34m,\u001b[0m \u001b[0miN\u001b[0m\u001b[0;34m,\u001b[0m \u001b[0mxB\u001b[0m\u001b[0;34m,\u001b[0m \u001b[0mirule\u001b[0m\u001b[0;34m=\u001b[0m\u001b[0;36m0\u001b[0m\u001b[0;34m,\u001b[0m \u001b[0mBinv\u001b[0m\u001b[0;34m=\u001b[0m\u001b[0;34m\"\"\u001b[0m\u001b[0;34m)\u001b[0m\u001b[0;34m\u001b[0m\u001b[0m\n\u001b[0m",
      "\u001b[0;32m~/Documents/codes-for-courses/Python_IE411/simplex_method/simplex_step.py\u001b[0m in \u001b[0;36msimplex_step\u001b[0;34m(A, b, c, iB, iN, xB, irule, Binv)\u001b[0m\n\u001b[1;32m     70\u001b[0m             \u001b[0mBinv\u001b[0m \u001b[0;34m=\u001b[0m \u001b[0minv\u001b[0m\u001b[0;34m(\u001b[0m\u001b[0mA\u001b[0m\u001b[0;34m[\u001b[0m\u001b[0miB\u001b[0m\u001b[0;34m]\u001b[0m\u001b[0;34m[\u001b[0m\u001b[0miB\u001b[0m\u001b[0;34m]\u001b[0m\u001b[0;34m)\u001b[0m\u001b[0;34m\u001b[0m\u001b[0m\n\u001b[1;32m     71\u001b[0m         \u001b[0;32melse\u001b[0m\u001b[0;34m:\u001b[0m\u001b[0;34m\u001b[0m\u001b[0m\n\u001b[0;32m---> 72\u001b[0;31m             \u001b[0mBinv\u001b[0m \u001b[0;34m=\u001b[0m \u001b[0minv\u001b[0m\u001b[0;34m(\u001b[0m\u001b[0mA\u001b[0m\u001b[0;34m[\u001b[0m\u001b[0;34m:\u001b[0m\u001b[0;34m,\u001b[0m \u001b[0miB\u001b[0m\u001b[0;34m]\u001b[0m\u001b[0;34m)\u001b[0m\u001b[0;34m\u001b[0m\u001b[0m\n\u001b[0m\u001b[1;32m     73\u001b[0m         \u001b[0mw_t\u001b[0m \u001b[0;34m=\u001b[0m \u001b[0mnp\u001b[0m\u001b[0;34m.\u001b[0m\u001b[0mmatmul\u001b[0m\u001b[0;34m(\u001b[0m\u001b[0mc\u001b[0m\u001b[0;34m[\u001b[0m\u001b[0miB\u001b[0m\u001b[0;34m,\u001b[0m \u001b[0;36m0\u001b[0m\u001b[0;34m]\u001b[0m\u001b[0;34m.\u001b[0m\u001b[0mT\u001b[0m\u001b[0;34m,\u001b[0m \u001b[0mBinv\u001b[0m\u001b[0;34m)\u001b[0m\u001b[0;34m\u001b[0m\u001b[0m\n\u001b[1;32m     74\u001b[0m     \u001b[0;32melse\u001b[0m\u001b[0;34m:\u001b[0m\u001b[0;34m\u001b[0m\u001b[0m\n",
      "\u001b[0;32m~/anaconda/lib/python3.6/site-packages/numpy/matrixlib/defmatrix.py\u001b[0m in \u001b[0;36m__getitem__\u001b[0;34m(self, index)\u001b[0m\n\u001b[1;32m    282\u001b[0m \u001b[0;34m\u001b[0m\u001b[0m\n\u001b[1;32m    283\u001b[0m         \u001b[0;32mtry\u001b[0m\u001b[0;34m:\u001b[0m\u001b[0;34m\u001b[0m\u001b[0m\n\u001b[0;32m--> 284\u001b[0;31m             \u001b[0mout\u001b[0m \u001b[0;34m=\u001b[0m \u001b[0mN\u001b[0m\u001b[0;34m.\u001b[0m\u001b[0mndarray\u001b[0m\u001b[0;34m.\u001b[0m\u001b[0m__getitem__\u001b[0m\u001b[0;34m(\u001b[0m\u001b[0mself\u001b[0m\u001b[0;34m,\u001b[0m \u001b[0mindex\u001b[0m\u001b[0;34m)\u001b[0m\u001b[0;34m\u001b[0m\u001b[0m\n\u001b[0m\u001b[1;32m    285\u001b[0m         \u001b[0;32mfinally\u001b[0m\u001b[0;34m:\u001b[0m\u001b[0;34m\u001b[0m\u001b[0m\n\u001b[1;32m    286\u001b[0m             \u001b[0mself\u001b[0m\u001b[0;34m.\u001b[0m\u001b[0m_getitem\u001b[0m \u001b[0;34m=\u001b[0m \u001b[0;32mFalse\u001b[0m\u001b[0;34m\u001b[0m\u001b[0m\n",
      "\u001b[0;31mIndexError\u001b[0m: index 6 is out of bounds for axis 1 with size 4"
     ]
    }
   ],
   "source": [
    "istatus_step, iB, iN, xB, _ = simplex_step(A, b, c, iB, iN, xB, irule=0, Binv=\"\")"
   ]
  },
  {
   "cell_type": "code",
   "execution_count": 11,
   "metadata": {},
   "outputs": [],
   "source": [
    "from simplex_method import *\n",
    "from simplex_init import *\n",
    "import numpy as np\n",
    "from numpy.linalg import inv\n",
    "A = np.matrix([[1,2,3,0],\n",
    "               [-1,2,6,0],\n",
    "               [0,4,9,0],[0,0,3,1]],dtype = np.float64)\n",
    "b = np.matrix([[3],\n",
    "               [2],\n",
    "               [5],[1]],dtype = np.float64)\n",
    "\n",
    "c = np.matrix([[1,1,1,0]],dtype = np.float64)"
   ]
  },
  {
   "cell_type": "code",
   "execution_count": 12,
   "metadata": {},
   "outputs": [],
   "source": [
    "init_status, iB, iN, xB = simplex_init(A, b, c)"
   ]
  },
  {
   "cell_type": "code",
   "execution_count": 13,
   "metadata": {},
   "outputs": [
    {
     "data": {
      "text/plain": [
       "(array([2, 3, 1]), array([4]), matrix([[0.5       , 0.33333333, 1.        ]]))"
      ]
     },
     "execution_count": 13,
     "metadata": {},
     "output_type": "execute_result"
    }
   ],
   "source": [
    "iB, iN, xB"
   ]
  },
  {
   "cell_type": "code",
   "execution_count": 15,
   "metadata": {},
   "outputs": [
    {
     "data": {
      "text/plain": [
       "array([4])"
      ]
     },
     "execution_count": 15,
     "metadata": {},
     "output_type": "execute_result"
    }
   ],
   "source": [
    "iN"
   ]
  },
  {
   "cell_type": "code",
   "execution_count": 3,
   "metadata": {},
   "outputs": [
    {
     "data": {
      "text/plain": [
       "array([[1., 0., 0., 0.],\n",
       "       [0., 1., 0., 0.],\n",
       "       [0., 0., 1., 0.],\n",
       "       [0., 0., 0., 1.]])"
      ]
     },
     "execution_count": 3,
     "metadata": {},
     "output_type": "execute_result"
    }
   ],
   "source": [
    "np.eye(b.shape[0])"
   ]
  },
  {
   "cell_type": "code",
   "execution_count": 4,
   "metadata": {},
   "outputs": [
    {
     "data": {
      "text/plain": [
       "matrix([[ 1.,  1.,  1.,  0.],\n",
       "        [-1.,  1.,  2.,  0.],\n",
       "        [ 0.,  2.,  3.,  0.],\n",
       "        [ 0.,  0.,  1.,  1.]])"
      ]
     },
     "execution_count": 4,
     "metadata": {},
     "output_type": "execute_result"
    }
   ],
   "source": [
    "A"
   ]
  },
  {
   "cell_type": "code",
   "execution_count": 26,
   "metadata": {},
   "outputs": [],
   "source": [
    "A = np.matrix([[1,1,1,0],\n",
    "               [-1,1,2,0],\n",
    "               [0,2,3,0],[0,0,1,1]])"
   ]
  },
  {
   "cell_type": "code",
   "execution_count": 14,
   "metadata": {},
   "outputs": [],
   "source": [
    "from simplex_method import *\n",
    "A = np.matrix([[1,1,1,0],\n",
    "               [-1,1,2,0],\n",
    "               [0,2,3,0],[0,0,1,1]],dtype = np.float64)\n",
    "b = np.matrix([[6],\n",
    "               [4],\n",
    "               [10],[2]],dtype = np.float64)\n",
    "\n",
    "c = np.matrix([[-1,2,-3,0]],dtype = np.float64)"
   ]
  },
  {
   "cell_type": "code",
   "execution_count": 15,
   "metadata": {},
   "outputs": [
    {
     "ename": "LinAlgError",
     "evalue": "Last 2 dimensions of the array must be square",
     "output_type": "error",
     "traceback": [
      "\u001b[0;31m---------------------------------------------------------------------------\u001b[0m",
      "\u001b[0;31mLinAlgError\u001b[0m                               Traceback (most recent call last)",
      "\u001b[0;32m<ipython-input-15-499fd7c64bfa>\u001b[0m in \u001b[0;36m<module>\u001b[0;34m()\u001b[0m\n\u001b[0;32m----> 1\u001b[0;31m \u001b[0msimplex_method\u001b[0m\u001b[0;34m(\u001b[0m\u001b[0mA\u001b[0m\u001b[0;34m,\u001b[0m\u001b[0mb\u001b[0m\u001b[0;34m,\u001b[0m\u001b[0mc\u001b[0m\u001b[0;34m,\u001b[0m \u001b[0mirule\u001b[0m\u001b[0;34m=\u001b[0m\u001b[0;36m0\u001b[0m\u001b[0;34m)\u001b[0m\u001b[0;34m\u001b[0m\u001b[0m\n\u001b[0m",
      "\u001b[0;32m~/Documents/codes-for-courses/Python_IE411/simplex_method/simplex_method.py\u001b[0m in \u001b[0;36msimplex_method\u001b[0;34m(A, b, c, irule)\u001b[0m\n\u001b[1;32m     64\u001b[0m         \u001b[0mistatus_step\u001b[0m \u001b[0;34m=\u001b[0m \u001b[0;36m1000\u001b[0m\u001b[0;34m\u001b[0m\u001b[0m\n\u001b[1;32m     65\u001b[0m         \u001b[0;32mwhile\u001b[0m \u001b[0mistatus_step\u001b[0m \u001b[0;34m!=\u001b[0m \u001b[0;34m-\u001b[0m\u001b[0;36m1\u001b[0m\u001b[0;34m:\u001b[0m\u001b[0;34m\u001b[0m\u001b[0m\n\u001b[0;32m---> 66\u001b[0;31m             \u001b[0mistatus_step\u001b[0m\u001b[0;34m,\u001b[0m \u001b[0miB\u001b[0m\u001b[0;34m,\u001b[0m \u001b[0miN\u001b[0m\u001b[0;34m,\u001b[0m \u001b[0mxB\u001b[0m\u001b[0;34m,\u001b[0m \u001b[0m_\u001b[0m \u001b[0;34m=\u001b[0m \u001b[0msimplex_step\u001b[0m\u001b[0;34m(\u001b[0m\u001b[0mA\u001b[0m\u001b[0;34m,\u001b[0m \u001b[0mb\u001b[0m\u001b[0;34m,\u001b[0m \u001b[0mc\u001b[0m\u001b[0;34m,\u001b[0m \u001b[0miB\u001b[0m\u001b[0;34m,\u001b[0m \u001b[0miN\u001b[0m\u001b[0;34m,\u001b[0m \u001b[0mxB\u001b[0m\u001b[0;34m,\u001b[0m \u001b[0mirule\u001b[0m\u001b[0;34m=\u001b[0m\u001b[0;36m0\u001b[0m\u001b[0;34m,\u001b[0m \u001b[0mBinv\u001b[0m\u001b[0;34m=\u001b[0m\u001b[0;34m\"\"\u001b[0m\u001b[0;34m)\u001b[0m\u001b[0;34m\u001b[0m\u001b[0m\n\u001b[0m\u001b[1;32m     67\u001b[0m             \u001b[0;32mif\u001b[0m \u001b[0mistatus_step\u001b[0m \u001b[0;34m==\u001b[0m \u001b[0;36m16\u001b[0m\u001b[0;34m:\u001b[0m\u001b[0;34m\u001b[0m\u001b[0m\n\u001b[1;32m     68\u001b[0m                 \u001b[0mistatus\u001b[0m\u001b[0;34m,\u001b[0m \u001b[0mX\u001b[0m\u001b[0;34m,\u001b[0m \u001b[0miB\u001b[0m\u001b[0;34m,\u001b[0m \u001b[0miN\u001b[0m\u001b[0;34m,\u001b[0m \u001b[0mxB\u001b[0m \u001b[0;34m=\u001b[0m \u001b[0;36m32\u001b[0m\u001b[0;34m,\u001b[0m \u001b[0;32mNone\u001b[0m\u001b[0;34m,\u001b[0m \u001b[0;32mNone\u001b[0m\u001b[0;34m,\u001b[0m \u001b[0;32mNone\u001b[0m\u001b[0;34m,\u001b[0m \u001b[0;32mNone\u001b[0m\u001b[0;34m\u001b[0m\u001b[0m\n",
      "\u001b[0;32m~/Documents/codes-for-courses/Python_IE411/simplex_method/simplex_step.py\u001b[0m in \u001b[0;36msimplex_step\u001b[0;34m(A, b, c, iB, iN, xB, irule, Binv)\u001b[0m\n\u001b[1;32m     67\u001b[0m     \u001b[0miB\u001b[0m \u001b[0;34m=\u001b[0m \u001b[0miB\u001b[0m \u001b[0;34m-\u001b[0m \u001b[0;36m1\u001b[0m  \u001b[0;31m# iB begin with index 1\u001b[0m\u001b[0;34m\u001b[0m\u001b[0m\n\u001b[1;32m     68\u001b[0m     \u001b[0;32mif\u001b[0m \u001b[0misinstance\u001b[0m\u001b[0;34m(\u001b[0m\u001b[0mBinv\u001b[0m\u001b[0;34m,\u001b[0m \u001b[0mstr\u001b[0m\u001b[0;34m)\u001b[0m\u001b[0;34m:\u001b[0m\u001b[0;34m\u001b[0m\u001b[0m\n\u001b[0;32m---> 69\u001b[0;31m         \u001b[0mBinv\u001b[0m \u001b[0;34m=\u001b[0m \u001b[0minv\u001b[0m\u001b[0;34m(\u001b[0m\u001b[0mA\u001b[0m\u001b[0;34m[\u001b[0m\u001b[0;34m:\u001b[0m\u001b[0;34m,\u001b[0m \u001b[0miB\u001b[0m\u001b[0;34m]\u001b[0m\u001b[0;34m)\u001b[0m\u001b[0;34m\u001b[0m\u001b[0m\n\u001b[0m\u001b[1;32m     70\u001b[0m         \u001b[0mw_t\u001b[0m \u001b[0;34m=\u001b[0m \u001b[0mnp\u001b[0m\u001b[0;34m.\u001b[0m\u001b[0mmatmul\u001b[0m\u001b[0;34m(\u001b[0m\u001b[0mc\u001b[0m\u001b[0;34m[\u001b[0m\u001b[0miB\u001b[0m\u001b[0;34m,\u001b[0m \u001b[0;36m0\u001b[0m\u001b[0;34m]\u001b[0m\u001b[0;34m.\u001b[0m\u001b[0mT\u001b[0m\u001b[0;34m,\u001b[0m \u001b[0mBinv\u001b[0m\u001b[0;34m)\u001b[0m\u001b[0;34m\u001b[0m\u001b[0m\n\u001b[1;32m     71\u001b[0m     \u001b[0;32melse\u001b[0m\u001b[0;34m:\u001b[0m\u001b[0;34m\u001b[0m\u001b[0m\n",
      "\u001b[0;32m~/anaconda/lib/python3.6/site-packages/numpy/linalg/linalg.py\u001b[0m in \u001b[0;36minv\u001b[0;34m(a)\u001b[0m\n\u001b[1;32m    521\u001b[0m     \u001b[0ma\u001b[0m\u001b[0;34m,\u001b[0m \u001b[0mwrap\u001b[0m \u001b[0;34m=\u001b[0m \u001b[0m_makearray\u001b[0m\u001b[0;34m(\u001b[0m\u001b[0ma\u001b[0m\u001b[0;34m)\u001b[0m\u001b[0;34m\u001b[0m\u001b[0m\n\u001b[1;32m    522\u001b[0m     \u001b[0m_assertRankAtLeast2\u001b[0m\u001b[0;34m(\u001b[0m\u001b[0ma\u001b[0m\u001b[0;34m)\u001b[0m\u001b[0;34m\u001b[0m\u001b[0m\n\u001b[0;32m--> 523\u001b[0;31m     \u001b[0m_assertNdSquareness\u001b[0m\u001b[0;34m(\u001b[0m\u001b[0ma\u001b[0m\u001b[0;34m)\u001b[0m\u001b[0;34m\u001b[0m\u001b[0m\n\u001b[0m\u001b[1;32m    524\u001b[0m     \u001b[0mt\u001b[0m\u001b[0;34m,\u001b[0m \u001b[0mresult_t\u001b[0m \u001b[0;34m=\u001b[0m \u001b[0m_commonType\u001b[0m\u001b[0;34m(\u001b[0m\u001b[0ma\u001b[0m\u001b[0;34m)\u001b[0m\u001b[0;34m\u001b[0m\u001b[0m\n\u001b[1;32m    525\u001b[0m \u001b[0;34m\u001b[0m\u001b[0m\n",
      "\u001b[0;32m~/anaconda/lib/python3.6/site-packages/numpy/linalg/linalg.py\u001b[0m in \u001b[0;36m_assertNdSquareness\u001b[0;34m(*arrays)\u001b[0m\n\u001b[1;32m    209\u001b[0m     \u001b[0;32mfor\u001b[0m \u001b[0ma\u001b[0m \u001b[0;32min\u001b[0m \u001b[0marrays\u001b[0m\u001b[0;34m:\u001b[0m\u001b[0;34m\u001b[0m\u001b[0m\n\u001b[1;32m    210\u001b[0m         \u001b[0;32mif\u001b[0m \u001b[0mmax\u001b[0m\u001b[0;34m(\u001b[0m\u001b[0ma\u001b[0m\u001b[0;34m.\u001b[0m\u001b[0mshape\u001b[0m\u001b[0;34m[\u001b[0m\u001b[0;34m-\u001b[0m\u001b[0;36m2\u001b[0m\u001b[0;34m:\u001b[0m\u001b[0;34m]\u001b[0m\u001b[0;34m)\u001b[0m \u001b[0;34m!=\u001b[0m \u001b[0mmin\u001b[0m\u001b[0;34m(\u001b[0m\u001b[0ma\u001b[0m\u001b[0;34m.\u001b[0m\u001b[0mshape\u001b[0m\u001b[0;34m[\u001b[0m\u001b[0;34m-\u001b[0m\u001b[0;36m2\u001b[0m\u001b[0;34m:\u001b[0m\u001b[0;34m]\u001b[0m\u001b[0;34m)\u001b[0m\u001b[0;34m:\u001b[0m\u001b[0;34m\u001b[0m\u001b[0m\n\u001b[0;32m--> 211\u001b[0;31m             \u001b[0;32mraise\u001b[0m \u001b[0mLinAlgError\u001b[0m\u001b[0;34m(\u001b[0m\u001b[0;34m'Last 2 dimensions of the array must be square'\u001b[0m\u001b[0;34m)\u001b[0m\u001b[0;34m\u001b[0m\u001b[0m\n\u001b[0m\u001b[1;32m    212\u001b[0m \u001b[0;34m\u001b[0m\u001b[0m\n\u001b[1;32m    213\u001b[0m \u001b[0;32mdef\u001b[0m \u001b[0m_assertFinite\u001b[0m\u001b[0;34m(\u001b[0m\u001b[0;34m*\u001b[0m\u001b[0marrays\u001b[0m\u001b[0;34m)\u001b[0m\u001b[0;34m:\u001b[0m\u001b[0;34m\u001b[0m\u001b[0m\n",
      "\u001b[0;31mLinAlgError\u001b[0m: Last 2 dimensions of the array must be square"
     ]
    }
   ],
   "source": [
    "simplex_method(A,b,c, irule=0)"
   ]
  },
  {
   "cell_type": "code",
   "execution_count": 16,
   "metadata": {},
   "outputs": [],
   "source": [
    "from simplex_method import *\n",
    "import numpy as np\n",
    "from numpy.linalg import inv\n",
    "A = np.matrix([[1,1,-1,0,0],\n",
    "               [-1,1,0,-1,0],\n",
    "               [0,1,0,0,1]],dtype = np.float64)\n",
    "b = np.matrix([[2],\n",
    "               [1],\n",
    "               [3]],dtype = np.float64)\n",
    "\n",
    "c = np.matrix([[1,-2,0,0,0]],dtype = np.float64)"
   ]
  },
  {
   "cell_type": "code",
   "execution_count": 17,
   "metadata": {},
   "outputs": [
    {
     "data": {
      "text/plain": [
       "(0, array([[0.],\n",
       "        [3.],\n",
       "        [1.],\n",
       "        [2.],\n",
       "        [0.]]), matrix([[-6.]]), array([4, 2, 3]), array([1, 5]), matrix([[2.],\n",
       "         [3.],\n",
       "         [1.]]))"
      ]
     },
     "execution_count": 17,
     "metadata": {},
     "output_type": "execute_result"
    }
   ],
   "source": [
    "init_status, iB, iN, xB, tableau = simplex_init_modified(A, b, c)\n",
    "simplex_method(A,b,c, irule=0)"
   ]
  },
  {
   "cell_type": "code",
   "execution_count": 18,
   "metadata": {},
   "outputs": [],
   "source": [
    "import numpy as np \n",
    "from simplex_method_new import *\n",
    "from numpy.linalg import inv\n",
    "A = np.matrix([[1,2,3,0],\n",
    "               [-1,2,6,0],\n",
    "               [0,4,9,0],\n",
    "              [0,0,3,1]],dtype = np.float64)\n",
    "b = np.matrix([[3],\n",
    "               [2],\n",
    "               [5],[1]],dtype = np.float64)\n",
    "\n",
    "c = np.matrix([[1,1,1,0]],dtype = np.float64)"
   ]
  },
  {
   "cell_type": "code",
   "execution_count": null,
   "metadata": {},
   "outputs": [],
   "source": []
  },
  {
   "cell_type": "code",
   "execution_count": null,
   "metadata": {},
   "outputs": [],
   "source": []
  },
  {
   "cell_type": "code",
   "execution_count": null,
   "metadata": {},
   "outputs": [],
   "source": []
  },
  {
   "cell_type": "code",
   "execution_count": null,
   "metadata": {},
   "outputs": [],
   "source": []
  },
  {
   "cell_type": "code",
   "execution_count": null,
   "metadata": {},
   "outputs": [],
   "source": []
  },
  {
   "cell_type": "code",
   "execution_count": null,
   "metadata": {},
   "outputs": [],
   "source": []
  },
  {
   "cell_type": "code",
   "execution_count": 19,
   "metadata": {},
   "outputs": [],
   "source": [
    "import numpy as np\n",
    "import random\n",
    "from simplex_method import simplex_method\n",
    "R = np.matrix([[4, 1,  1],\n",
    "               [-1, 2,  1],\n",
    "               [1, 1, -1]], dtype=np.float64)\n",
    "\n",
    "# form a vector b which is in the span of R\n",
    "b = R*np.matrix([[1],\n",
    "                 [2],\n",
    "                 [1]], dtype=np.float64)\n",
    "\n",
    "B = np.matrix([[1, 1, 1],\n",
    "               [1, 1, 0],\n",
    "               [1, 0, 0]], dtype=np.float64)\n",
    "A = np.hstack((R, B))\n",
    "\n",
    "#form a random permutation\n",
    "p = list(range(0, 6))\n",
    "random.shuffle(p)\n",
    "A = A[:, p]\n",
    "\n",
    "c = np.matrix([[-2, 1, 1, -1, -1, -1]], dtype=np.float64)\n",
    "c = c[:, p]\n",
    "\n",
    "# test\n",
    "irule = 0\n",
    "[istatus, X, eta, iB, iN, xB] = simplex_method(A, b, c, irule)"
   ]
  },
  {
   "cell_type": "code",
   "execution_count": null,
   "metadata": {},
   "outputs": [],
   "source": []
  },
  {
   "cell_type": "code",
   "execution_count": null,
   "metadata": {},
   "outputs": [],
   "source": []
  }
 ],
 "metadata": {
  "kernelspec": {
   "display_name": "Python 3",
   "language": "python",
   "name": "python3"
  },
  "language_info": {
   "codemirror_mode": {
    "name": "ipython",
    "version": 3
   },
   "file_extension": ".py",
   "mimetype": "text/x-python",
   "name": "python",
   "nbconvert_exporter": "python",
   "pygments_lexer": "ipython3",
   "version": "3.6.3"
  }
 },
 "nbformat": 4,
 "nbformat_minor": 2
}
