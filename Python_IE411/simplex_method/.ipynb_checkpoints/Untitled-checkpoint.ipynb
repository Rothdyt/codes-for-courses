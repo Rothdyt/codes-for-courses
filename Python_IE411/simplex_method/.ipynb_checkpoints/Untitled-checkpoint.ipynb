{
 "cells": [
  {
   "cell_type": "code",
   "execution_count": 3,
   "metadata": {},
   "outputs": [],
   "source": [
    "from numpy.linalg import inv\n",
    "import numpy as np\n",
    "from numpy.linalg import norm\n",
    "def simplex_step(A, b, c, iB, iN, xB,  irule=0, Binv=\"\"):\n",
    "    if not isinstance(iB, np.ndarray):\n",
    "        iB = np.array(iB)\n",
    "    if not isinstance(iN, np.ndarray):\n",
    "        iN = np.array(iN)\n",
    "    if c.shape[1] > 1:\n",
    "        c = c.T # make c a column vector\n",
    "    # iB begin with index 1\n",
    "    iB = iB - 1\n",
    "    if isinstance(Binv, str):\n",
    "        Binv = inv(A[:,iB])\n",
    "        w_t = np.matmul(c[iB,0].T, Binv)\n",
    "    else:\n",
    "        w_t = np.matmul(c[iB,0].T, Binv)\n",
    "    reduced_cost = c.T - np.matmul(w_t, A)\n",
    "    if np.sum(reduced_cost>=0) < reduced_cost.shape[1]:\n",
    "        print(\"not optimal yet\")\n",
    "        if irule == 0:\n",
    "            j = np.argmin(reduced_cost)\n",
    "        u = np.matmul(Binv, A[:,j])\n",
    "        if np.sum(u > 0) == 0:\n",
    "            print(\"optimal cost is negative infinity\")\n",
    "            istatus = 16\n",
    "            return [istatus]\n",
    "        else:\n",
    "            # minimal ratio test\n",
    "            u = np.asarray(u).reshape(-1,)\n",
    "            idx = np.asarray(np.argwhere(u>0)).reshape(-1)\n",
    "            delta = np.asarray(xB).reshape(-1)[idx] / u[idx]\n",
    "            l = np.argmin(delta)\n",
    "            delta_ =delta[l]\n",
    "            for i in range(A.shape[0]):\n",
    "                if i != l:\n",
    "                    #xB[i,0] += xB[l,0] * (-A[i,j]/A[l,j])\n",
    "                    xB[iB[i],0] -= delta_*u[i]\n",
    "            xB[j,0] = delta_\n",
    "            print(\"an iteration finished\")\n",
    "            istatus = 0\n",
    "            iB[l] = j\n",
    "            Binv = inv(A[:,iB])\n",
    "            iB = iB + 1 # recover the index of basic variables\n",
    "            iN = np.setdiff1d(range(1, A.shape[1]+1), iB)\n",
    "            return [istatus, iB, iN, xB, Binv]\n",
    "    else:\n",
    "        print(\"reach optimal\")\n",
    "        istatus = -1\n",
    "        return [istatus, iB, iN, xB, Binv]"
   ]
  },
  {
   "cell_type": "code",
   "execution_count": 7,
   "metadata": {},
   "outputs": [],
   "source": [
    "from numpy.linalg import inv\n",
    "import numpy as np\n",
    "\n",
    "\n",
    "def simplex_step(A, b, c, iB, iN, xB, irule=0, Binv=\"\"):\n",
    "    \"\"\"\n",
    "    Take a single simplex method step for the linear program\n",
    "\n",
    "      min:    c*x\n",
    "      ST:     Ax=b\n",
    "              x>=0,\n",
    "\n",
    "    where A is an (m,n) matrix.\n",
    "\n",
    "    That is, given a basic feasible vector vector described by the variables\n",
    "    iB,iN,XB,\n",
    "\n",
    "    Input Parameters:\n",
    "\n",
    "        A - (n,m) constraint matrix\n",
    "        b - (m,1) POSITIVE vector appearing in the constraint equation above\n",
    "        c - (1,n) vector giving the coefficients of the objective function\n",
    "\n",
    "        iB - (1,m) integer vector specifying the indices of the basic\n",
    "            variables at the beginning of the simplex step\n",
    "        iN - (1,n-m) integer vector specying the indices of the nonbasic\n",
    "            variables at the beginning of the simplex step\n",
    "        xB - (m,1) vector specifying the values of the basic\n",
    "            variables at the beginning of the simplex step\n",
    "\n",
    "        irule - integer parameter speciying which pivot rule to use:\n",
    "            irule = 0 indicates that the smallest coefficient rule should be\n",
    "                used\n",
    "            irule = 1 indicates that Bland's rule should be used\n",
    "\n",
    "    Output Parameters:\n",
    "\n",
    "        istatus - integer parameter reporting the condition of the\n",
    "            istatus = 0  indicates normal simplex method step\n",
    "            completed\n",
    "            istatus = 16 indicates the program is unbounded\n",
    "            istatus = -1 indicates an optimal feasible vector has been\n",
    "            found\n",
    "\n",
    "        iB - integer vector specifying the m indices of the basic variables\n",
    "            after the simplex step\n",
    "        iN - integer vector specifying the n-m indices of the nonbasic\n",
    "            variables after the simplex step\n",
    "        xB - vector of length m specifying the values of the basic\n",
    "            variables after the simplex step\n",
    "    \"\"\"\n",
    "    if not isinstance(iB, np.ndarray):\n",
    "        iB = np.array(iB)\n",
    "    if not isinstance(iN, np.ndarray):\n",
    "        iN = np.array(iN)\n",
    "    if c.shape[1] > 1:\n",
    "        c = c.T  # make c a column vector\n",
    "    iB = iB - 1  # iB begin with index 1\n",
    "    if isinstance(Binv, str):\n",
    "        Binv = inv(A[:, iB])\n",
    "        w_t = np.matmul(c[iB, 0].T, Binv)\n",
    "    else:\n",
    "        w_t = np.matmul(c[iB, 0].T, Binv)\n",
    "    reduced_cost = c.T - np.matmul(w_t, A)\n",
    "    if np.sum(reduced_cost >= 0) < reduced_cost.shape[1]:\n",
    "        #print(\"not optimal yet\")\n",
    "        if irule == 0:\n",
    "            j = np.argmin(reduced_cost)\n",
    "        elif irule == 1:\n",
    "            for idx, flag in enumerate((x < 0)):\n",
    "                if flag:\n",
    "                    j = idx\n",
    "                    break\n",
    "        else:\n",
    "            raise ValueError(\"incorrect irule!\")\n",
    "        u = np.matmul(Binv, A[:, j])\n",
    "        if np.sum(u > 0) == 0:\n",
    "            print(\"optimal cost is negative infinity\")\n",
    "            istatus = 16\n",
    "            return [istatus]\n",
    "        else:\n",
    "            # minimal ratio test\n",
    "            u = np.asarray(u).reshape(-1,)\n",
    "            idx = np.asarray(np.argwhere(u > 0)).reshape(-1)\n",
    "            delta = np.asarray(xB).reshape(-1)[idx] / u[idx]\n",
    "            l = idx[np.argmin(delta)]#np.argmin(delta)\n",
    "            delta_ = min(delta)\n",
    "            for i in range(A.shape[0]):\n",
    "                if i != l:\n",
    "                    xB[i,0] -= delta_ * (u[i] / u[l]) * xB[l,0]\n",
    "                else:\n",
    "                    xB[i] = delta_\n",
    "            print(\"an iteration finished\")\n",
    "            istatus = 0\n",
    "            iB[l] = j\n",
    "            Binv = inv(A[:, iB])\n",
    "            print(xB)\n",
    "            iB = iB + 1  # recover the index of basic variables\n",
    "            iN = np.setdiff1d(range(1, A.shape[1]+1), iB)\n",
    "            return [istatus, iB, iN, xB, Binv]\n",
    "    else:\n",
    "        print(\"reach optimal\")\n",
    "        istatus = -1\n",
    "        return [istatus, iB, iN, xB, Binv]"
   ]
  },
  {
   "cell_type": "code",
   "execution_count": 8,
   "metadata": {},
   "outputs": [
    {
     "name": "stdout",
     "output_type": "stream",
     "text": [
      "an iteration finished\n",
      "[[1.]\n",
      " [1.]\n",
      " [2.]]\n"
     ]
    }
   ],
   "source": [
    "A1 = np.matrix([[1, 1, 2],\n",
    "                [1, 1, 1],\n",
    "                [1, 1, 1]],dtype = np.float64)\n",
    "\n",
    "A = np.hstack((np.eye(3), A1))\n",
    "\n",
    "b = np.matrix([[1],\n",
    "            [2],\n",
    "            [3]],dtype = np.float64)\n",
    "\n",
    "\n",
    "iB = [1,2,3]\n",
    "iN = [4,5,6]\n",
    "xB = np.matrix(np.copy(b))\n",
    "c  = np.matrix([[0,0,0,-1,-2,1]],dtype = np.float64)\n",
    "\n",
    "# form an invertible matrix B and modify the problem\n",
    "B=np.matrix([[4, 1, 0],\n",
    "            [1, -2, -1],\n",
    "            [1, 2, 4]],dtype = np.float64)\n",
    "A=B*A\n",
    "b=B*b\n",
    "# modify c\n",
    "\n",
    "N=A[:,[index_N-1 for index_N in iN]]\n",
    "c1=np.matrix([1, 1, 1],dtype = np.float64)\n",
    "c2=c1*B.I*N+c[:,[index_N-1 for index_N in iN]]\n",
    "\n",
    "\n",
    "# take a step with the first rule\n",
    "irule = 0\n",
    "[istatus,iB,iN,x,Binv] = simplex_step(A,b,c,iB,iN,xB,irule)\n",
    "\n",
    "\n",
    "X = np.zeros((6,1),dtype = np.float64)\n",
    "X[[(b-1) for b in iB]] = xB\n",
    "\n",
    "if (istatus != 0):\n",
    "    print('INCORRECT ISTATUS!\\n')\n",
    "\n",
    "if (norm(X-np.matrix([[0],[1],[2],[0],[1],[0]]) > 1e-10)):\n",
    "    print('INCORRECT STEP!\\n')\n",
    "\n",
    "\n",
    "if (norm(np.array(sorted(iN))-np.array([1, 4, 6])) > 1e-10):\n",
    "    print('iN incorrect!\\n')\n",
    "\n",
    "\n",
    "if (norm(np.array(sorted(iB))-np.array([2, 3, 5])) > 1e-10):\n",
    "    print('iB incorrect!\\n')"
   ]
  },
  {
   "cell_type": "code",
   "execution_count": 9,
   "metadata": {},
   "outputs": [
    {
     "data": {
      "text/plain": [
       "(array([5, 2, 3]), array([1, 4, 6]), matrix([[1.],\n",
       "         [1.],\n",
       "         [2.]]))"
      ]
     },
     "execution_count": 9,
     "metadata": {},
     "output_type": "execute_result"
    }
   ],
   "source": [
    "iB,iN,xB"
   ]
  },
  {
   "cell_type": "code",
   "execution_count": 54,
   "metadata": {},
   "outputs": [],
   "source": [
    "u = np.array([-1,2,3,-2])\n",
    "xB = np.array([3,4,3,2])"
   ]
  },
  {
   "cell_type": "code",
   "execution_count": 55,
   "metadata": {},
   "outputs": [
    {
     "data": {
      "text/plain": [
       "(array([1, 2]), array([2., 1.]))"
      ]
     },
     "execution_count": 55,
     "metadata": {},
     "output_type": "execute_result"
    }
   ],
   "source": [
    "idx = np.asarray(np.argwhere(u > 0)).reshape(-1)\n",
    "delta = np.asarray(xB).reshape(-1)[idx] / u[idx]\n",
    "idx, delta"
   ]
  },
  {
   "cell_type": "code",
   "execution_count": 58,
   "metadata": {},
   "outputs": [
    {
     "data": {
      "text/plain": [
       "2"
      ]
     },
     "execution_count": 58,
     "metadata": {},
     "output_type": "execute_result"
    }
   ],
   "source": [
    "l = idx[np.argmin(delta)]\n",
    "l"
   ]
  },
  {
   "cell_type": "code",
   "execution_count": 60,
   "metadata": {},
   "outputs": [
    {
     "data": {
      "text/plain": [
       "1.0"
      ]
     },
     "execution_count": 60,
     "metadata": {},
     "output_type": "execute_result"
    }
   ],
   "source": [
    "delta_ = min(delta)\n",
    "delta_"
   ]
  },
  {
   "cell_type": "code",
   "execution_count": 61,
   "metadata": {},
   "outputs": [],
   "source": [
    "for i in range(4):\n",
    "    if i != l: \n",
    "        xB[i] -= delta_ * u[i]\n",
    "xB[l] = delta_"
   ]
  },
  {
   "cell_type": "code",
   "execution_count": 62,
   "metadata": {},
   "outputs": [
    {
     "data": {
      "text/plain": [
       "array([4, 2, 1, 4])"
      ]
     },
     "execution_count": 62,
     "metadata": {},
     "output_type": "execute_result"
    }
   ],
   "source": [
    "xB"
   ]
  },
  {
   "cell_type": "code",
   "execution_count": 32,
   "metadata": {},
   "outputs": [],
   "source": [
    "reduced_cost = np.array([[ 0, 0, 0, -1, -2,  1]])\n",
    "\n",
    "for idx, flag in enumerate((reduced_cost[0] < 0)):\n",
    "    if flag:\n",
    "        j = idx\n",
    "        break"
   ]
  },
  {
   "cell_type": "code",
   "execution_count": 31,
   "metadata": {},
   "outputs": [
    {
     "data": {
      "text/plain": [
       "array([[ 0,  0,  0, -1, -2,  1]])"
      ]
     },
     "execution_count": 31,
     "metadata": {},
     "output_type": "execute_result"
    }
   ],
   "source": [
    "reduced_cost.reshape(reduced_cost.shape[0],-1)"
   ]
  },
  {
   "cell_type": "code",
   "execution_count": 17,
   "metadata": {},
   "outputs": [
    {
     "data": {
      "text/plain": [
       "1"
      ]
     },
     "execution_count": 17,
     "metadata": {},
     "output_type": "execute_result"
    }
   ],
   "source": [
    "j"
   ]
  },
  {
   "cell_type": "code",
   "execution_count": null,
   "metadata": {},
   "outputs": [],
   "source": []
  }
 ],
 "metadata": {
  "kernelspec": {
   "display_name": "Python 3",
   "language": "python",
   "name": "python3"
  },
  "language_info": {
   "codemirror_mode": {
    "name": "ipython",
    "version": 3
   },
   "file_extension": ".py",
   "mimetype": "text/x-python",
   "name": "python",
   "nbconvert_exporter": "python",
   "pygments_lexer": "ipython3",
   "version": "3.6.3"
  }
 },
 "nbformat": 4,
 "nbformat_minor": 2
}
