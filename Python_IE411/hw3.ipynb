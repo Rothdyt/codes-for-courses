{
 "cells": [
  {
   "cell_type": "markdown",
   "metadata": {},
   "source": [
    "## 2.49\n",
    "\n",
    "### a)\n",
    "Yes. Consider the following setting:\n",
    "\n",
    "Denote $A= \\begin{bmatrix}1 & -1 \\\\ 1 & -1\\end{bmatrix}$ and $b=(1,-1)^T$. Then the set $\\{x|Ax \\leq b; x\\geq 0\\}$ is empty while the set $\\{d|Ad\\leq 0; d\\geq 0, 1^Td=0\\}$ has a element of $(0.5, 0.5)^T$.\n",
    "\n",
    "### b)\n",
    "There's no relationship between these two. The left figure has a redundant defining plane (1), but has no degeneracy. While the second figure has 1 degree of degeneracy, but has no redundancy.\n",
    "\n",
    "![(b)](./figs/redundancy.png)\n",
    "![(a)](./figs/degenercy.png)\n",
    "\n",
    "### c)\n",
    "Yes. Because in three dimensions or higher, a degenerated extreme point can lie on more than 2 defining planes and remove any of it will change the polyhedron set while it is not true for 2-d space.\n",
    "\n",
    "### d)\n",
    "No. Consider $A= \\begin{bmatrix}1 & 0 \\\\ 1 & 0\\end{bmatrix}$ and $b=(2, 1)^T$ and the polyhedron set defined by $A$ and $b$, that is $\\{x|Ax \\leq b\\}$. The intersection of two half spaces is $\\{(x,y); x\\leq 1, y\\in R\\}$, but there is no extreme point.\n",
    "\n",
    "### e)\n",
    "False. Consider a convex cone defined by $n+1$ hyper-planes, then it can have $n+1$ extreme directions. For example, the figure below has more than 3 extreme directions. (Source:Google Image.)\n",
    "\n",
    "![(a)](./figs/cone.png)\n",
    "\n",
    "### f)\n",
    "dim(X) = n - r."
   ]
  },
  {
   "cell_type": "markdown",
   "metadata": {},
   "source": [
    "## 2.50\n",
    "\n",
    "We can have at most $C_6^4=15$ basic solutions. By the code following, we see there are only 13 basic solutions. Out of 13 basic solutions, there are only 4 basic feasible solutions, which implies we have 4 extreme points.\n",
    "\n",
    "Extreme points are:\n",
    "```\n",
    "(0,1,0,1), (0,1,0,0), (0,0,0,1), (0,0,0,0)\n",
    "```"
   ]
  },
  {
   "cell_type": "code",
   "execution_count": 19,
   "metadata": {},
   "outputs": [],
   "source": [
    "import numpy as np\n",
    "A = np.array([[-1,1,-2,0], [-2,0,-1,2], [1,0,0,0], [0,1,0,0], [0,0,1,0], [0,0,0,1]])\n",
    "b = np.array([[1],[2],[0],[0],[0],[0]])\n",
    "root = {}\n",
    "for i in range(0, A.shape[0]-3):\n",
    "    for j in range(i+1, A.shape[0]-2):\n",
    "        for k in range(j+1, A.shape[0]-1):\n",
    "            for l in range(k+1, A.shape[0]):\n",
    "                try: \n",
    "                    temp = np.linalg.solve(A[[i,j,k,l], :], b[[i,j,k,l],:])\n",
    "                    root[str(i)+str(j)+str(k)+str(l)] = temp\n",
    "                except np.linalg.LinAlgError:\n",
    "                    pass"
   ]
  },
  {
   "cell_type": "markdown",
   "metadata": {},
   "source": [
    "To find the extreme directions, it's  equivalent to find the basic feasible solutions of the $\\{d | Ad\\leq 0, d\\geq 0\\ 1^Td=0\\}$.\n",
    "\n",
    "Extreme directions are:\n",
    "\n",
    "```\n",
    "(0, 4/7, 2/7, 1/7)\n",
    "(1/3, 1/3, 0, 1/3), (0, 0, 2/3, 1/3), (0, 2/3, 1/3, 0)\n",
    "(0.5, 0, 0, 0.5), (0.5, 0.5, 0, 0)\n",
    "(1,0,0,0), (0, 1, 0, 0), (0, 0, 1, 0), (0,0,0,1)\n",
    "```"
   ]
  },
  {
   "cell_type": "code",
   "execution_count": 63,
   "metadata": {},
   "outputs": [],
   "source": [
    "A = np.array([[-1,1,-2,0], [-2,0,-1,2], [1,0,0,0], [0,1,0,0], [0,0,1,0], [0,0,0,1], [1,1,1,1]])\n",
    "zero = np.array([[0],[0],[0],[0],[0],[0],[1]])\n",
    "root = {}\n",
    "for i in range(0, A.shape[0]-3):\n",
    "    for j in range(i+1, A.shape[0]-2):\n",
    "        for k in range(j+1, A.shape[0]-1):\n",
    "                try: \n",
    "                    temp = np.linalg.solve(A[[i,j,k,6], :], zero[[i,j,k,6],:])\n",
    "                    check = True\n",
    "                    if np.sum([d<0 for d in temp]) > 0:\n",
    "                        check = False\n",
    "                    if check:\n",
    "                        root[str(i)+str(j)+str(k)+str(l)] = [float(x).as_integer_ratio() for x in temp]\n",
    "                except np.linalg.LinAlgError:\n",
    "                    pass"
   ]
  },
  {
   "cell_type": "markdown",
   "metadata": {},
   "source": [
    "## Exercise 2.6\n",
    "\n",
    "a) \n",
    "If $n\\leq m$, then the argument is trivial. Now suppose that $n>m+1$. Pick an arbitrary $y\\in C$ and consider the polyhedral set\n",
    "\n",
    "$$\n",
    "P = \\{\\lambda=(\\lambda_1,...\\lambda_n)| \\sum_{i=1}^m \\lambda_i A_i=y\\}.\n",
    "$$\n",
    "\n",
    "\n",
    "By the choice of $y$, we know that there exist an extreme point in P,say $x_0$ (corollary 2.2). So there are at least $n-m$ zero components in $\\lambda$, which implies that there are at most $m$ nonzero components in $\\lambda$. This concludes the proof.\n",
    "\n",
    "b)\n",
    "\n",
    "If $n\\leq m$, then the argument is trivial."
   ]
  },
  {
   "cell_type": "markdown",
   "metadata": {},
   "source": [
    "## Exercise 2.10\n",
    "a) **TRUE**\n",
    "\n",
    "proof: WLOG, we assume $A=[A_1, A_2], x=(x_1,x_2)^T$, where $A_1, A_2, x_1, x_2$ are of dimension $m\\times m, m\\times 1, m\\times 1, 1\\times 1$ and $A_1$ are of rank $m$. Then we can rewrite $Ax=b$ as $A_1x_1 + A_2x_2=b$. As $A_1$ is invertible, $x_1=A_1^{-1}(b-A_2x_2)$, which implies the dimension of $X$ is actually 1. That is to say, the solutions are always of the form\n",
    "$$\n",
    "x= \\begin{bmatrix}A_1^{-1}(b-A_2x_2) \\\\ x_2\\end{bmatrix} \\overset{\\Delta}{=} \\begin{bmatrix}a-cx_2 \\\\ x_2\\end{bmatrix} \n",
    "$$\n",
    "Note that if we have more than two basic feasible solution, say three, then they must lie on a line segment, which is contained with the $X$. Then the \"middle\" one can be represent as a strict convex combination of the remaining two, which leads to the contradiction of the definition of the extreme point.\n",
    "\n",
    "b) **False**\n",
    "\n",
    "Consider minimizing $0$, subject to $x\\geq 0$. The optimal solution set $[0, \\infty)$ is unbounded.\n",
    "\n",
    "c) **False**\n",
    "\n",
    "Consider the problem\n",
    "$$\n",
    "\\min_{x\\in X} 0, \n",
    "$$\n",
    "\n",
    "then all $x\\in X$ are optimal, but they are not necessarily to be a basic feasible solution.\n",
    "\n",
    "d) **True**\n",
    "\n",
    "The convex combination of any two optimal is another optimal solution.\n",
    "\n",
    "e) **False**\n",
    "\n",
    "$$\n",
    "\\begin{align*}\n",
    "& \\min_{x_2} x_2 \\\\\n",
    "& s.t. \\\\\n",
    "& x_3 = 1 \\\\\n",
    "& x_1, x_2, x_3 \\geq 0\n",
    "\\end{align*}\n",
    "$$\n",
    "\n",
    "Then the optimal solution set is $\\{(x_1,0,0)|x_1 \\geq 0\\}$. But we only have one basic feasible solution set.\n",
    "\n",
    "f) **False**\n",
    "\n",
    "Consider the following problem:\n",
    "\n",
    "$$\n",
    "\\begin{align*}\n",
    "& \\min_{x_1,x_2} \\max\\{x_1-x_2, x_2-x_1\\} \\\\\n",
    "& s.t. \\\\\n",
    "& x_2 = 1 \\\\\n",
    "& x_1 + x_3 = 2\\\\\n",
    "& x_1, x_2, x_3 \\geq 0\n",
    "\\end{align*}\n",
    "$$\n",
    "$(1, 1, 1)$ is the unique optimal solution, but there are only two constraints that are active at $(1, 1, 1)$."
   ]
  },
  {
   "cell_type": "markdown",
   "metadata": {},
   "source": [
    "## Exercise 2.12\n",
    "True. The point $x_0=(0,0,...,0)^T$ is a basic feasible solution."
   ]
  },
  {
   "cell_type": "markdown",
   "metadata": {},
   "source": [
    "## Exercise 2.13\n",
    "### (a)\n",
    "As $r(A)=m$, we can find $n$ columns of $A$ such that they are linear "
   ]
  }
 ],
 "metadata": {
  "kernelspec": {
   "display_name": "Python 3",
   "language": "python",
   "name": "python3"
  },
  "language_info": {
   "codemirror_mode": {
    "name": "ipython",
    "version": 3
   },
   "file_extension": ".py",
   "mimetype": "text/x-python",
   "name": "python",
   "nbconvert_exporter": "python",
   "pygments_lexer": "ipython3",
   "version": "3.6.3"
  }
 },
 "nbformat": 4,
 "nbformat_minor": 2
}
