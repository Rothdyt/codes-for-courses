{
 "cells": [
  {
   "cell_type": "markdown",
   "metadata": {},
   "source": [
    "<div align=\"center\">\n",
    "  <h1>Homework 2</h1>\n",
    "    <p>\n",
    "        <div align=\"center\">\n",
    "        <h2>Yutong Dai yutongd3@illinois.edu</h2>\n",
    "        </div>\n",
    "    </p>\n",
    "</div>"
   ]
  },
  {
   "cell_type": "markdown",
   "metadata": {},
   "source": [
    "## 1.36\n",
    "### a\n",
    "$$\n",
    "\\begin{align*}\n",
    "& \\max  -x_1 - x_2 + 2x_3 + x_4 \\\\\n",
    "& s.t.\\\\\n",
    "& 2x_1 + x_2 + x_3 + x_4 - x_5 = 6 \\\\\n",
    "& x_1 + 2x_2 - 2x_3 + x_4 + x_6 = 4\\\\\n",
    "& x_i \\geq 0, i=1,...,6\n",
    "\\end{align*}\n",
    "$$\n",
    "\n",
    "Transform this problem into matrix notation, we obtain\n",
    "\n",
    "$$\n",
    "\\begin{pmatrix}\n",
    "-1 & -1 & 2 & 1 & 0 & 0\\\\\n",
    "2 & 1 & 1 & 1 & -1 & 0 \\\\\n",
    "1 & 2 & -2 & 1 & 0 & 1\n",
    "\\end{pmatrix}\n",
    "\\begin{pmatrix}\n",
    "x_1\\\\\n",
    "x_2\\\\\n",
    "x_3\\\\\n",
    "x_4\\\\\n",
    "x_5\\\\\n",
    "x_6\n",
    "\\end{pmatrix}=\n",
    "\\begin{pmatrix}\n",
    "z\\\\\n",
    "6\\\\\n",
    "4\n",
    "\\end{pmatrix}.\n",
    "$$\n",
    "We denote it as $Ax =b$. The requirement space is the cone formed by the column of $A[2:3, 1:6]$."
   ]
  },
  {
   "cell_type": "code",
   "execution_count": 3,
   "metadata": {},
   "outputs": [
    {
     "data": {
      "image/png": "[encoded data removed]",
      "text/plain": [
       "<matplotlib.figure.Figure at 0x115e6d390>"
      ]
     },
     "metadata": {},
     "output_type": "display_data"
    }
   ],
   "source": [
    "import numpy as np\n",
    "import matplotlib.pyplot as plt\n",
    "%matplotlib inline\n",
    "xs = [2, 1, 1, 1, -1, 0]\n",
    "ys = [1, 2, -2, 1, 0, 1]\n",
    "ax = plt.axes()\n",
    "for i,j in zip(xs, ys):\n",
    "    x,y= [i,0], [j,0],\n",
    "    ax.scatter(x,y, c='r',s=10)\n",
    "    ax.plot(x,y, color='r')\n",
    "plt.tight_layout()\n",
    "plt.show()"
   ]
  },
  {
   "cell_type": "markdown",
   "metadata": {},
   "source": [
    "### b\n",
    "The feasibility requires that $b$ lies in the cone formed by the columns of $A$."
   ]
  },
  {
   "cell_type": "markdown",
   "metadata": {},
   "source": [
    "### c\n",
    "To maximize $z$, we need to try all possible non-negative combinations of two column vectors. That is, solve the following linear systems,\n",
    "$$\n",
    "\\alpha A_i +\\beta A_j = (z, 6, 4)^T, i\\neq j, \\alpha,\\beta\\geq 0.\n",
    "$$\n",
    "\n",
    "To avoid tedious calculation, I use the following code."
   ]
  },
  {
   "cell_type": "code",
   "execution_count": 41,
   "metadata": {},
   "outputs": [
    {
     "data": {
      "text/plain": [
       "{'row index': 3, 'column index': 6, 'root': array([[ 6.],\n",
       "        [16.]]), 'z': array([12.])}"
      ]
     },
     "execution_count": 41,
     "metadata": {},
     "output_type": "execute_result"
    }
   ],
   "source": [
    "A = np.array([[-1, -1, 2, 1, 0, 0],[2, 1, 1, 1, -1, 0], [1, 2, -2, 1, 0, 1]])\n",
    "combination = []\n",
    "row_index = []; col_index = []; root = []; z =[]\n",
    "for i in range(A.shape[1]):\n",
    "    for j in range(i+1, A.shape[1]):\n",
    "        a = A[1:3,[i,j]]\n",
    "        b = np.array([[6],[4]])\n",
    "        root = np.linalg.solve(a, b)\n",
    "        combination.append({\"row index\":i+1, \"column index\":j+1, \"root\":root, \"z\": np.dot(A[0, [i,j]], root)})\n",
    "combination[11]"
   ]
  },
  {
   "cell_type": "markdown",
   "metadata": {},
   "source": [
    "It turns out that \n",
    "$$\n",
    "\\begin{pmatrix}\n",
    " 2 & 0 \\\\\n",
    "1 & 0  \\\\\n",
    " -2 & 1 \n",
    "\\end{pmatrix},\n",
    "$$\n",
    "which gives the solution $x = (0,0,6,0,0,16)$ and the maximal value of $z$ is $12$."
   ]
  },
  {
   "cell_type": "markdown",
   "metadata": {},
   "source": [
    "## 2.28\n",
    "You can either visually see them or by definition for $a,b,c,e,f$. One more thing to point out is that the intersection of two convex set is still convex, which implies that $d$ is convex.\n",
    "\n",
    "**convex set**:   b, d, e\n",
    "\n",
    "**non-convex set**: a, c, f"
   ]
  },
  {
   "cell_type": "markdown",
   "metadata": {},
   "source": [
    "## 2.40\n",
    "\n",
    "There are 5 constraints but none of them is equality constrain. We can have $C_{5}^2=10$ different basic solutions. "
   ]
  },
  {
   "cell_type": "code",
   "execution_count": 2,
   "metadata": {},
   "outputs": [],
   "source": [
    "C = np.array([[1,2,1], [-1,1,2], [1,0,0], [0,1,0], [0,0,1]])\n",
    "b = np.array([[5],[6],[0],[0],[0]])\n",
    "root = []\n",
    "for i in range(0, C.shape[0]-2):\n",
    "    for j in range(i+1, C.shape[0]-1):\n",
    "        for k in range(j+1, C.shape[0]):\n",
    "            root.append(np.linalg.solve(A[[i,j,k], :], b[[i,j,k],:]))"
   ]
  },
  {
   "cell_type": "markdown",
   "metadata": {},
   "source": [
    "After careful examination, there are 6 extreme points:\n",
    "\n",
    "```\n",
    "(0,4/3, 7/3), (4/3, 0, 11/3), (0, 5/2, 0), \n",
    "(5, 0 ,0),    (0, 0, 3),      (0, 0, 0)\n",
    "```"
   ]
  },
  {
   "cell_type": "markdown",
   "metadata": {},
   "source": [
    "## 2.43\n",
    "Assume there are $r< n$ linearly independent hyperplanes are active at $x_0$. Denote this fact as $Hx_0=h$, where $H\\in R^{r\\times n}$ and $h \\in R^r$. \n",
    "Since $r<n$, there exists such a $d\\neq 0$, that $Hd=0$. For a sufficiently small $\\epsilon$, we have $x_1 = x_0 + \\epsilon d$ and $x_2=x_0 - \\epsilon d$ that are also active at hyperplanes defined by $G$. In other words, $Gx_1=Gx_2$. Also, for constraints that are not active at $x_0$ remain satisfied at $x_1$ and $x_2$ provided $\\epsilon$ is small enough. So $x_0 = \\frac{1}{2}x_1 + \\frac{1}{2}x_2$, which implies that $x_0$ cannot be an extreme point."
   ]
  },
  {
   "cell_type": "markdown",
   "metadata": {},
   "source": [
    "## 2.45\n",
    "Suppose $d$ is a direction of the set $X$, then by the definition, $d\\neq 0$. Also $\\forall\\lambda\\geq0, x+\\lambda d \\in X$. This implies\n",
    "\n",
    "1. $A(x+\\lambda d)=c$.\n",
    "\n",
    "2. $x+\\lambda d\\geq 0$.\n",
    "\n",
    "`1` implies $Ad = 0$ and `2` implies $d >0$ as it holds for any $\\lambda>0$.\n",
    "\n",
    "Update the set $X$ as $X'=\\{x;A_1x=b_1, A_2x \\geq b_2, x\\geq 0\\}$.\n",
    "Suppose $d$ is a direction of the set $X'$. Similarly, we have\n",
    "\n",
    "a. $d\\neq 0$.\n",
    "\n",
    "b. $\\forall\\lambda\\geq0, x+\\lambda d \\in X'$.\n",
    "\n",
    "`b` implies $A_1d =0, d\\geq 0$ and $A_2d \\geq 0$."
   ]
  },
  {
   "cell_type": "markdown",
   "metadata": {},
   "source": [
    "## 1\n",
    "\n",
    "a) Since the cardinality of the constrain set $\\{x\\cos\\theta + y\\sin\\theta|\\theta \\in [0,\\pi/2]\\}$ is not finite. So the set is **not** a polyhedron.\n",
    "\n",
    "b) Since empty set can be described in the form of $\\{x;Ax\\geq b\\}$. So the **empty set is a polyhedron.**\n"
   ]
  }
 ],
 "metadata": {
  "kernelspec": {
   "display_name": "Python 3",
   "language": "python",
   "name": "python3"
  },
  "language_info": {
   "codemirror_mode": {
    "name": "ipython",
    "version": 3
   },
   "file_extension": ".py",
   "mimetype": "text/x-python",
   "name": "python",
   "nbconvert_exporter": "python",
   "pygments_lexer": "ipython3",
   "version": "3.6.3"
  }
 },
 "nbformat": 4,
 "nbformat_minor": 2
}
