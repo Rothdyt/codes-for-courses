{
 "cells": [
  {
   "cell_type": "markdown",
   "metadata": {},
   "source": [
    "<div align=\"center\">\n",
    "  <h1>Homework 7</h1>\n",
    "    <p>\n",
    "        <div align=\"center\">\n",
    "        <h2>Yutong Dai yutongd3@illinois.edu</h2>\n",
    "        </div>\n",
    "    </p>\n",
    "</div>"
   ]
  },
  {
   "cell_type": "markdown",
   "metadata": {},
   "source": [
    "## 6.33\n",
    "\n",
    "\n",
    "The dual problem is \n",
    "$$\n",
    "\\begin{align}\n",
    "& \\min \\quad 3 w_1 + 6 w_2\\\\\n",
    "& s.t \\quad w_1 + 2w_2 \\geq 2\\\\\n",
    "& \\qquad w_1 + 3w_2 \\geq -3\\\\\n",
    "& \\qquad w_1\\leq 0,w_2\\geq 0\n",
    "\\end{align}\n",
    "$$\n",
    "\n",
    "It's easy to verify $(w_1^*,w_2^*)=(\\frac{11}{-2}, \\frac{5}{2})$ is a feasible solution to the dual and satisfy the KKT condition. Therefore, $(x_1^*,x_2^*)=(3/2, 3/2)$ is the optimal solution to the dual.\n",
    "\n",
    "---\n",
    "\n",
    "* The first method is \"Big-M\" method. First convert the problem to the standard form and adding the artificial variables, where they serve as the initial basis. \n",
    "\n",
    "* The second method is the artificial constraints technique, where we adding a upper bound on the summation of all non-basic variables.\n",
    "\n",
    "I will use the second method.\n",
    "\n",
    "The tableau for the primal is as follow, where the dual is not feasible.\n",
    "\n",
    "|  | $z$ | $x_1$ | $x_2$ | $x_3$ | $x_4$ | RHS |\n",
    "| --- | --- | --- | --- | --- | --- | --- |\n",
    "| $z$ | -1 | 2 | -3 | 0 | 0 | 0 |\n",
    "| $x_3$ | 0 | -1 | -1 | 1 | 0 | -3 |\n",
    "| $x_4$ | 0 | 3 | 1 | 0 | 1 | 6 |\n",
    "\n",
    "Adding constrain $x_1 + x_2 \\leq M$, we have the following tableau.\n",
    "\n",
    "|  | $z$ | $x_1$ | $x_2$ | $x_3$ | $x_4$ | $x_5$ | RHS |\n",
    "| --- | --- | --- | --- | --- | --- | --- | --- |\n",
    "| $z$ | -1 | 2 | -3 | 0 | 0 | 0 | 0 |\n",
    "| $x_5$ | 0 | 1 | 1 | 0 | 0 | 1 | M |\n",
    "| $x_3$ | 0 | -1 | -1 | 1 | 0 | 0 | -3 |\n",
    "| $x_4$ | 0 | 3 | 1 | 0 | 1 | 0 | 6 |\n",
    "\n",
    "* The first iteration:\n",
    "\n",
    "|  | $z$ | $x_1$ | $x_2$ | $x_3$ | $x_4$ | $x_5$ | RHS |\n",
    "| --- | --- | --- | --- | --- | --- | --- | --- |\n",
    "| $z$ | -1 | 0 | -5 | 0 | 0 | -2 | -2M |\n",
    "| $x_1$ | 0 | 1 | 1 | 0 | 0 | 1 | M |\n",
    "| $x_3$ | 0 | 0 | 0 | 1 | 0 | 1 | -3 + M |\n",
    "| $x_4$ | 0 | 0 | -2 | 0 | 1 | -3 | 6 -3M |\n",
    "\n",
    "* The second iteration:\n",
    "\n",
    "|  | $z$ | $x_1$ | $x_2$ | $x_3$ | $x_4$ | $x_5$ | RHS |\n",
    "| --- | --- | --- | --- | --- | --- | --- | --- |\n",
    "| $z$ | -1 | 0 | -11/3 | 0 | -2/3 | 0 | -4 |\n",
    "| $x_1$ | 0 | 1 | 1/3 | 0 | 1/3 | 0 | 2 |\n",
    "| $x_3$ | 0 | 0 | -2/3 | 1 | 1/3 | 0 | -1 |\n",
    "| $x_5$ | 0 | 0 | 2/3 | 0 | -1/3 | 1 | M-2 |\n",
    "\n",
    "* The third iteration:\n",
    "\n",
    "|  | $z$ | $x_1$ | $x_2$ | $x_3$ | $x_4$ | $x_5$ | RHS |\n",
    "| --- | --- | --- | --- | --- | --- | --- | --- |\n",
    "| $z$ | -1 | 0 | 0 | -11/2 | -5/2 | 0 | 3/2 |\n",
    "| $x_1$ | 0 | 1 | 0 | 1/2 | 1/2 | 0 | 3/2 |\n",
    "| $x_2$ | 0 | 0 | 1 | -3/2 | -1/2 | 0 | 3/2 |\n",
    "| $x_4$ | 0 | 0 | 0 | 1 | 0 | 1 | M-2 |\n",
    "\n",
    "So the optimal solution for the primal is $(3/2, 3/2)$."
   ]
  },
  {
   "cell_type": "markdown",
   "metadata": {},
   "source": [
    "## 6.54\n",
    "\n",
    "**a)**\n",
    "\n",
    "The dual problem is \n",
    "$$\n",
    "\\begin{align}\n",
    "& \\min \\quad 8w_1 + 4w_2\\\\\n",
    "& s.t \\quad w_1 - w_2 \\geq 2\\\\\n",
    "& \\qquad 2w_1 - w_2 \\geq 1\\\\\n",
    "& \\qquad 3w_1 - 2w_2 \\geq -1\\\\\n",
    "& \\qquad w_1\\leq 0,w_2\\geq 0\n",
    "\\end{align}\n",
    "$$\n",
    "\n",
    "Since the constraints in the primal are of $\\leq$ type, we know that the optimal solution for the dual is $(2,0)$ ."
   ]
  },
  {
   "cell_type": "markdown",
   "metadata": {},
   "source": [
    "**b)**\n",
    "\n",
    "Note $x_2$ is a non-basic feasible solution and $c_2' - z_2=1>0$, therefore $x_2$ will enter the basis and change the optimal solution. \n",
    "\n",
    "The tableau becomes\n",
    "\n",
    "|  | $z$ | $x_1$ | $x_2$ | $x_3$ | $x_4$ | $x_5$ | RHS |\n",
    "| --- | --- | --- | --- | --- | --- | --- | --- |\n",
    "| $z$ | -1 | 0 | 1 | -3 | -2 | 0 | -16 |\n",
    "| $x_1$ | 0 | 1 | 2 | 1 | 1 | 0 | 8 |\n",
    "| $x_5$ | 0 | 0 | 3 | -1 | 1 | 1 | 12 |\n",
    "\n",
    "After one iteration, we reach the optimal tableau.\n",
    "\n",
    "\n",
    "|  | $z$ | $x_1$ | $x_2$ | $x_3$ | $x_4$ | $x_5$ | RHS |\n",
    "| --- | --- | --- | --- | --- | --- | --- | --- |\n",
    "| $z$ | -1 | 0 | 0 | -3/2 | -3/2 | 0 | -20 |\n",
    "| $x_2$ | 0 | 1/2 | 0 | 1/2 | 1/2 | 0 | 4 |\n",
    "| $x_5$ | 0 | -1/2 | 0 | -3/2 | 1/2 | 1 | 0 |\n",
    "\n",
    "The new optimal solution becomes $(x_1, x_2, x_3)=(0,4,0)$"
   ]
  },
  {
   "cell_type": "markdown",
   "metadata": {},
   "source": [
    "**c)**\n",
    "\n",
    "Note $x_2$ is a non-basic feasible solution and $c_2 - c_B^TB^{-1}A_j'=1-1/3=2/3>0$, therefore $x_2$ will enter the basis and change the optimal solution. \n",
    "\n",
    "|  | $z$ | $x_1$ | $x_2$ | $x_3$ | $x_4$ | $x_5$ | RHS |\n",
    "| --- | --- | --- | --- | --- | --- | --- | --- |\n",
    "| $z$ | -1 | 0 | 2/3 | -3 | -2 | 0 | -16 |\n",
    "| $x_1$ | 0 | 1 | 1/6 | 1 | 1 | 0 | 8 |\n",
    "| $x_5$ | 0 | 0 | 7/6 | -1 | 1 | 1 | 12 |\n",
    "\n",
    "After one iteration, we reach the optimal tableau.\n",
    "\n",
    "\n",
    "|  | $z$ | $x_1$ | $x_2$ | $x_3$ | $x_4$ | $x_5$ | RHS |\n",
    "| --- | --- | --- | --- | --- | --- | --- | --- |\n",
    "| $z$ | -1 | 0 | 0 | -17/7 | -18/7 | -4/7 | -28 |\n",
    "| $x_1$ | 0 | 1 | 0 | 8/7 | 6/7 | -1/7 | 44/7 |\n",
    "| $x_2$ | 0 | 0 | 1 | -6/7 | 1/7 | 6/7 | 72/7 |\n",
    "\n",
    "The new optimal solution becomes $(x_1, x_2, x_3)=(44/7,72/7,0)$"
   ]
  },
  {
   "cell_type": "markdown",
   "metadata": {},
   "source": [
    "**d)**\n",
    "\n",
    "Set up the tableau as\n",
    "\n",
    "|  | $z$ | $x_1$ | $x_2$ | $x_3$ | $x_4$ | $x_5$ | $x_6$ | RHS |\n",
    "| --- | --- | --- | --- | --- | --- | --- | --- | --- |\n",
    "| $z$ | -1 | 0 | -3 | -3 | -2 | 0 | 0 | -16 |\n",
    "| $M$ | -1 | 0 | 0 | 0 | 0 | 0 | -1 | 0 |\n",
    "| $x_1$ | 0 | 1 | 2 | 1 | 1 | 0 | 0 | 8 |\n",
    "| $x_5$ | 0 | 0 | 3 | -1 | 1 | 1 | 0 | 12 |\n",
    "| $x_6$ | 0 | 0 | 1 | 2 | 0 | 0 | 1 | 3 |\n",
    "\n",
    "and make $x_6$ as true basic variable by adding the last row to the zero row. We obtain\n",
    "\n",
    "|  | $z$ | $x_1$ | $x_2$ | $x_3$ | $x_4$ | $x_5$ | $x_6$ | RHS |\n",
    "| --- | --- | --- | --- | --- | --- | --- | --- | --- |\n",
    "| $z$ | -1 | 0 | -3 | -3 | -2 | 0 | 0 | -16 |\n",
    "| $M$ | -1 | 1 | 2 | 0 | 0 | 0 | 0 | 3 |\n",
    "| $x_1$ | 0 | 1 | 2 | 1 | 1 | 0 | 0 | 8 |\n",
    "| $x_5$ | 0 | 0 | 3 | -1 | 1 | 1 | 0 | 12 |\n",
    "| $x_6$ | 0 | 0 | 1 | 2 | 0 | 0 | 1 | 3 |\n",
    "\n",
    "After one iteration,\n",
    "\n",
    "|  | $z$ | $x_1$ | $x_2$ | $x_3$ | $x_4$ | $x_5$ | $x_6$ | RHS |\n",
    "| --- | --- | --- | --- | --- | --- | --- | --- | --- |\n",
    "| $z$ | -1 | 0 | -3/2 | 0 | -2 | 0 | 3/2 | -23/2 |\n",
    "| $M$ | -1 | 0 | 0 | 0 | 0 | 0 | -1 | 0 |\n",
    "| $x_1$ | 0 | 1 | 3/2 | 0 | 1 | 0 | -1/2 | 13/2 |\n",
    "| $x_5$ | 0 | 0 | 7/2 | 0 | 1 | 1 | 1/2 | 27/2 |\n",
    "| $x_6$ | 0 | 0 | 1/2 | 1 | 0 | 0 | 1/2 | 3/2 |\n",
    "\n",
    "\n",
    "we reach the optimal. The new optimal solution becomes $(x_1, x_2, x_3)=(13/2, 0, 3/2)$"
   ]
  },
  {
   "cell_type": "markdown",
   "metadata": {},
   "source": [
    "**e)**\n",
    "\n",
    "Suppose the new right-hand-side is $b'$. Then $B^{-1}b'=(b_1' , b_1'+ b_2')^T$. As we will increase 8 or 4 to $b_1'$ or $b_2'$. Either way will ensure $B^{-1}b'\\geq 0$, therefore, the same basis is still optimal.\n",
    "\n",
    "- If we change $b_1$ then, we will change the optimal solution from $(b_1,0,0)$ to $(b_1',0,0)$. It will increase the objective value by $2(b_1' -b_1)$\n",
    "\n",
    "- If we change $b_2$ then, we won't change the optimal solution  $(b_1,0,0)$, hence the objective value."
   ]
  },
  {
   "cell_type": "markdown",
   "metadata": {},
   "source": [
    "**f)**\n",
    "As $c_6 -x_6=6-wA_6=2>0$, $x_6$ will enter the basis.\n",
    "\n",
    "The initial tableau is \n",
    "\n",
    "|   | $z$ | $x_1$ | $x_2$ | $x_3$ | $x_4$ | $x_5$ | $x_6$ | RHS |\n",
    "| --- | --- | --- | --- | --- | --- | --- | --- | --- |\n",
    "| $z$ | -1 | 0 | -3 | -3 | -2 | 0 | 2 | -16 |\n",
    "| $x_1$ | 0 | 1 | 2 | 1 | 1 | 0 | 2 | 8 |\n",
    "| $x_5$ | 0 | 0 | 3 | -1 | 1 | 1 | 3 | 12 |\n",
    "\n",
    "After one iteration, the tableau becomes\n",
    "\n",
    "|  | $z$ | $x_1$ | $x_2$ | $x_3$ | $x_4$ | $x_5$ | $x_6$ | RHS |\n",
    "| --- | --- | --- | --- | --- | --- | --- | --- | --- |\n",
    "| $z$ | -1 | -1 | -5 | -4 | -3 | 0 | 0 | -24 |\n",
    "| $x_6$ | 0 | 1/2 | 1 | 1/2 | 1/2 | 0 | 1 | 4 |\n",
    "| $x_5$ | 0 | -3/2 | 0 | -5/2 | -1/2 | 1 | 0 | 0 |\n",
    "\n",
    "The optimal solution is $(x_1, x_2, x_3,x_6)=(0,0,0,4)$\n"
   ]
  },
  {
   "cell_type": "markdown",
   "metadata": {},
   "source": [
    "## 6.68\n",
    "\n",
    "Before we proceed, we need to calculate a few quantity:\n",
    "\n",
    " * $(c_6,c_7,c_8)-(c_1,c_2,c_3)B^{-1}A_{[:,(6,7,8)]} = (\\bar c_6,\\bar c_7, \\bar c_8)=(-2,-1/10,-2) \\Rightarrow (c_1,c_2,c_3)=(2,4,1)$, where $A_{[:,(6,7,8)]}$ is $I_3$.\n",
    " * $(c_4,c_5) - (c_1,c_2,c_3)B^{-1}A_{[:,(3,4)]}=(\\bar c_4,\\bar c_5)=(-2,0)\\Rightarrow (c_4,c_5)=(3,2)$\n",
    " * $b=B\\bar b=(14/9, 110/3, 46/9)^T$"
   ]
  },
  {
   "cell_type": "markdown",
   "metadata": {},
   "source": [
    "We perturbe the $b$ along the direction $d=(-1,0,0)^T$.\n",
    "\n",
    "**Iteration 1:**\n",
    "\n",
    "* Calculate $B^{-1}d = (-0.5,  1 , -5)^T$, So $S=\\{1,3\\}$.\n",
    "* Calculate the minimal ration $\\theta=7/5$.\n",
    "* If $\\theta\\in [0,7/5]$, the current basis $(A_1,A_2,A_3)$ is always optimal. Further, the objective value and right hand side will be\n",
    "\n",
    "$$\n",
    "z(\\theta) = 17 - 2\\theta \\qquad \\bar b = (3-\\frac{1}{2}\\theta, 1 + \\theta, 7-5\\theta)^T.\n",
    "$$\n",
    "\n",
    "* When $\\theta =7/5$, then $x_3=0$, therefore we perform dual simplex method on the tableau below.\n",
    "\n",
    "|  | $z$ | $x_1$ | $x_2$ | $x_3$ | $x_4$ | $x_5$ | $x_6$ | $x_7$ | $x_8$ | RHS |\n",
    "| --- | --- | --- | --- | --- | --- | --- | --- | --- | --- | --- |\n",
    "| $z$ | -1 | 0 | 0 | 0 | -2 | 0 | -2 | -1/10 | -2 | -71/5 |\n",
    "| $x_1$ | 0 | 1 | 0 | 0 | -1 | 0 | 1/2 | 1/5 | -1 | 23/10 |\n",
    "| $x_2$ | 0 | 0 | 1 | 0 | 2 | 1 | -1 | 0 | 1/2 | 12/5 |\n",
    "| $x_3$ | 0 | 0 | 0 | 1 | -1 | -2 | 5 | -3/10 | 2 | 0 |\n",
    "\n",
    "So $x_3$ will leave and $x_5$ will enter.\n",
    "\n",
    "The tableau becomes\n",
    "\n",
    "|  | $z$ | $x_1$ | $x_2$ | $x_3$ | $x_4$ | $x_5$ | $x_6$ | $x_7$ | $x_8$ | RHS |\n",
    "| --- | --- | --- | --- | --- | --- | --- | --- | --- | --- | --- |\n",
    "| $z$ | -1 | 0 | 0 | 0 | -2 | 0 | -2 | -1/10 | -2 | -71/5 |\n",
    "| $x_1$ | 0 | 1 | 0 | 0 | -1 | 0 | 1/2 | 1/5 | -1 | 23/10 |\n",
    "| $x_2$ | 0 | 0 | 1 | 1/2 | 3/2 | 0 | 3/2 | -3/20 | 3/2 | 12/5 |\n",
    "| $x_5$ | 0 | 0 | 0 | -1/2 | 1/2 | 1 | -5/2 | 3/20 | -1 | 0 |\n"
   ]
  },
  {
   "cell_type": "markdown",
   "metadata": {},
   "source": [
    "**Iteration 2:**\n",
    "\n",
    "* Calculate $B^{-1}d = (-0.5,  -1.5 , 2.5)^T$, $B^{-1}b=(3,4.5, -3.5)$So $S=\\{1,2\\}$.\n",
    "* Calculate the minimal ration $\\theta=3$.\n",
    "* If $\\theta\\in [7/5, 3]$, the current basis $(A_1,A_2,A_5)$ is always optimal. Further, the objective value and right hand side will be\n",
    "\n",
    "$$\n",
    "z(\\theta) = 17 - 2\\theta \\qquad \\bar b = (3-\\frac{1}{2}\\theta, \\frac{9}{2} - \\frac{3}{2} \\theta, \\frac{-7}{2}+\\frac{5}{2}\\theta)^T.\n",
    "$$\n",
    "\n",
    "* When $\\theta =3$, then $x_2=0$, therefore we perform dual simplex method on the tableau below.\n",
    "\n",
    "The tableau becomes\n",
    "\n",
    "|  | $z$ | $x_1$ | $x_2$ | $x_3$ | $x_4$ | $x_5$ | $x_6$ | $x_7$ | $x_8$ | RHS |\n",
    "| --- | --- | --- | --- | --- | --- | --- | --- | --- | --- | --- |\n",
    "| $z$ | -1 | 0 | 0 | 0 | -2 | 0 | -2 | -1/10 | -2 | -11 |\n",
    "| $x_1$ | 0 | 1 | 0 | 0 | -1 | 0 | 1/2 | 1/5 | -1 | 3/2 |\n",
    "| $x_2$ | 0 | 0 | 1 | 1/2 | 3/2 | 0 | 3/2 | -3/20 | 3/2 | 0 |\n",
    "| $x_5$ | 0 | 0 | 0 | -1/2 | 1/2 | 1 | -5/2 | 3/20 | -1 | 4 |\n",
    "\n",
    "\n",
    "\n",
    "So $x_2$ will leave and $x_7$ will enter.\n",
    "\n",
    "The tableau becomes\n",
    "\n",
    "\n",
    "|  | $z$ | $x_1$ | $x_2$ | $x_3$ | $x_4$ | $x_5$ | $x_6$ | $x_7$ | $x_8$ | RHS |\n",
    "| --- | --- | --- | --- | --- | --- | --- | --- | --- | --- | --- |\n",
    "| $z$ | -1 | 0 | -2/3 | -1/3 | -3 | 0 | -3 | 0 | -3 | -11 |\n",
    "| $x_1$ | 0 | 0 | 1 | 4/3 | 2/3 | 0 | 5/2 | 0 | 1 | 3/2 |\n",
    "| $x_7$ | 0 | 0 | -20/3 | -10/3 | -10 | 0 | -10 | 1 | -10 | 0 |\n",
    "| $x_5$ | 0 | 0 | 1 | 0 | 2 | 1 | -1 | 0 | 1/2 | 4 |\n",
    "\n"
   ]
  },
  {
   "cell_type": "markdown",
   "metadata": {},
   "source": [
    "**Iteration 3:**\n",
    "\n",
    "* Calculate $B^{-1}d = (-2.5,  10 , 1)^T$, $B^{-1}b=(9,-30,1)$So $S=\\{1\\}$.\n",
    "* Calculate the minimal ration $\\theta=18/5$.\n",
    "* If $\\theta\\in [3,18/5]$, the current basis $(A_1,A_7,A_5)$ is always optimal. Further, the objective value and right hand side will be\n",
    "\n",
    "$$\n",
    "z(\\theta) = 20 - 3\\theta \\qquad \\bar b = (9-\\frac{5}{2}\\theta, -30 + 10 \\theta, 1+\\theta)^T.\n",
    "$$\n",
    "\n",
    "* When $\\theta =18/5$, then $x_1=0$, therefore we perform dual simplex method on the tableau below.\n",
    "\n",
    "|  | $z$ | $x_1$ | $x_2$ | $x_3$ | $x_4$ | $x_5$ | $x_6$ | $x_7$ | $x_8$ | RHS |\n",
    "| --- | --- | --- | --- | --- | --- | --- | --- | --- | --- | --- |\n",
    "| $z$ | -1 | 0 | -2/3 | -1/3 | -3 | 0 | -3 | 0 | -3 | -46/5 |\n",
    "| $x_1$ | 0 | 0 | 1 | 4/3 | 2/3 | 0 | 5/2 | 0 | 1 | 0 |\n",
    "| $x_7$ | 0 | 0 | -20/3 | -10/3 | -10 | 0 | -10 | 1 | -10 | 6 |\n",
    "| $x_5$ | 0 | 0 | 1 | 0 | 2 | 1 | -1 | 0 | 1/2 | 23/5 |\n",
    "\n",
    "We can not pivot anymore. Hence the algorithm terminates, which means the problem is infeasible for $\\theta > 18/5$."
   ]
  },
  {
   "cell_type": "markdown",
   "metadata": {},
   "source": [
    "## 6.72\n",
    "\n",
    "**a)**\n",
    "$$\n",
    "\\begin{align}\n",
    "& \\max \\quad 6w + \\min_{(x_1,x_2) \\in X} \\{(1-3w)x_1 + (2-w)x_2\\}\\\\\n",
    "& s.t \\quad w\\geq 0\n",
    "\\end{align}\n",
    "$$"
   ]
  },
  {
   "cell_type": "markdown",
   "metadata": {},
   "source": [
    "**b)**\n",
    "The minimal of $\\min_{(x_1,x_2) \\in X} \\{(1-3w)x_1 + (2-w)x_2\\}$ is obtained on one of the following extreme points \n",
    "\n",
    "$$(0,0), (8,0), (3,5), (0,2).$$\n",
    "\n",
    "Plug these four points into $f(w)$, we end up with\n",
    "\n",
    "$$f(w)=6w + \\min\\{0, 4-2w, 13-14w, 8-24w\\}.$$"
   ]
  },
  {
   "cell_type": "markdown",
   "metadata": {},
   "source": [
    "**c)**\n",
    "$$\n",
    "f(w)=\n",
    "\\begin{cases}\n",
    "6w, & 0 \\leq  w \\leq 1/3 \\\\\n",
    "8-18w, &  w \\geq 1/3\n",
    "\\end{cases}\n",
    "$$"
   ]
  },
  {
   "cell_type": "code",
   "execution_count": 8,
   "metadata": {},
   "outputs": [
    {
     "data": {
      "image/png": "[encoded data removed]",
      "text/plain": [
       "<matplotlib.figure.Figure at 0x111f09dd8>"
      ]
     },
     "metadata": {},
     "output_type": "display_data"
    }
   ],
   "source": [
    "import numpy as np\n",
    "import matplotlib.pyplot as plt\n",
    "plt.plot(1/3,2,'ro',markersize=10)\n",
    "x1 = np.linspace(0,1/3,10)\n",
    "x2 = np.linspace(1/3,1,10)\n",
    "plt.plot(x1,6*x1,'k-',label=r\"$z=6w$\")\n",
    "plt.plot(x2,8 - 18*x2,'k-', label=r\"$z=8-18w$\")\n",
    "plt.legend()\n",
    "plt.show()"
   ]
  },
  {
   "cell_type": "markdown",
   "metadata": {},
   "source": [
    "**d)**\n",
    "\n",
    "The optimal solution for the Lagrangian dual problem is $w=1/3$."
   ]
  },
  {
   "cell_type": "markdown",
   "metadata": {},
   "source": [
    "**e)**\n",
    "\n",
    "Since $w=1/3$, $f(w)=2 + \\min_{(x_1,x_2) \\in X}5/3 x_2=2$, we know $x_2=0$ and therefore $x_1=2$.\n",
    "So the optimal solution for the primal $(x_1, x_2)=(2,0)$."
   ]
  },
  {
   "cell_type": "markdown",
   "metadata": {},
   "source": [
    "## Exercise 5.14"
   ]
  },
  {
   "cell_type": "markdown",
   "metadata": {},
   "source": [
    "**a)**\n",
    "\n",
    "$$(c - 10d)' x = (c + 10d)' x \\Rightarrow d'x = 0.$$  \n",
    "\n",
    "The same  holds for $Ax = b + \\theta f$.  Therefore, $5 d'x = 0$.  As the optimality and feasibility conditions hold, the same basis remains optimal."
   ]
  },
  {
   "cell_type": "markdown",
   "metadata": {},
   "source": [
    "**b)**\n",
    "\n",
    "For fixed $\\theta$, let $B$ be an arbitrary basis. Then we have $x=(X_B,X_N)=(B^{-1}(b+\\theta f),0)$. Suppose $\\{B^j\\}$ are all possible basis derived from A. Then our problem becomes\n",
    "\n",
    "$$f(\\theta) = \\underset{j}{\\text{min}} \\{(c+ \\theta d)' {B^j}^{-1}(b + \\theta f)\\}, $$\n",
    " where ${B^j}^{-1}(b + \\theta f) \\geq 0$.\n",
    "\n",
    "\n",
    "\n",
    "Clearly, $f(\\theta)$ is a piecewise quadratic function of $\\theta$ if $f\\neq 0$ \n",
    "\n",
    "\n",
    "Let $K$ be the number of possible bases,  then the upper bound on the number of pieces is $2K$."
   ]
  },
  {
   "cell_type": "markdown",
   "metadata": {},
   "source": [
    "**c)**\n",
    "\n",
    "\\begin{aligned}\n",
    "& \\text{minimize} && \\theta d'x \\\\\n",
    "& \\text{subject to} && Ax =  \\theta f \\\\\n",
    "& && x \\geq 0\n",
    "\\end{aligned}\n",
    "\n",
    "\n",
    "Let $B$ be an optimal basis for $\\theta = 1$ and assume that $\\theta > 0$.  $d' - d'_B B^{-1} A \\geq 0 \\text{ and } B^{-1}f \\geq 0$.  Hence for nonnegative $\\theta$ satisfying $\\theta d' - d'_B B^{-1} A \\geq 0 \\text{ and }  \\theta B^{-1}f \\geq 0$ keeps this same basis optimal."
   ]
  },
  {
   "cell_type": "markdown",
   "metadata": {},
   "source": [
    "**d)**\n",
    "Consider $b, f = 0$, $f(\\theta)$ is constant in $\\theta$, hence both convex and concave. "
   ]
  }
 ],
 "metadata": {
  "kernelspec": {
   "display_name": "Python 3",
   "language": "python",
   "name": "python3"
  },
  "language_info": {
   "codemirror_mode": {
    "name": "ipython",
    "version": 3
   },
   "file_extension": ".py",
   "mimetype": "text/x-python",
   "name": "python",
   "nbconvert_exporter": "python",
   "pygments_lexer": "ipython3",
   "version": "3.6.3"
  }
 },
 "nbformat": 4,
 "nbformat_minor": 2
}
