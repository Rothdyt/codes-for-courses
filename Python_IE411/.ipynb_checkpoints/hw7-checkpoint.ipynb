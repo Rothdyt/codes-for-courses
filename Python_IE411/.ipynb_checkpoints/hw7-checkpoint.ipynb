{
 "cells": [
  {
   "cell_type": "markdown",
   "metadata": {},
   "source": [
    "<div align=\"center\">\n",
    "  <h1>Homework 7</h1>\n",
    "    <p>\n",
    "        <div align=\"center\">\n",
    "        <h2>Yutong Dai yutongd3@illinois.edu</h2>\n",
    "        </div>\n",
    "    </p>\n",
    "</div>"
   ]
  },
  {
   "cell_type": "markdown",
   "metadata": {},
   "source": [
    "## 6.33\n",
    "\n",
    "\n",
    "The dual problem is \n",
    "$$\n",
    "\\begin{align}\n",
    "& \\min \\quad 3 w_1 + 6 w_2\\\\\n",
    "& s.t \\quad w_1 + 2w_2 \\geq 2\\\\\n",
    "& \\qquad w_1 + 3w_2 \\geq -3\\\\\n",
    "& \\qquad w_1\\leq 0,w_2\\geq 0\n",
    "\\end{align}\n",
    "$$\n",
    "\n",
    "It's easy to verify $(w_1^*,w_2^*)=(\\frac{11}{-2}, \\frac{5}{2})$ is a feasible solution to the dual and satisfy the KKT condition. Therefore, $(x_1^*,x_2^*)=(3/2, 3/2)$ is the optimal solution to the dual.\n",
    "\n",
    "---\n",
    "\n",
    "* The first method is \"Big-M\" method. First convert the problem to the standard form and adding the artificial variables, where they serve as the initial basis. \n",
    "\n",
    "* The second method is the artificial constraints technique, where we adding a upper bound on the summation of all non-basic variables.\n",
    "\n",
    "I will use the second method.\n",
    "\n",
    "The tableau for the primal is as follow, where the dual is not feasible.\n",
    "\n",
    "|  | $z$ | $x_1$ | $x_2$ | $x_3$ | $x_4$ | RHS |\n",
    "| --- | --- | --- | --- | --- | --- | --- |\n",
    "| $z$ | -1 | 2 | -3 | 0 | 0 | 0 |\n",
    "| $x_3$ | 0 | -1 | -1 | 1 | 0 | -3 |\n",
    "| $x_4$ | 0 | 3 | 1 | 0 | 1 | 6 |\n",
    "\n",
    "Adding constrain $x_1 + x_2 \\leq M$, we have the following tableau.\n",
    "\n",
    "|  | $z$ | $x_1$ | $x_2$ | $x_3$ | $x_4$ | $x_5$ | RHS |\n",
    "| --- | --- | --- | --- | --- | --- | --- | --- |\n",
    "| $z$ | -1 | 2 | -3 | 0 | 0 | 0 | 0 |\n",
    "| $x_5$ | 0 | 1 | 1 | 0 | 0 | 1 | M |\n",
    "| $x_3$ | 0 | -1 | -1 | 1 | 0 | 0 | -3 |\n",
    "| $x_4$ | 0 | 3 | 1 | 0 | 1 | 0 | 6 |\n",
    "\n",
    "* The first iteration:\n",
    "\n",
    "|  | $z$ | $x_1$ | $x_2$ | $x_3$ | $x_4$ | $x_5$ | RHS |\n",
    "| --- | --- | --- | --- | --- | --- | --- | --- |\n",
    "| $z$ | -1 | 0 | -5 | 0 | 0 | -2 | -2M |\n",
    "| $x_1$ | 0 | 1 | 1 | 0 | 0 | 1 | M |\n",
    "| $x_3$ | 0 | 0 | 0 | 1 | 0 | 1 | -3 + M |\n",
    "| $x_4$ | 0 | 0 | -2 | 0 | 1 | -3 | 6 -3M |\n",
    "\n",
    "* The second iteration:\n",
    "\n",
    "|  | $z$ | $x_1$ | $x_2$ | $x_3$ | $x_4$ | $x_5$ | RHS |\n",
    "| --- | --- | --- | --- | --- | --- | --- | --- |\n",
    "| $z$ | -1 | 0 | -11/3 | 0 | -2/3 | 0 | -4 |\n",
    "| $x_1$ | 0 | 1 | 1/3 | 0 | 1/3 | 0 | 2 |\n",
    "| $x_3$ | 0 | 0 | -2/3 | 1 | 1/3 | 0 | -1 |\n",
    "| $x_5$ | 0 | 0 | 2/3 | 0 | -1/3 | 1 | M-2 |\n",
    "\n",
    "* The third iteration:\n",
    "\n",
    "|  | $z$ | $x_1$ | $x_2$ | $x_3$ | $x_4$ | $x_5$ | RHS |\n",
    "| --- | --- | --- | --- | --- | --- | --- | --- |\n",
    "| $z$ | -1 | 0 | 0 | -11/2 | -5/2 | 0 | 3/2 |\n",
    "| $x_1$ | 0 | 1 | 0 | 1/2 | 1/2 | 0 | 3/2 |\n",
    "| $x_2$ | 0 | 0 | 1 | -3/2 | -1/2 | 0 | 3/2 |\n",
    "| $x_4$ | 0 | 0 | 0 | 1 | 0 | 1 | M-2 |\n",
    "\n",
    "So the optimal solution for the primal is $(3/2, 3/2)$."
   ]
  },
  {
   "cell_type": "markdown",
   "metadata": {},
   "source": [
    "## 6.54\n",
    "\n",
    "**a)**\n",
    "\n",
    "The dual problem is \n",
    "$$\n",
    "\\begin{align}\n",
    "& \\min \\quad 8w_1 + 4w_2\\\\\n",
    "& s.t \\quad w_1 - w_2 \\geq 2\\\\\n",
    "& \\qquad 2w_1 - w_2 \\geq 1\\\\\n",
    "& \\qquad 3w_1 - 2w_2 \\geq -1\\\\\n",
    "& \\qquad w_1\\leq 0,w_2\\geq 0\n",
    "\\end{align}\n",
    "$$\n",
    "\n",
    "Since the constraints in the primal are of $\\leq$ type, we know that the optimal solution for the dual is $(2,0)$ ."
   ]
  },
  {
   "cell_type": "markdown",
   "metadata": {},
   "source": [
    "**b)**\n",
    "\n",
    "Note $x_2$ is a non-basic feasible solution and $c_2' - z_2=1>0$, therefore $x_2$ will enter the basis and change the optimal solution. \n",
    "\n",
    "The tableau becomes\n",
    "\n",
    "|  | $z$ | $x_1$ | $x_2$ | $x_3$ | $x_4$ | $x_5$ | RHS |\n",
    "| --- | --- | --- | --- | --- | --- | --- | --- |\n",
    "| $z$ | -1 | 0 | 1 | -3 | -2 | 0 | -16 |\n",
    "| $x_1$ | 0 | 1 | 0 | 1/2 | 1/2 | 0 | 8 |\n",
    "| $x_5$ | 0 | 0 | 1 | -3/2 | -1/2 | 0 | 12 |\n",
    "\n",
    "After one iteration, we reach the optimal tableau.\n",
    "\n",
    "\n",
    "|  | $z$ | $x_1$ | $x_2$ | $x_3$ | $x_4$ | $x_5$ | RHS |\n",
    "| --- | --- | --- | --- | --- | --- | --- | --- |\n",
    "| $z$ | -1 | 0 | 0 | -3/2 | -3/2 | 0 | -28 |\n",
    "| $x_1$ | 0 | 1 | 0 | 1/2 | 1/2 | 0 | 8 |\n",
    "| $x_2$ | 0 | 0 | 1 | -3/2 | -1/2 | 0 | 12 |\n",
    "\n",
    "The new optimal solution becomes $(x_1, x_2, x_3)=(8,12,0)$"
   ]
  },
  {
   "cell_type": "markdown",
   "metadata": {},
   "source": [
    "**c)**\n",
    "\n",
    "Note $x_2$ is a non-basic feasible solution and $c_2 - c_B^TB^{-1}A_j'=1-1/3=2/3>0$, therefore $x_2$ will enter the basis and change the optimal solution. \n",
    "\n",
    "|  | $z$ | $x_1$ | $x_2$ | $x_3$ | $x_4$ | $x_5$ | RHS |\n",
    "| --- | --- | --- | --- | --- | --- | --- | --- |\n",
    "| $z$ | -1 | 0 | 2/3 | -3 | -2 | 0 | -16 |\n",
    "| $x_1$ | 0 | 1 | 1/6 | 1 | 1 | 0 | 8 |\n",
    "| $x_5$ | 0 | 0 | 7/6 | -1 | 1 | 1 | 12 |\n",
    "\n",
    "After one iteration, we reach the optimal tableau.\n",
    "\n",
    "\n",
    "|  | $z$ | $x_1$ | $x_2$ | $x_3$ | $x_4$ | $x_5$ | RHS |\n",
    "| --- | --- | --- | --- | --- | --- | --- | --- |\n",
    "| $z$ | -1 | 0 | 0 | -17/7 | -18/7 | -4/7 | -28 |\n",
    "| $x_1$ | 0 | 1 | 0 | 8/7 | 6/7 | -1/7 | 44/7 |\n",
    "| $x_2$ | 0 | 0 | 1 | -6/7 | 1/7 | 6/7 | 72/7 |\n",
    "\n",
    "The new optimal solution becomes $(x_1, x_2, x_3)=(44/7,72/7,0)$"
   ]
  },
  {
   "cell_type": "markdown",
   "metadata": {},
   "source": [
    "**d)**\n",
    "\n",
    "Set up the tableau as\n",
    "\n",
    "|  | $z$ | $x_1$ | $x_2$ | $x_3$ | $x_4$ | $x_5$ | $x_6$ | RHS |\n",
    "| --- | --- | --- | --- | --- | --- | --- | --- | --- |\n",
    "| $z$ | -1 | 0 | -3 | -3 | -2 | 0 | 0 | -16 |\n",
    "| $M$ | -1 | 0 | 0 | 0 | 0 | 0 | -1 | 0 |\n",
    "| $x_1$ | 0 | 1 | 2 | 1 | 1 | 0 | 0 | 8 |\n",
    "| $x_5$ | 0 | 0 | 3 | -1 | 1 | 1 | 0 | 12 |\n",
    "| $x_6$ | 0 | 0 | 1 | 2 | 0 | 0 | 1 | 3 |\n",
    "\n",
    "and make $x_6$ as true basic variable by adding the last row to the zero row. We obtain\n",
    "\n",
    "|  | $z$ | $x_1$ | $x_2$ | $x_3$ | $x_4$ | $x_5$ | $x_6$ | RHS |\n",
    "| --- | --- | --- | --- | --- | --- | --- | --- | --- |\n",
    "| $z$ | -1 | 0 | -3 | -3 | -2 | 0 | 0 | -16 |\n",
    "| $M$ | -1 | 1 | 2 | 0 | 0 | 0 | 0 | 3 |\n",
    "| $x_1$ | 0 | 1 | 2 | 1 | 1 | 0 | 0 | 8 |\n",
    "| $x_5$ | 0 | 0 | 3 | -1 | 1 | 1 | 0 | 12 |\n",
    "| $x_6$ | 0 | 0 | 1 | 2 | 0 | 0 | 1 | 3 |\n",
    "\n",
    "After one iteration,\n",
    "\n",
    "|  | $z$ | $x_1$ | $x_2$ | $x_3$ | $x_4$ | $x_5$ | $x_6$ | RHS |\n",
    "| --- | --- | --- | --- | --- | --- | --- | --- | --- |\n",
    "| $z$ | -1 | 0 | -3/2 | 0 | -2 | 0 | 3/2 | -23/2 |\n",
    "| $M$ | -1 | 0 | 0 | 0 | 0 | 0 | -1 | 0 |\n",
    "| $x_1$ | 0 | 1 | 3/2 | 0 | 1 | 0 | -1/2 | 13/2 |\n",
    "| $x_5$ | 0 | 0 | 7/2 | 0 | 1 | 1 | 1/2 | 27/2 |\n",
    "| $x_6$ | 0 | 0 | 1/2 | 1 | 0 | 0 | 1/2 | 3/2 |\n",
    "\n",
    "\n",
    "we reach the optimal. The new optimal solution becomes $(x_1, x_2, x_3)=(13/2, 0, 3/2)$"
   ]
  },
  {
   "cell_type": "markdown",
   "metadata": {},
   "source": [
    "**e)**\n",
    "\n",
    "Suppose the new right-hand-side is $b'$. Then $B^{-1}b'=(b_1' , b_1'+ b_2')^T$. As we will increase 8 or 4 to $b_1'$ or $b_2'$. Either way will ensure $B^{-1}b'\\geq 0$, therefore, the same basis is still optimal.\n",
    "\n",
    "- If we change $b_1$ then, we will change the optimal solution from $(b_1,0,0)$ to $(b_1',0,0)$. It will increase the objective value by $2(b_1' -b_1)$\n",
    "\n",
    "- If we change $b_2$ then, we won't change the optimal solution  $(b_1,0,0)$, hence the objective value."
   ]
  },
  {
   "cell_type": "markdown",
   "metadata": {},
   "source": [
    "**f)**\n",
    "As $c_6 -x_6=6-wA_6=2>0$, $x_6$ will enter the basis.\n",
    "\n",
    "The initial tableau is \n",
    "\n",
    "|   | $z$ | $x_1$ | $x_2$ | $x_3$ | $x_4$ | $x_5$ | $x_6$ | RHS |\n",
    "| --- | --- | --- | --- | --- | --- | --- | --- | --- |\n",
    "| $z$ | -1 | 0 | -3 | -3 | -2 | 0 | 2 | -16 |\n",
    "| $x_1$ | 0 | 1 | 2 | 1 | 1 | 0 | 2 | 8 |\n",
    "| $x_5$ | 0 | 0 | 3 | -1 | 1 | 1 | 3 | 12 |\n",
    "\n",
    "After one iteration, the tableau becomes\n",
    "\n",
    "|  | $z$ | $x_1$ | $x_2$ | $x_3$ | $x_4$ | $x_5$ | $x_6$ | RHS |\n",
    "| --- | --- | --- | --- | --- | --- | --- | --- | --- |\n",
    "| $z$ | -1 | -1 | -5 | -4 | -3 | 0 | 0 | -24 |\n",
    "| $x_6$ | 0 | 1/2 | 1 | 1/2 | 1/2 | 0 | 1 | 4 |\n",
    "| $x_5$ | 0 | -3/2 | 0 | -5/2 | -1/2 | 1 | 0 | 0 |\n",
    "\n",
    "The optimal solution is $(x_1, x_2, x_3,x_6)=(0,0,0,4)$\n"
   ]
  },
  {
   "cell_type": "markdown",
   "metadata": {},
   "source": [
    "## 6.68"
   ]
  },
  {
   "cell_type": "markdown",
   "metadata": {},
   "source": [
    "## 6.72"
   ]
  },
  {
   "cell_type": "markdown",
   "metadata": {},
   "source": [
    "## Exercise 5.14"
   ]
  }
 ],
 "metadata": {
  "kernelspec": {
   "display_name": "Python 3",
   "language": "python",
   "name": "python3"
  },
  "language_info": {
   "codemirror_mode": {
    "name": "ipython",
    "version": 3
   },
   "file_extension": ".py",
   "mimetype": "text/x-python",
   "name": "python",
   "nbconvert_exporter": "python",
   "pygments_lexer": "ipython3",
   "version": "3.6.3"
  }
 },
 "nbformat": 4,
 "nbformat_minor": 2
}
