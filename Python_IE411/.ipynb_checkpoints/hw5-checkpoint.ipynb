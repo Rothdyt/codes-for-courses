{
 "cells": [
  {
   "cell_type": "markdown",
   "metadata": {},
   "source": [
    "<div align=\"center\">\n",
    "  <h1>Homework 5</h1>\n",
    "    <p>\n",
    "        <div align=\"center\">\n",
    "        <h2>Yutong Dai yutongd3@illinois.edu</h2>\n",
    "        </div>\n",
    "    </p>\n",
    "</div>"
   ]
  },
  {
   "cell_type": "markdown",
   "metadata": {},
   "source": [
    "## 5.2\n",
    "\n",
    "Rewrite the problem in the standard form,\n",
    "\n",
    "$$\n",
    "\\begin{align}\n",
    "& \\min \\quad 2x_2  - x_3\\\\\n",
    "& s.t \\quad -x_1 + 2x_2 - x_3 + x_4 = 4\\\\\n",
    "& \\qquad x_1 + x_2 + x_3 + x_5 = 7\\\\\n",
    "& \\qquad 2x_1 -x_2 -x_3 + x_6 = 5 \\\\\n",
    "& \\qquad x_1,...,x_6\\geq 0\n",
    "\\end{align}\n",
    "$$\n",
    "\n",
    "Note $z_j=C_B^TB^{-1}A_{.j}$\n",
    "\n",
    "**Step 1:**\n",
    "\n",
    "* $(c_1-z_1, c_2-z_2, c_3-z_3)=(0,2,-1)$ and $\\delta=7$$\\rightarrow$ Pivot on $x_5$.\n",
    "\n",
    "|   | z | $x_4$ | $x_5$ | $x_6$ | RHS | $x_3$ |\n",
    "| --- | --- | --- | --- | --- | --- | --- |\n",
    "| z | -1 | 0 | 0 | 0 | 0 | -1 |\n",
    "| $x_4$ | 0 | 1 | 0 | 0 | 4 | -1 |\n",
    "| $x_5$ | 0 | 0 | 1 | 0 | 7 | 1 |\n",
    "| $x_6$ | 0 | 0 | 0 | 1 | 5 | -1 |\n",
    "\n",
    "**Step 2:**\n",
    "\n",
    "* $(c_1-z_1, c_2-z_2, c_5-z_5)=(1,3,1)$. Stop \n",
    "\n",
    "|   | z | $x_4$ | $x_3$ | $x_6$ | RHS |\n",
    "| --- | --- | --- | --- | --- | --- | \n",
    "| z | -1 | 0 | 1 | 0 |7 |  |\n",
    "| $x_4$ | 0 | 1 | 1 | 0 | 11 | \n",
    "| $x_3$ | 0 | 0 | 1 | 0 | 7 |  \n",
    "| $x_6$ | 0 | 0 | 1 | 1 | 12 |  \n",
    "\n",
    "So the solution is $(0,0,7)$ and the optimal value is $7$"
   ]
  },
  {
   "cell_type": "markdown",
   "metadata": {},
   "source": [
    "## 5.12\n",
    "\n",
    "Rewrite the problem in the standard form,\n",
    "\n",
    "$$\n",
    "\\begin{align}\n",
    "& \\min \\quad x_1 + 2x_2  + x_3 - x_4\\\\\n",
    "& s.t \\quad 2x_1 - x_2 + x_3 - 2x_4 + x_5 = 6\\\\\n",
    "& \\qquad -x_1 + 2x_2 - x_3 + x_4 + x_6 = 8\\\\\n",
    "& \\qquad -2x_1 -x_2 +x_3 + x_7 = -2 \\\\\n",
    "& \\qquad 0\\leq x_1\\leq 3, 1\\leq x_2 \\leq 4, 0 \\leq x_3 \\leq 8, 2 \\leq x_4 \\leq 5 \\\\\n",
    "& \\qquad x_5,x_6,x_7 \\geq 0\n",
    "\\end{align}\n",
    "$$\n",
    "\n",
    "**Setup the tableau as**\n",
    "\n",
    "|  | $x_1$ | $x_2$ | $x_3$ | $x_4$ | $x_5$ | $x_6$ | $x_7$ | RHS |\n",
    "| --- | --- | --- | --- | --- | --- | --- | --- | --- |\n",
    "|  | 1 | 2 | 3 | -1 | 0 | 0 | 0 | 0 |\n",
    "| $x_5$ | 2 | -1 | 1 | -2 | 1 | 0 | 0 | 11 |\n",
    "| $x_6$ | -1 | 2 | -1 | 1 | 0 | 1 | 0 | 5 |\n",
    "| $x_7$ | -2 | -1 | 1 | 0  | 0 | 0 | 1 | 5 |\n",
    "|  | 3 | 1 | 0 | 5 | 11 | 5 | 5 |  |\n",
    "| lb | 0 | 1 | 0 | 2 | 0 | 0 | 0 |  |\n",
    "| ub | 3 | 4 | 8 | 5 |  |  |  |  |\n",
    "\n",
    "We can only decrease $x_1$ from its upper bound and pivot on $x_7$, $\\delta=5/2$.\n",
    "\n",
    "\n",
    "|  | $x_1$ | $x_2$ | $x_3$ | $x_4$ | $x_5$ | $x_6$ | $x_7$ | RHS |\n",
    "| --- | --- | --- | --- | --- | --- | --- | --- | --- |\n",
    "|  | 0 | 3/2 | 7/2 | -1 | 0 | 0 | 1/2 | 5/2 |\n",
    "| $x_5$ | 0 | -2 | 2 | -2 | 1 | 0 | 1 | 6 |\n",
    "| $x_6$ | 0 | 5/2 | -3/2 | 1 | 0 | 0 | 1/2 | 15/2 |\n",
    "| $x_1$ | 1 | 1/2 | -1/2 | 0 | 0 | 0 | -1/2 | 1/2 |\n",
    "|  | 1/2 | 1 | 0 | 5 | 6 | 15/2 | 10 |  |\n",
    "| lb | 0 | 1 | 0 | 2 | 0 | 0 | 0 |  |\n",
    "| ub | 3 | 4 | 8 | 5 |  |  |  |  |\n",
    "\n",
    "We are now at the optimal. The solution is $(1/2, 1,0,5)$ and the optimal value is $-5/2$."
   ]
  },
  {
   "cell_type": "markdown",
   "metadata": {},
   "source": [
    "## 5.28"
   ]
  },
  {
   "cell_type": "markdown",
   "metadata": {},
   "source": [
    "Rewrite the problem in the standard form,\n",
    "\n",
    "$$\n",
    "\\begin{align}\n",
    "& \\min \\quad -3x_1  - 2x_2\\\\\n",
    "& s.t \\quad x_1 + 2x_2 + x_3  = 8\\\\\n",
    "& \\qquad x_1 + x_2 + x_4 = 5\\\\\n",
    "& \\qquad 2x_1 -x_2 -x_3 + x_6 = 5 \\\\\n",
    "& \\qquad 0\\leq x_1\\leq 3, 0\\leq x_2 \\leq 4 \\\\\n",
    "& \\qquad x_3,x_4 \\geq 0\n",
    "\\end{align}\n",
    "$$\n",
    "\n",
    "**Setup the tableau**:\n",
    "\n",
    "|  | $x_1$ | $x_2$ | $x_3$ | $x_4$ | RHS |\n",
    "| --- | --- | --- | --- | --- | --- |\n",
    "|  | -3 | -2 | 0 | 0 | 8  |\n",
    "| $x_3$ | 1 | 2 | 1 | 0 | 0 |\n",
    "| $x_4$ | 1 | 1 | 0 | 1 | 1 |\n",
    "|  | 0 | 4 | 0 | 1 |  |\n",
    "| lb | 0 | 0 | 0 | 0 |   |\n",
    "| ub | 3 | 4 |   |   |  |\n",
    "\n",
    "\n",
    "**Step 1**\n",
    "We can increase $x_1$ from its lower bound and pivot on $x_3$. Note $\\delta$=0\n",
    "\n",
    "|  | $x_1$ | $x_2$ | $x_3$ | $x_4$ | RHS |\n",
    "| --- | --- | --- | --- | --- | --- |\n",
    "|  | 0 | 4 | 3 | 0 |  8 |\n",
    "| $x_1$ | 1 | 2 | 1 | 0 | 0 |\n",
    "| $x_4$ | 0 | -1 | -1 | 1 | 1 |\n",
    "|  | 0 | 4 | 0 | 1 |  |\n",
    "| lb | 0 | 0 | 0 | 0 |   |\n",
    "| ub | 3 | 4 |   |   |  |\n",
    "\n",
    "**Step 2**\n",
    "We can decrease $x_2$ from its upper bound and pivot on $x_4$. Note $\\delta$=1\n",
    "\n",
    "|  | $x_1$ | $x_2$ | $x_3$ | $x_4$ | RHS |\n",
    "| --- | --- | --- | --- | --- | --- |\n",
    "|  | 0 | 0 | -1 | 4 | 12 |\n",
    "| $x_1$ | 1 | 0 | -1 | 2 | 2 |\n",
    "| $x_2$ | 0 | 1 | 1 | -1 | 3 |\n",
    "|  | 2 | 3 | 0 | 0 |  |\n",
    "| lb | 0 | 0 | 0 | 0 |  |\n",
    "| ub | 3 | 4 |  |  |  |\n",
    "\n",
    "**Step 3**\n",
    "We can decrease $x_3$ from its lower bound and pivot on $x_1$. Note $\\delta$=1\n",
    "\n",
    "\n",
    "|  | $x_1$ | $x_2$ | $x_3$ | $x_4$ | RHS |\n",
    "| --- | --- | --- | --- | --- | --- |\n",
    "|  | -1 | 0 | 0 | 2 | -13 |\n",
    "| $x_3$ | -1 | 0 | 1 | -2 | 1 |\n",
    "| $x_2$ | 1 | 1 | 0 | 1 | 2 |\n",
    "|  | 3 | 2 | 1 | 0 |  |\n",
    "| lb | 0 | 0 | 0 | 0 |  |\n",
    "| ub | 3 | 4 |  |  |  |\n",
    "\n",
    "\n",
    "We stop at this point. So the solution is $(2,3)$ and the optimal value is $13$."
   ]
  },
  {
   "cell_type": "markdown",
   "metadata": {},
   "source": [
    "## 5.33"
   ]
  },
  {
   "cell_type": "markdown",
   "metadata": {},
   "source": [
    "**I can only come up with a realtively efficient algorithm, but may not be the most efficient way as I fail to fully utilize the structure of the problem.**\n",
    "\n",
    "Transform the probelm into the form of\n",
    "\n",
    "$$\n",
    "\\begin{align}\n",
    "& \\max \\quad \\sum_{j\\in Q} c_jx_j\\\\\n",
    "& s.t \\quad \\sum_{j\\in Q} x_j + s_0 = b_0^*\\\\\n",
    "& \\qquad \\sum_{j\\in P_i} x_j + s_i = b_i^*, \\forall i=1,...,r\\\\\n",
    "& \\qquad 0\\leq x_i\\leq u_i,\\\\\n",
    "& \\qquad 0 \\leq s_i \\leq b_i^{''} -b _i{'}, \\forall i=0,...,r\n",
    "\\end{align}\n",
    "$$\n",
    "\n",
    "And set variables that gives you higher gain to its upper bound and the rest to balance the equations.\n",
    "Notice that the matrix $A$ is not of the full row rank, hence degeneracy and tie in the simplex method. The algorithm breaks  the tie by letting the $s_{k'}$ out and $x_{k''}$ in. This will save some iterations. Please refer to the following example for illustration."
   ]
  },
  {
   "cell_type": "markdown",
   "metadata": {},
   "source": [
    "$$\n",
    "\\begin{align}\n",
    "& \\min \\quad -10x_1 - 6x_2 - 3x_3 - 5x_4 - 8x_5\\\\\n",
    "& s.t \\quad \\sum_{i=1}^5 x_i + s_0 = 100\\\\\n",
    "& \\qquad \\sum_{i=1}^2 x_i + s_1 = 40\\\\\n",
    "& \\qquad \\sum_{i=3}^5 x_i + s_2 = 80\\\\\n",
    "& \\qquad 0\\leq x_1,x_4,x_5\\leq 30\\\\\n",
    "& \\qquad 0\\leq x_2,x_3\\leq 20\\\\\n",
    "& \\qquad 0 \\leq s_0 \\leq 70, 0 \\leq s_1 \\leq 38, 0 \\leq s_2 \\leq 55\n",
    "\\end{align}\n",
    "$$\n",
    "\n",
    "As $6*20 < 30 *5$, we set $x_1,x_4,x_5$ to the upper bounds and set as many $s_i=0$ as possible (since we can not move due to the degeneracy)."
   ]
  },
  {
   "cell_type": "markdown",
   "metadata": {},
   "source": [
    "**Setup the Tabelau:**\n",
    "\n",
    "\n",
    "|  | $x_1$ | $x_2$ | $x_3$ | $x_4$ | $x_5$ | $s_0$ | $s_1$ | $s_2$ | RHS |\n",
    "| --- | --- | --- | --- | --- | --- | --- | --- | --- | --- |\n",
    "|  | -10 | -6 | -3 | -5 | -8 | 0 | 0 | 0 | 750 |\n",
    "| $s_0$ | 1 | 1 | 1 | 1 | 1 | 1 | 0 | 0 | 0 |\n",
    "| $s_1$ | 1 | 1 | 0 | 0 | 0 | 0 | 1 | 0 | 0 |\n",
    "| $s_2$ | 0 | 0 | 1 | 1 | 1 | 0 | 0 | 1 | 20 |\n",
    "|  | 30 | 10 | 0 | 30 | 30 | 0 | 0 | 20 |  |\n",
    "| lb | 0 | 0 | 0 | 0 | 0 | 0 | 0 | 0 |  |\n",
    "| ub | 30 | 20 | 20 | 30 | 30 | 70 | 38 | 55 |  |\n",
    "\n",
    "\n",
    "Let $s_0$ out and $x_3$ in. We are done the optimal solution is $(30, 10,  0, 30, 30)$ and the value is $750$"
   ]
  },
  {
   "cell_type": "code",
   "execution_count": 24,
   "metadata": {},
   "outputs": [
    {
     "name": "stdout",
     "output_type": "stream",
     "text": [
      "Optimization terminated successfully.\n",
      "         Current function value: -750.000000 \n",
      "         Iterations: 10\n"
     ]
    }
   ],
   "source": [
    "c = [-10, -6,-3,-5,-8]\n",
    "A = [[1, 1, 1, 1, 1], [1, 1,0,0,0],[0,0,1,1,1], [-1, -1, -1, -1, -1], [-1, -1,0,0,0],[0,0,-1,-1,-1]]\n",
    "b = [100, 40, 80, -30,-2,-25]\n",
    "x0_bounds = (0,0,0,0,0)\n",
    "x1_bounds = (30,20,20,30,30)\n",
    "from scipy.optimize import linprog\n",
    "res = linprog(c, A_ub=A, b_ub=b, bounds=list(zip(x0_bounds, x1_bounds)),options={\"disp\": True})"
   ]
  },
  {
   "cell_type": "code",
   "execution_count": 26,
   "metadata": {},
   "outputs": [
    {
     "data": {
      "text/plain": [
       "array([30., 10.,  0., 30., 30.])"
      ]
     },
     "execution_count": 26,
     "metadata": {},
     "output_type": "execute_result"
    }
   ],
   "source": [
    "res.x"
   ]
  },
  {
   "cell_type": "markdown",
   "metadata": {},
   "source": [
    "## 5.58\n",
    "\n",
    "**Bounded Case**\n",
    "\n",
    "$\\Rightarrow$: Suppose $x_0$ is an extreme point has a minimal objective, then by definition, it has an objective that is smaller than or equal to that of any adjacent extreme point. Otherwise, its not the minimal.\n",
    "\n",
    "$\\Leftarrow$: Since this is a linear programming problem, we assume the objective function is $c^Tx$.\n",
    "\n",
    "Note that for any $x\\in P$, we have \n",
    "\n",
    "$$x=x_0 + \\sum_{j=1}^k \\mu_j(x_j-x_0),$$\n",
    "\n",
    "where $P$ is a polytope and $x_0$ is an extreme points and $x_1,...,x_k$ are all of its adjacent extreme points. \n",
    "\n",
    "$$\n",
    "c^Tx = c^Tx_0 + \\sum_{j=1}^k \\mu_jc^T(x_j-x_0) \\geq c^Tx_0,\n",
    "$$\n",
    "where the inequality holds by the assumptions that $x_0$ has an objective that is smaller than or equal to that of any adjacent extreme point.\n",
    "\n",
    "**Unbounded Case**:\n",
    "\n",
    "Note that for any $x\\in P$, we have \n",
    "\n",
    "$$x=x_0 + \\sum_{j\\in I} \\mu_j(x_j-x_0) + \\sum_{j\\in J} \\mu_jd_j$$\n",
    "\n",
    "where \n",
    "\n",
    "1. $P$ is a unbounded polyhedral set.\n",
    "\n",
    "2. $x_0$ is an extreme points and $\\{x_j|j\\in I\\}$ are its adjacent extreme points. \n",
    "\n",
    "3. $\\{d_j|j\\in J\\}$ are its adjacent extreme directions.\n",
    "\n",
    "$$\n",
    "c^Tx = c^Tx_0 + \\sum_{j\\in I} \\mu_jc^T(x_j-x_0) +  \\sum_{j\\in J} \\mu_jc^Td_j\n",
    "$$\n",
    "\n",
    "As it is not guaranteed that $\\sum_{j\\in J} \\mu_jc^Td_j \\geq 0$, this can not be generalized to the unbounded case."
   ]
  },
  {
   "cell_type": "code",
   "execution_count": null,
   "metadata": {},
   "outputs": [],
   "source": []
  }
 ],
 "metadata": {
  "kernelspec": {
   "display_name": "Python 3",
   "language": "python",
   "name": "python3"
  },
  "language_info": {
   "codemirror_mode": {
    "name": "ipython",
    "version": 3
   },
   "file_extension": ".py",
   "mimetype": "text/x-python",
   "name": "python",
   "nbconvert_exporter": "python",
   "pygments_lexer": "ipython3",
   "version": "3.6.3"
  }
 },
 "nbformat": 4,
 "nbformat_minor": 2
}
