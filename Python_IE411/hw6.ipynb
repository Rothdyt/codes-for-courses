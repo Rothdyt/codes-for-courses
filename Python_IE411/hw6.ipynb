{
 "cells": [
  {
   "cell_type": "markdown",
   "metadata": {},
   "source": [
    "<div align=\"center\">\n",
    "  <h1>Homework 6</h1>\n",
    "    <p>\n",
    "        <div align=\"center\">\n",
    "        <h2>Yutong Dai yutongd3@illinois.edu</h2>\n",
    "        </div>\n",
    "    </p>\n",
    "</div>"
   ]
  },
  {
   "cell_type": "markdown",
   "metadata": {},
   "source": [
    "## 6.5\n",
    "**a)**\n",
    "$$\n",
    "\\begin{align}\n",
    "& \\min \\quad 19 w_1 + 57 w_2\\\\\n",
    "& s.t \\quad w_1 + 2w_2 \\geq 10\\\\\n",
    "& \\qquad w_1 + 4w_2 \\geq 24\\\\\n",
    "& \\qquad 2w_1 + 3w_2 \\geq 20\\\\\n",
    "& \\qquad 3w_1 + 2w_2 \\geq 20\\\\\n",
    "& \\qquad 5w_1 + 3w_2 \\geq 25\\\\\n",
    "& \\qquad w_1,w_2\\geq 0\n",
    "\\end{align}\n",
    "$$\n",
    "\n",
    "It's easy to verify $w^*=(w_1^*,w_2^*)=(4, 5)$ is a feasible solution."
   ]
  },
  {
   "cell_type": "markdown",
   "metadata": {},
   "source": [
    "**b)** We can treat the dual problem as a primal probelm and the primal problem as it duals. Now we assert that $w^*=(4,5)$ is an optimal solution.\n",
    "Denote $A$ as the coefficients matrix in **a)**, $b^T=(10,24,20,20,25)$, $c^T=(19,57)$.\n",
    "\n",
    "By the KKT condition, we want to solve\n",
    "\n",
    "* ${x{^*}^T}(Aw^* - b) = 0$ $\\Rightarrow$ $x_1^*=x_3^*=x_4^*=0$.\n",
    "* $(c^T - {x^*}^TA)w^* = 0$  $\\Rightarrow$ $x_2^*=14, x_5^*=1$.\n",
    "\n",
    "To summarize, the optimal solution for the primal is $x^*=(0, 14, 0, 0, 1)$ and the optimal solution for the dual is $w^*=(4, 5)$."
   ]
  },
  {
   "cell_type": "markdown",
   "metadata": {},
   "source": [
    "## 6.23\n",
    "Denote the i-th row of the constrain matrix $A$ is $a_i$.\n",
    "\n",
    "$$\n",
    "\\begin{cases}\n",
    "& \\min \\quad c^Tx\\\\\n",
    "& s.t \\quad Ax=b \\\\\n",
    "& \\qquad x\\geq 0\n",
    "\\end{cases}\n",
    "\\qquad\n",
    "\\begin{cases}\n",
    "& \\max \\quad b^Tw\\\\\n",
    "& s.t \\quad A^Tw\\leq c\\\\\n",
    "\\end{cases}\n",
    "$$\n",
    "\n",
    "\n",
    "**a)** Since this operation won't change the feasible set of the primal problem, hence the optimal value of the primal and dual respectively. The k-th element of the optimal solution of the dual problem will be divided by $\\lambda$.\n"
   ]
  },
  {
   "cell_type": "markdown",
   "metadata": {},
   "source": [
    "**b)** Assume that we add $\\lambda a_j$ to $a_i$. Since this operation won't change the feasible set of the primal problem, hence the optimal value of the primal and dual respectively. The transformed constrain matrix $A_1=E_{ij}(\\lambda)A$ and $b_1=E_{ij}(\\lambda)b$, where $E_{ij}(\\lambda)$ only differs from the identity matrix in the (i,j) element, whose element is $\\lambda$ rather than $0$. To maintain the feasibility and optimality, the optimal solution $\\tilde w$of the changed dual problem must satisfy\n",
    "\n",
    "$${\\tilde w}^T E_{ij}(\\lambda) A\\leq c^T \\text { and }b_1^T  \\tilde w=b^Tw.$$\n",
    "\n",
    "Set ${\\tilde w}^T E_{ij}(\\lambda)=w^T$, we have ${\\tilde w}^T = w^TE_{ij}(-\\lambda)$. And it achieves the optimality.\n",
    "\n",
    "To me more specific, $$\\tilde w_k=w_k, k \\neq i \\text{ and } \\tilde w_i = w_i - \\lambda w_j.$$\n"
   ]
  },
  {
   "cell_type": "markdown",
   "metadata": {},
   "source": [
    "**c)**\n",
    "\n",
    "* If the modification does not change any column in the basis $B$. Then the optimal solution of the primal won't change.\n",
    "\n",
    "* If the modification does change the  column in the basis $B$, then the optimal solution of the primal will change. Suppose, we add $\\lambda A_{[,j]}$ to $\\lambda A_{[,i]}$, then \n",
    "$\\tilde B = B E_{ji}(\\lambda).$ Therefore we have\n",
    "\n",
    "$$\n",
    "x^{new} = E_{ji}(-\\lambda)x^{old}.\n",
    "$$\n",
    "\n",
    " "
   ]
  },
  {
   "cell_type": "markdown",
   "metadata": {},
   "source": [
    "## Exercise 4.7\n",
    "\n",
    "**a)** The primal problem can be written as\n",
    "\n",
    "$$\n",
    "\\begin{align}\n",
    "& \\min \\quad z\\\\\n",
    "& s.t \\quad 1_m^T z -Ax \\geq -b\\\\\n",
    "& \\qquad z,x \\text{ is free.}\n",
    "\\end{align}\n",
    "$$\n",
    "\n",
    "The corresponding dual is\n",
    "\n",
    "$$\n",
    "\\begin{align}\n",
    "& \\max \\quad (-b)^Tw\\\\\n",
    "& s.t \\quad 1_m^Tw = 1\\\\\n",
    "& \\qquad A^Tw = 0_m\n",
    "\\end{align}\n",
    "$$\n",
    "\n",
    "By the strong duality theorem, we have $(-b)^Tw^* = v,$ where $w^*$ is the optimal solution for the dual. Hence, for any $w$ satisfy the constraints given in the dual problem, one must have $$-w^Tb \\leq v.$$\n",
    "\n",
    "**b)** By strong duality theorem, we have the optimal cost of the dual is $v$."
   ]
  },
  {
   "cell_type": "markdown",
   "metadata": {},
   "source": [
    "## Exercise 4.15\n",
    "\n",
    "Dual Problem:\n",
    "\n",
    "$$\n",
    "\\begin{align}\n",
    "& \\max \\quad w\\\\\n",
    "& s.t \\quad w \\leq 1\n",
    "\\end{align}\n",
    "$$\n",
    "\n",
    "The optimal solutions for the primal are $\\{(x_1,x_2)|x_1\\geq 0, x_2 = 1\\}$, which implies that it doesn't have an unique optimal solution. But it has non-degenerate solutions as long as $x_1 >0$.\n",
    "\n",
    "The optimal solution for the dual is $w=1$, which implies that it do have an unique optimal solution. Also, it has a non-degenerate solution.\n",
    "\n",
    "1. The primal problem does not have a non-degenerate BFS.\n",
    "\n",
    "2. The dual problem has a non-degenerate BFS, but the optimal solution for the primal is not unique.\n",
    "\n",
    "From 1 and 2, we know this is not in agreement with the aforementioned statement."
   ]
  },
  {
   "cell_type": "markdown",
   "metadata": {},
   "source": [
    "## Exercise 4.20\n",
    "\n",
    "**a)**\n",
    "Denote\n",
    "\n",
    "$$\n",
    "\\begin{cases}\n",
    "& \\min \\quad c^Tx\\\\\n",
    "& s.t \\quad Ax=b  \\qquad (P)\\\\\n",
    "& \\qquad x\\geq 0\n",
    "\\end{cases}\n",
    "\\qquad\n",
    "\\begin{cases}\n",
    "& \\max \\quad b^Tw\\\\\n",
    "& s.t \\quad A^Tw\\leq c  \\qquad (D)\n",
    "\\end{cases}\n",
    "$$\n",
    "\n",
    "$$\n",
    "\\begin{cases}\n",
    "& \\min \\quad -x_j\\\\\n",
    "& s.t \\quad Ax=b  \\qquad (P')\\\\\n",
    "&\\qquad c^Tx \\leq d\\\\\n",
    "& \\qquad x\\geq 0\n",
    "\\end{cases}\n",
    "\\qquad\n",
    "\\begin{cases}\n",
    "& \\max \\quad b^Tw+dt\\\\\n",
    "& s.t \\quad A^Tw + tc^T \\leq -e_j  \\qquad (D')\\\\\n",
    "& \\qquad t\\leq 0\n",
    "\\end{cases}\n",
    "$$\n"
   ]
  },
  {
   "cell_type": "markdown",
   "metadata": {},
   "source": [
    "Suppose $x^*$ is the optimal solution for (P), then it provides an upper bound on (P'). Note that we we have $x\\geq 0$ and $x_j^*=0$, we know that the optimal value for (P') is also zero. Therefore, the optimal value for (D') is also 0.\n",
    "\n",
    "Suppose $(w^*, t^*)$ is an optimal solution for (D') and $w_0$ is an optimal solution for (D).\n",
    "\n",
    "* $t^*=0$, then we have $$b^Tw^* = 0 , A^Tw^* \\leq -e_j.$$ Note that $$b^T(w^* + w_0)=b^Tw_0 \\text{ and } A^T(w^*+w_0) \\leq c - e_j.$$ We assert that $w^*+w_0$ is another optimal solution for (D). And specifically, we know that $$(w^* + w_0)^TA_j \\leq c_j - 1 < c_j.$$"
   ]
  },
  {
   "cell_type": "markdown",
   "metadata": {},
   "source": [
    "* $t^*<0$, then denote $\\bar w = \\frac{-w^*}{t^*}$. We have $b^tw^* + dt^*=0$ and $A^Tw^* + t^*c^T \\leq - e_j$, which implies $$b^T\\bar w = d \\text{ and } A^T\\bar w + \\frac{e_j}{t^*}\\leq c^T.$$ So $\\bar w$ is an optimal solution for (D). Notice that $$\\bar w^T A_j = c_j + \\frac{1}{t^*} < c_j.$$\n",
    "\n",
    "Two bullet points conclude the proof."
   ]
  },
  {
   "cell_type": "markdown",
   "metadata": {},
   "source": [
    "**b)**\n",
    "\n",
    "From **a)**, we know that there exist $w^{(j)}, j\\in J=\\{j| x_j=0, j=1,2,...,n\\}$ s.t $w^{(j)}$  is an optimal solution for (D) and ${w^{(j)}}^TA_j < c_j$. Denote $W^{**}= \\frac{1}{|J|}\\sum_{j\\in J} w^{(j)}$, then we have   ${W^{**}}^TA_j < c_j, j\\in J$. \n",
    "\n",
    "Furthermore, we have $x_j >0, j \\notin J.$"
   ]
  },
  {
   "cell_type": "markdown",
   "metadata": {},
   "source": [
    "**c)**\n",
    "\n",
    "i) Consider\n",
    "\n",
    "$$\n",
    "\\begin{cases}\n",
    "& \\min \\quad -x_j\\\\\n",
    "& s.t \\quad Ax\\geq b  \\qquad (P')\\\\\n",
    "&\\qquad -c^Tx \\geq -d\\\\\n",
    "& \\qquad x\\geq 0\n",
    "\\end{cases}\n",
    "\\qquad\n",
    "\\begin{cases}\n",
    "& \\max \\quad b^Tw+dt\\\\\n",
    "& s.t \\quad w^TA - tc^T \\leq -e_j^T  \\qquad (D')\\\\\n",
    "& \\qquad w, t\\geq 0\n",
    "\\end{cases}\n",
    "$$\n",
    "\n",
    "And consider for all $j=1,2,...,n$, $x_j=0$ and $x_j>0$ cases. Use the similar arguments in **a)** and **b)**, we concludes the proof.\n",
    "\n",
    "ii) We can treat the dual problem as the primal and re-write is as \n",
    "\n",
    "$$\n",
    "  \\begin{cases}\n",
    "  & \\max\\quad b^T w \\\\ \n",
    "  & s.t \\quad A^Tw\\leq c \\qquad (P) \\\\\n",
    "  & \\qquad w \\geq 0,\n",
    "  \\end{cases}\n",
    "  \\qquad\\qquad\n",
    "  \\begin{cases}\n",
    "  & \\min\\quad x^Tc \\\\ \n",
    "  & s.t \\quad x^T A^T\\geq b^T \\qquad (D) \\\\\n",
    "  & \\qquad x \\geq 0,\n",
    "  \\end{cases}\n",
    "$$\n",
    "\n",
    "and use the similar method from i), we conclude the proof."
   ]
  },
  {
   "cell_type": "markdown",
   "metadata": {},
   "source": [
    "**d)**\n",
    "\n",
    "By KKT condition, we know that $(w_1^*,w_2^*)=(5,0)$. And ${w^*}^TA < c^T$\n",
    "\n",
    "The optimal solutions lie on the segment $\\{(x_1,x_2)| 2/3 \\leq x_1 \\leq 2, x_2 = 2 - x_1\\}$ for the primal.\n",
    "As for the optimal solution for the dual, it is always $(5,0)$.\n",
    "\n",
    "Pairs that satisfy strictly complementary slackness conditions:\n",
    "\n",
    "$$(2/3, 4/3) \\sim (5, 0) \\qquad (2,0) \\sim (5,0)$$"
   ]
  },
  {
   "cell_type": "markdown",
   "metadata": {},
   "source": [
    "## Exercise 4.27\n",
    "By the satisfy strictly complementary slackness condition, **a)** and **b)** are equivalent."
   ]
  }
 ],
 "metadata": {
  "kernelspec": {
   "display_name": "Python 3",
   "language": "python",
   "name": "python3"
  },
  "language_info": {
   "codemirror_mode": {
    "name": "ipython",
    "version": 3
   },
   "file_extension": ".py",
   "mimetype": "text/x-python",
   "name": "python",
   "nbconvert_exporter": "python",
   "pygments_lexer": "ipython3",
   "version": "3.6.3"
  }
 },
 "nbformat": 4,
 "nbformat_minor": 2
}
