{
 "cells": [
  {
   "cell_type": "markdown",
   "metadata": {},
   "source": [
    "<div align=\"center\">\n",
    "  <h1>Homework 6</h1>\n",
    "    <p>\n",
    "        <div align=\"center\">\n",
    "        <h2>Yutong Dai yutongd3@illinois.edu</h2>\n",
    "        </div>\n",
    "    </p>\n",
    "</div>"
   ]
  },
  {
   "cell_type": "markdown",
   "metadata": {},
   "source": [
    "## 6.5\n",
    "**a)**\n",
    "$$\n",
    "\\begin{align}\n",
    "& \\min \\quad 19 w_1 + 57 w_2\\\\\n",
    "& s.t \\quad w_1 + 2w_2 \\geq 10\\\\\n",
    "& \\qquad w_1 + 4w_2 \\geq 24\\\\\n",
    "& \\qquad 2w_1 + 3w_2 \\geq 20\\\\\n",
    "& \\qquad 3w_1 + 2w_2 \\geq 20\\\\\n",
    "& \\qquad 5w_1 + 3w_2 \\geq 25\\\\\n",
    "& \\qquad w_1,w_2\\geq 0\n",
    "\\end{align}\n",
    "$$\n",
    "\n",
    "It's easy to verify $w^*=(w_1^*,w_2^*)=(4, 5)$ is a feasible solution."
   ]
  },
  {
   "cell_type": "markdown",
   "metadata": {},
   "source": [
    "**b)** We can treat the dual problem as a primal probelm and the primal problem as it duals. Now we assert that $w^*=(4,5)$ is an optimal solution.\n",
    "Denote $A$ as the coefficients matrix in **a)**, $b^T=(10,24,20,20,25)$, $c^T=(19,57)$.\n",
    "\n",
    "By the KKT condition, we want to solve\n",
    "\n",
    "* ${x{^*}^T}(Aw^* - b) = 0$ $\\Rightarrow$ $x_1^*=x_3^*=x_4^*=0$.\n",
    "* $(c^T - {x^*}^TA)w^* = 0$  $\\Rightarrow$ $x_2^*=14, x_5^*=1$.\n",
    "\n",
    "To summarize, the optimal solution for the primal is $x^*=(0, 14, 0, 0, 1)$ and the optimal solution for the dual is $w^*=(4, 5)$."
   ]
  },
  {
   "cell_type": "markdown",
   "metadata": {},
   "source": [
    "## 6.7\n",
    "**a)**\n",
    "The dual problem is\n",
    "\n",
    "$$\n",
    "\\begin{align}\n",
    "& \\min \\quad 8 w_1 + 6 w_2\\\\\n",
    "& s.t \\quad w_1 + w_2 \\geq 2\\\\\n",
    "& \\qquad 2w_1  -2w_2 \\geq 3\\\\\n",
    "& \\qquad 3w_1 + 2w_2 \\geq 5\\\\\n",
    "& \\qquad w_1,w_2\\geq 0.\n",
    "\\end{align}\n",
    "$$\n"
   ]
  },
  {
   "cell_type": "markdown",
   "metadata": {},
   "source": [
    "**b)**\n",
    "\n",
    "* The initial tableau is \n",
    "\n",
    "|  | $z$ | $x_1$ | $x_2$ | $x_3$ | $x_4$ | $x_5$ | RHS |\n",
    "| --- | --- | --- | --- | --- | --- | --- | --- |\n",
    "| $z$ | -1 | 2 | 3 | 5 | 0 | 0 | 0 |\n",
    "| $x_4$ | 0 | 1 | 2 | 3 | 1 | 0 | 8 |\n",
    "| $x_5$ | 0 | 1 | -2 | 2 | 0 | 1 | 6 |\n",
    "\n",
    "then the dual variables take value $(0,0)$.  Then the first 3 constraints are violated.\n",
    "\n",
    "* After the first iteration the tableau is\n",
    "\n",
    "|  | $z$ | $x_1$ | $x_2$ | $x_3$ | $x_4$ | $x_5$ | RHS |\n",
    "| --- | --- | --- | --- | --- | --- | --- | --- |\n",
    "| $z$ | -1 | 1/3 | -1/3 | 0 | -5/3 | 0 | -40/3 |\n",
    "| $x_3$ | 0 | 1/3 | 2/3 | 1 | 1/3 | 0 | 8/3 |\n",
    "| $x_5$ | 0 | 1/3 | -10/3 | 0 | -2/3 | 1 | 2/3 |\n",
    "\n",
    "then the dual variables take value $(5/3,0)$.  Then the first and second constraints are violated.\n",
    "\n",
    "* After the second iteration the tableau is\n",
    "\n",
    "|  | $z$ | $x_1$ | $x_2$ | $x_3$ | $x_4$ | $x_5$ | RHS |\n",
    "| --- | --- | --- | --- | --- | --- | --- | --- |\n",
    "| $z$ | -1 | 0 | 3 | 0 | -1 | -1 | -14 |\n",
    "| $x_3$ | 0 | 0 | 4 | 1 | 1 | -1 | 2 |\n",
    "| $x_1$ | 0 | 1 | -10 | 0 | -2 | 3 | 2 |\n",
    "\n",
    "then the dual variables take value $(1,1)$.  Then the second constraint is violated.\n",
    "\n",
    "* After the third iteration the tableau is\n",
    "\n",
    "|  | $z$ | $x_1$ | $x_2$ | $x_3$ | $x_4$ | $x_5$ | RHS |\n",
    "| --- | --- | --- | --- | --- | --- | --- | --- |\n",
    "| $z$ | -1 | 0 | 0 | -3/4 | -7/4 | -1/4 | -31/2 |\n",
    "| $x_2$ | 0 | 0 | 1 | 1/4 | 1/4 | -1/4 | 1/2 |\n",
    "| $x_1$ | 0 | 1 | 0 | 5/2 | 1/2 | -1/2 | 7 |\n",
    "\n",
    "then the dual variables take value $(7/4,1/4)$.  Since we are at the optimality, no constraint is violated."
   ]
  },
  {
   "cell_type": "markdown",
   "metadata": {},
   "source": [
    "**c)**\n",
    "\n",
    "Rewrite the dual problem in standard form.\n",
    "\n",
    "$$\n",
    "\\begin{align}\n",
    "& \\min \\quad 8 w_1 + 6 w_2\\\\\n",
    "& s.t \\quad w_1 + w_2 -w_3 = 2\\\\\n",
    "& \\qquad 2w_1  -2w_2-w_4 = 3\\\\\n",
    "& \\qquad 3w_1 + 2w_2 -w_5 = 5\\\\\n",
    "& \\qquad w_1,...,w_5\\geq 0.\n",
    "\\end{align}\n",
    "$$\n",
    "\n",
    "* At the initial stage:\n",
    "    \n",
    "    * The basic dual variables are $w_3,w_4,w_5$. Nonbasic  variables are $w_1,w_2$.\n",
    "    * The dual basis is\n",
    "    $$\n",
    "    \\begin{bmatrix}\n",
    "        -1 & 0 & 0 \\\\\n",
    "        0 & -1 & 0 \\\\\n",
    "        0 & 0 & -1 \n",
    "    \\end{bmatrix}\n",
    "    $$\n",
    " \n",
    "* After the first iteration:\n",
    "    \n",
    "    * The basic dual variables are $w_1,w_3,w_4$. Nonbasic  variables are $w_2,w_5$.\n",
    "    * The dual basis is\n",
    "    $$\n",
    "    \\begin{bmatrix}\n",
    "        1 & -1 & 0 \\\\\n",
    "        2 & 0 & -1 \\\\\n",
    "        3 & 0 & 0 \n",
    "    \\end{bmatrix}\n",
    "    $$\n",
    "  \n",
    "* After the second iteration:\n",
    "    \n",
    "    * The basic dual variables are $w_1,w_2,w_4$. Nonbasic  variables are $w_3,w_5$.\n",
    "    * The dual basis is\n",
    "    $$\n",
    "    \\begin{bmatrix}\n",
    "        1 & 1 & 0 \\\\\n",
    "        2 & -2 & -1 \\\\\n",
    "        3 & 2 & 0 \n",
    "    \\end{bmatrix}\n",
    "    $$\n",
    "  \n",
    "* After the third iteration:\n",
    "    \n",
    "    * The basic dual variables are $w_1,w_2,w_5$. Nonbasic  variables are $w_3,w_4$.\n",
    "    * The dual basis is\n",
    "    $$\n",
    "    \\begin{bmatrix}\n",
    "        1 & 1 & 0 \\\\\n",
    "        2 & -2 & 0 \\\\\n",
    "        3 & 2 & -1 \n",
    "    \\end{bmatrix}\n",
    "    $$"
   ]
  },
  {
   "cell_type": "markdown",
   "metadata": {},
   "source": [
    "**d)** The objective value for the dual problem follows $0 \\rightarrow 40/3 \\rightarrow 14 \\rightarrow 31/2$, hence keeping worsen."
   ]
  },
  {
   "cell_type": "markdown",
   "metadata": {},
   "source": [
    "**e)**\n",
    "\n",
    "The optimal solution for the primal and dual are $(7,1/2,0)$ and $(7/4, 1/4)$.\n",
    "It's easy to check that \n",
    "\n",
    "* Two problems have the same value $31/2$;\n",
    "* The complementary slackness holding at the optimality."
   ]
  },
  {
   "cell_type": "markdown",
   "metadata": {},
   "source": [
    "## 6.8\n",
    "**a)**\n",
    "\n",
    "The initial tableau\n",
    "\n",
    "|  | $z$ | $x_1$ | $x_2$ | $x_3$ | $x_4$ | $x_5$ | RHS |\n",
    "| --- | --- | --- | --- | --- | --- | --- | --- |\n",
    "| $z$ | -1 | -6 | 0 | -20 | 0 | 0 | 0 |\n",
    "| $x_4$ | 0 | 0 | 1 | 4 | 1 | 0 | 10 |\n",
    "| $x_5$ | 0 | 3 | -1 | 2 | 0 | 1 | 11 |\n",
    "\n",
    "So the primal problem is\n",
    "\n",
    "\n",
    "$$\n",
    "\\begin{align}\n",
    "& \\min \\quad -6 x_1 - 20 x_3\\\\\n",
    "& s.t \\quad x_2 + 4x_3 \\leq 10\\\\\n",
    "& \\qquad 3x_1 - x_2 + 2x_3\\leq 11\\\\\n",
    "& \\qquad x_1,x_2,x_3\\geq 0.\n",
    "\\end{align}\n",
    "$$"
   ]
  },
  {
   "cell_type": "markdown",
   "metadata": {},
   "source": [
    "**b)**\n",
    "The dual is\n",
    "\n",
    "$$\n",
    "\\begin{align}\n",
    "& \\max \\quad 10w_1 +11 w_2\\\\\n",
    "& s.t \\quad 3 w_2 \\leq -6\\\\\n",
    "& \\qquad w_1 - w_2 \\leq 0\\\\\n",
    "& \\qquad 4w_1 + 2w_2 \\leq -20\\\\\n",
    "& \\qquad w_1,w_2\\leq 0.\n",
    "\\end{align}\n",
    "$$"
   ]
  },
  {
   "cell_type": "markdown",
   "metadata": {},
   "source": [
    "**c)** The optimal dual from the tableau is $(-4,-2)$."
   ]
  },
  {
   "cell_type": "markdown",
   "metadata": {},
   "source": [
    "## 6.9\n",
    "\n",
    "**a)** **False**\n",
    "\n",
    "Consider the primal-dual problem pair,\n",
    "\n",
    "$$\n",
    "  \\begin{cases}\n",
    "  & \\min\\quad x_2 \\\\ \n",
    "  & s.t \\quad -x_1 + x_2 \\geq 0 \\qquad (P) \\\\\n",
    "  & \\qquad x_2 \\geq -1\n",
    "  \\end{cases}\n",
    "  \\qquad\\qquad\n",
    "  \\begin{cases}\n",
    "  & \\max\\quad -w_2 \\\\ \n",
    "  & s.t \\quad -w_1 = 0 \\\\\n",
    "  & s.t \\quad w_1 + w_2 = -1 \\qquad (D)\\\\\n",
    "   & \\qquad w_1,w_2 \\geq 0\\\\\n",
    "  \\end{cases}\n",
    "$$\n",
    "\n",
    "The solution $(x_1,x_2)=(-3,-2)$ is a basic infeasible solution, which gives objective value $-2$ that is smaller than the optimal value 0.\n",
    "The dual problem is always infeasible."
   ]
  },
  {
   "cell_type": "markdown",
   "metadata": {},
   "source": [
    "**b)** \n",
    "\n",
    "The problem can be rewrite as\n",
    "\n",
    "$$\n",
    "\\begin{align}\n",
    "& \\min \\quad x_1\\\\\n",
    "& s.t \\quad 2x_1 - x_2 -x_3 = 0\\\\\n",
    "& \\qquad -2x_1 +3x_2 -x_4 = -6\\\\\n",
    "& \\qquad x_1,x_2,x_3,x_4\\geq 0.\n",
    "\\end{align}\n",
    "$$\n",
    "\n",
    "The basic feasible solution for primal is $(0,0,0,6)$. Any basis matrix $B$ leads to dual basic solution $c_B^TB^{−1}$, so we have dual solution $(1/2, 0)$.\n",
    "\n",
    "This pair of solution is optimal with respect to its problem.\n",
    "\n",
    "~~Since this is a optimal solution,  the complementary dual are the set $\\{(w_1,0)|0\\leq w_1  \\leq \\frac{1}{2}\\}$.\n",
    "The BFS in primal is degenerated while the complementary dual is not unique.~~"
   ]
  },
  {
   "cell_type": "markdown",
   "metadata": {},
   "source": [
    "**c)** **False**. \n",
    "Consider\n",
    "\n",
    "$$\n",
    "  \\begin{cases}\n",
    "  & \\min\\quad 2 \\\\ \n",
    "  & s.t \\quad x_1=1 \\qquad (P) \\\\\n",
    "  & \\qquad x_1,x_2 \\geq 0,\n",
    "  \\end{cases}\n",
    "  \\qquad\\qquad\n",
    "  \\begin{cases}\n",
    "  & \\max\\quad w_1 \\\\ \n",
    "  & s.t \\quad w_1 \\leq 2 \\qquad (D)\n",
    "  \\end{cases}\n",
    "$$\n",
    "\n",
    "The dual has an unique non-degenerated optimal solution."
   ]
  },
  {
   "cell_type": "markdown",
   "metadata": {},
   "source": [
    "**d)** It is possible.\n",
    "\n",
    "Consider the primal-dual problem pair,\n",
    "\n",
    "$$\n",
    "  \\begin{cases}\n",
    "  & \\min\\quad 0 \\\\ \n",
    "  & s.t \\quad -x_1 + x_2 \\geq 0 \\qquad (P) \\\\\n",
    "  & \\qquad x_2 \\geq 1 \\\\\n",
    "  & \\qquad x_1,x_2 \\geq 0,\n",
    "  \\end{cases}\n",
    "  \\qquad\\qquad\n",
    "  \\begin{cases}\n",
    "  & \\max\\quad w_2 \\\\ \n",
    "  & s.t \\quad w_1 \\leq 0 \\qquad (D)\\\\\n",
    "  & s.t \\quad w_2 \\leq 0 \\\\\n",
    "   & \\qquad w_1,w_2 \\geq 0 \\\\\n",
    "  \\end{cases}\n",
    "$$\n",
    "\n",
    "$(x_1,x_2)=(0,0)$ is an infeasible basic solution. And the pair is $(0,0)-(0,0)$, where shares the same objective value 0."
   ]
  },
  {
   "cell_type": "markdown",
   "metadata": {},
   "source": [
    "**e)** **False.** If the primal is unbounded, its dual must be infeasible. But dual feasibility does not depend on $b$."
   ]
  },
  {
   "cell_type": "markdown",
   "metadata": {},
   "source": [
    "## 6.23\n",
    "Denote the i-th row of the constrain matrix $A$ is $a_i$.\n",
    "\n",
    "$$\n",
    "\\begin{cases}\n",
    "& \\min \\quad c^Tx\\\\\n",
    "& s.t \\quad Ax=b \\\\\n",
    "& \\qquad x\\geq 0\n",
    "\\end{cases}\n",
    "\\qquad\n",
    "\\begin{cases}\n",
    "& \\max \\quad b^Tw\\\\\n",
    "& s.t \\quad A^Tw\\leq c\\\\\n",
    "\\end{cases}\n",
    "$$\n",
    "\n",
    "\n",
    "**a)** Since this operation won't change the feasible set of the primal problem, hence the optimal value of the primal and dual respectively. The k-th element of the optimal solution of the dual problem will be divided by $\\lambda$.\n"
   ]
  },
  {
   "cell_type": "markdown",
   "metadata": {},
   "source": [
    "**b)** Assume that we add $\\lambda a_j$ to $a_i$. Since this operation won't change the feasible set of the primal problem, hence the optimal value of the primal and dual respectively. The transformed constrain matrix $A_1=E_{ij}(\\lambda)A$ and $b_1=E_{ij}(\\lambda)b$, where $E_{ij}(\\lambda)$ only differs from the identity matrix in the (i,j) element, whose element is $\\lambda$ rather than $0$. To maintain the feasibility and optimality, the optimal solution $\\tilde w$of the changed dual problem must satisfy\n",
    "\n",
    "$${\\tilde w}^T E_{ij}(\\lambda) A\\leq c^T \\text { and }b_1^T  \\tilde w=b^Tw.$$\n",
    "\n",
    "Set ${\\tilde w}^T E_{ij}(\\lambda)=w^T$, we have ${\\tilde w}^T = w^TE_{ij}(-\\lambda)$. And it achieves the optimality.\n",
    "\n",
    "To me more specific, $$\\tilde w_k=w_k, k \\neq i \\text{ and } \\tilde w_i = w_i - \\lambda w_j.$$\n"
   ]
  },
  {
   "cell_type": "markdown",
   "metadata": {},
   "source": [
    "**c)**\n",
    "\n",
    "* If the modification does not change any column in the basis $B$. Then the optimal solution of the primal won't change.\n",
    "\n",
    "* If the modification does change the  column in the basis $B$, then the optimal solution of the primal will change. Suppose, we add $\\lambda A_{[,j]}$ to $\\lambda A_{[,i]}$, then \n",
    "$\\tilde B = B E_{ji}(\\lambda).$ Therefore we have\n",
    "\n",
    "$$\n",
    "x^{new} = E_{ji}(-\\lambda)x^{old}.\n",
    "$$\n",
    "\n",
    "We can say nothing about the dual solutions."
   ]
  },
  {
   "cell_type": "markdown",
   "metadata": {},
   "source": [
    "## 6.27\n",
    "\n",
    "**a)** The dual can be written as \n",
    "\n",
    "$$\n",
    "\\begin{align}\n",
    "& \\max \\quad l\\\\\n",
    "& s.t \\quad w_1 + w_2 = 1\\\\\n",
    "& \\qquad l - 2w_1 + 3w_2 \\leq 0\\\\\n",
    "& \\qquad l + w_1 - 2w_2 \\leq 0\\\\\n",
    "& \\qquad l - w_2 \\leq 0\\\\\n",
    "& \\qquad w_1, w_2 \\geq 0\\\\\n",
    "& \\qquad l \\text{ is free}\n",
    "\\end{align}\n",
    "$$"
   ]
  },
  {
   "cell_type": "markdown",
   "metadata": {},
   "source": [
    "**b)** The iterpretation is as follow.\n",
    "\n",
    "$w_1, w_2$ are the probabilities that the row player will select corresponding strategy. Then the problme is to maximum the minimal extepect  payoff to the row player."
   ]
  },
  {
   "cell_type": "markdown",
   "metadata": {},
   "source": [
    "**c)** This problem can be coverted to \n",
    "\n",
    "$$\n",
    "\\max_{w_2 \\in [0, 1]} \\min \\{2-5w_2, 3w_2 -1, w_2 \\}.\n",
    "$$\n",
    "\n",
    "So the optimal solution is $(l, w_1,w_2)= (1/8, 5/8, 3/8)$."
   ]
  },
  {
   "cell_type": "markdown",
   "metadata": {},
   "source": [
    "**d)**\n",
    "By the complementary slackness condition and strong duality, we have\n",
    "\n",
    "\n",
    "$$(z,x_1,x_2,x_3)= (1/8, 3/8, 5/8, 0)$$"
   ]
  },
  {
   "cell_type": "markdown",
   "metadata": {},
   "source": [
    "**e)** For both row and column player they put a larger weight (5/8) on the strategy that they will earn on expectation and smaller weight on the strategy that will lead to lose. Moever, the column palyer place a zero weight on the strategy will lose anyway."
   ]
  },
  {
   "cell_type": "markdown",
   "metadata": {},
   "source": [
    "## 6.35\n",
    "\n",
    "**a)**\n",
    "\n",
    "$\\Rightarrow$: suppose $x_j=0$ for all optimal primal solutions. \n",
    "\n",
    "Then the proof is same as the one given in the Exercise 4.20 **c)**. Please refer to it, which appears in the following. \n",
    "\n",
    "$\\Leftarrow$: suppose a complementary dual variable is positive for some optimal dual solutions. \n",
    "\n",
    "Since the complementary slackness conditions hold for all primal and dual optimal solutions. Since for some $x_j$ is positive in the optimal dual, then its complementary primal variable has to be positive.\n",
    "\n",
    "**b)**\n",
    "\n",
    "If $x_j$ is unbounded, then Columns $A_j\\leq 0$. Since $w\\geq 0$, we have $w^T A_j\\leq 0$. $w_{j+m}= c_j - w^T A_j$ is $x_j$'s complementary variable. By the dual feasibility, we know $w_{j+m}\\geq 0$, and since $w^T A_j\\leq 0$, we have $w_{j+m}\\leq - w^T A_j$.\n",
    "\n",
    "If $w_{j+m}$ is bounded, the argument cab be reversed to prove $x_j$ is unbounded.\n",
    "\n",
    "**c)**\n",
    "Suppose $x_j$ is unbounded. Since it is optimal, by complementary slackness condition, we have $(c_j - w^T A_j)x_j=0$. As $x_j$ is unbounded, we have $w_{j+m}= c_j - w^T A_j=0$.\n",
    "\n",
    "Suppose $w_{j+m}= c_j - w^T A_j=0$, then $x_j$ is unbounded.\n",
    "\n",
    "**d)**\n"
   ]
  },
  {
   "cell_type": "markdown",
   "metadata": {},
   "source": [
    "## Exercise 4.5\n",
    "\n",
    "**a)** **True**.\n",
    "\n",
    "Since there is no $c_B^TB^{-1}$ is feasible, we know that $x^*$ is not optimal yet. So the optimal cost is strictly smaller than $c^Tx^*$.\n",
    "\n",
    "**b)** **True**. \n",
    "\n",
    "The whole purpose of the auxiliary primal problem is to create a problem that is feasible. Since the optimal cost of the auxiliary primal problem is bounded by 0, so the dual is feasible.\n",
    "\n",
    "**c)** **True**. \n",
    "\n",
    "Eliminate the equality constraint will remove the corresponding dual variable, which is equivalent to set it as 0 in the constraint.\n",
    "\n",
    "**d)** **True**. \n",
    "\n",
    "This is obvious by weak duality theorem."
   ]
  },
  {
   "cell_type": "markdown",
   "metadata": {},
   "source": [
    "## Exercise 4.7\n",
    "\n",
    "**a)** The primal problem can be written as\n",
    "\n",
    "$$\n",
    "\\begin{align}\n",
    "& \\min \\quad z\\\\\n",
    "& s.t \\quad 1_m^T z -Ax \\geq -b\\\\\n",
    "& \\qquad z,x \\text{ is free.}\n",
    "\\end{align}\n",
    "$$\n",
    "\n",
    "The corresponding dual is\n",
    "\n",
    "$$\n",
    "\\begin{align}\n",
    "& \\max \\quad (-b)^Tw\\\\\n",
    "& s.t \\quad 1_m^Tw = 1\\\\\n",
    "& \\qquad A^Tw = 0_m\n",
    "\\end{align}\n",
    "$$\n",
    "\n",
    "By the strong duality theorem, we have $(-b)^Tw^* = v,$ where $w^*$ is the optimal solution for the dual. Hence, for any $w$ satisfy the constraints given in the dual problem, one must have $$-w^Tb \\leq v.$$\n",
    "\n",
    "**b)** By strong duality theorem, we have the optimal cost of the dual is $v$."
   ]
  },
  {
   "cell_type": "markdown",
   "metadata": {},
   "source": [
    "## Exercise 4.15\n",
    "\n",
    "* Dual Problem:\n",
    "\n",
    "$$\n",
    "\\begin{align}\n",
    "& \\max \\quad w\\\\\n",
    "& s.t \\quad w \\leq 1\n",
    "\\end{align}\n",
    "$$\n",
    "\n",
    "* The optimal solutions for the primal are $\\{(x_1,x_2)|x_1\\geq 0, x_2 = 1\\}$, which implies that it doesn't have an unique optimal solution. But it has non-degenerate solutions as long as $x_1 >0$.\n",
    "\n",
    "* The optimal solution for the dual is $w=1$, which implies that it do have an unique optimal solution. Also, it has a non-degenerate solution.\n",
    "\n",
    "---\n",
    "1. The primal problem does not have a non-degenerate BFS.\n",
    "\n",
    "2. The dual problem has a non-degenerate BFS, but the optimal solution for the primal is not unique.\n",
    "\n",
    "From 1 and 2, we know this is not in agreement with the aforementioned statement."
   ]
  },
  {
   "cell_type": "markdown",
   "metadata": {},
   "source": [
    "## Exercise 4.20\n",
    "\n",
    "**a)**\n",
    "Denote\n",
    "\n",
    "$$\n",
    "\\begin{cases}\n",
    "& \\min \\quad c^Tx\\\\\n",
    "& s.t \\quad Ax=b  \\qquad (P)\\\\\n",
    "& \\qquad x\\geq 0\n",
    "\\end{cases}\n",
    "\\qquad\n",
    "\\begin{cases}\n",
    "& \\max \\quad b^Tw\\\\\n",
    "& s.t \\quad A^Tw\\leq c  \\qquad (D)\n",
    "\\end{cases}\n",
    "$$\n",
    "\n",
    "$$\n",
    "\\begin{cases}\n",
    "& \\min \\quad -x_j\\\\\n",
    "& s.t \\quad Ax=b  \\qquad (P')\\\\\n",
    "&\\qquad c^Tx \\leq d\\\\\n",
    "& \\qquad x\\geq 0\n",
    "\\end{cases}\n",
    "\\qquad\n",
    "\\begin{cases}\n",
    "& \\max \\quad b^Tw+dt\\\\\n",
    "& s.t \\quad A^Tw + tc^T \\leq -e_j  \\qquad (D')\\\\\n",
    "& \\qquad t\\leq 0\n",
    "\\end{cases}\n",
    "$$\n"
   ]
  },
  {
   "cell_type": "markdown",
   "metadata": {},
   "source": [
    "Suppose $x^*$ is the optimal solution for (P), then it provides an upper bound on (P'). Note that we we have $x\\geq 0$ and $x_j^*=0$, we know that the optimal value for (P') is also zero. Therefore, the optimal value for (D') is also 0.\n",
    "\n",
    "Suppose $(w^*, t^*)$ is an optimal solution for (D') and $w_0$ is an optimal solution for (D).\n",
    "\n",
    "* $t^*=0$, then we have $$b^Tw^* = 0 , A^Tw^* \\leq -e_j.$$ Note that $$b^T(w^* + w_0)=b^Tw_0 \\text{ and } A^T(w^*+w_0) \\leq c - e_j.$$ We assert that $w^*+w_0$ is another optimal solution for (D). And specifically, we know that $$(w^* + w_0)^TA_j \\leq c_j - 1 < c_j.$$"
   ]
  },
  {
   "cell_type": "markdown",
   "metadata": {},
   "source": [
    "* $t^*<0$, then denote $\\bar w = \\frac{-w^*}{t^*}$. We have $b^tw^* + dt^*=0$ and $A^Tw^* + t^*c^T \\leq - e_j$, which implies $$b^T\\bar w = d \\text{ and } A^T\\bar w + \\frac{e_j}{t^*}\\leq c^T.$$ So $\\bar w$ is an optimal solution for (D). Notice that $$\\bar w^T A_j = c_j + \\frac{1}{t^*} < c_j.$$\n",
    "\n",
    "Two bullet points conclude the proof."
   ]
  },
  {
   "cell_type": "markdown",
   "metadata": {},
   "source": [
    "**b)**\n",
    "\n",
    "From **a)**, we know that there exist $w^{(j)}, j\\in J=\\{j| x_j=0, j=1,2,...,n\\}$ s.t $w^{(j)}$  is an optimal solution for (D) and ${w^{(j)}}^TA_j < c_j$. Denote $W^{**}= \\frac{1}{|J|}\\sum_{j\\in J} w^{(j)}$, then we have   ${W^{**}}^TA_j < c_j, j\\in J$. \n",
    "\n",
    "Furthermore, we have $x_j >0, j \\notin J.$"
   ]
  },
  {
   "cell_type": "markdown",
   "metadata": {},
   "source": [
    "**c)**\n",
    "\n",
    "i) Consider\n",
    "\n",
    "$$\n",
    "\\begin{cases}\n",
    "& \\min \\quad -x_j\\\\\n",
    "& s.t \\quad Ax\\geq b  \\qquad (P')\\\\\n",
    "&\\qquad -c^Tx \\geq -d\\\\\n",
    "& \\qquad x\\geq 0\n",
    "\\end{cases}\n",
    "\\qquad\n",
    "\\begin{cases}\n",
    "& \\max \\quad b^Tw+dt\\\\\n",
    "& s.t \\quad w^TA - tc^T \\leq -e_j^T  \\qquad (D')\\\\\n",
    "& \\qquad w, t\\geq 0\n",
    "\\end{cases}\n",
    "$$\n",
    "\n",
    "And consider for all $j=1,2,...,n$, $x_j=0$ and $x_j>0$ cases. Use the similar arguments in **a)** and **b)**, we concludes the proof.\n",
    "\n",
    "ii) We can treat the dual problem as the primal and re-write is as \n",
    "\n",
    "$$\n",
    "  \\begin{cases}\n",
    "  & \\max\\quad b^T w \\\\ \n",
    "  & s.t \\quad A^Tw\\leq c \\qquad (P) \\\\\n",
    "  & \\qquad w \\geq 0,\n",
    "  \\end{cases}\n",
    "  \\qquad\\qquad\n",
    "  \\begin{cases}\n",
    "  & \\min\\quad x^Tc \\\\ \n",
    "  & s.t \\quad x^T A^T\\geq b^T \\qquad (D) \\\\\n",
    "  & \\qquad x \\geq 0,\n",
    "  \\end{cases}\n",
    "$$\n",
    "\n",
    "and use the similar method from i), we conclude the proof."
   ]
  },
  {
   "cell_type": "markdown",
   "metadata": {},
   "source": [
    "**d)**\n",
    "\n",
    "By KKT condition, we know that $(w_1^*,w_2^*)=(5,0)$. And ${w^*}^TA < c^T$\n",
    "\n",
    "The optimal solutions lie on the segment $\\{(x_1,x_2)| 2/3 \\leq x_1 \\leq 2, x_2 = 2 - x_1\\}$ for the primal.\n",
    "As for the optimal solution for the dual, it is always $(5,0)$.\n",
    "\n",
    "Pairs that satisfy strictly complementary slackness conditions:\n",
    "\n",
    "$$(2/3, 4/3) \\sim (5, 0) \\qquad (2,0) \\sim (5,0)$$"
   ]
  },
  {
   "cell_type": "markdown",
   "metadata": {},
   "source": [
    "## Exercise 4.27\n",
    "By the strictly complementary slackness condition, **a)** and **b)** are equivalent."
   ]
  }
 ],
 "metadata": {
  "kernelspec": {
   "display_name": "Python 3",
   "language": "python",
   "name": "python3"
  },
  "language_info": {
   "codemirror_mode": {
    "name": "ipython",
    "version": 3
   },
   "file_extension": ".py",
   "mimetype": "text/x-python",
   "name": "python",
   "nbconvert_exporter": "python",
   "pygments_lexer": "ipython3",
   "version": "3.6.3"
  }
 },
 "nbformat": 4,
 "nbformat_minor": 2
}
