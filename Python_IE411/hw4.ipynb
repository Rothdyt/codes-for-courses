{
 "cells": [
  {
   "cell_type": "markdown",
   "metadata": {},
   "source": [
    "<div align=\"center\">\n",
    "  <h1>Homework 4</h1>\n",
    "    <p>\n",
    "        <div align=\"center\">\n",
    "        <h2>Yutong Dai yutongd3@illinois.edu</h2>\n",
    "        </div>\n",
    "    </p>\n",
    "</div>"
   ]
  },
  {
   "cell_type": "markdown",
   "metadata": {},
   "source": [
    "## 3.6\n",
    "a) According to the graph below, the optimal value for the objective function is $-\\frac{11}{3}$, which is attained at $(\\frac{1}{3},\\frac{4}{3})$."
   ]
  },
  {
   "cell_type": "code",
   "execution_count": 42,
   "metadata": {},
   "outputs": [
    {
     "data": {
      "image/png": "[encoded data removed]",
      "text/plain": [
       "<matplotlib.figure.Figure at 0x120646048>"
      ]
     },
     "metadata": {},
     "output_type": "display_data"
    }
   ],
   "source": [
    "x = np.linspace(0,1.2,100)\n",
    "fig, ax = plt.subplots()\n",
    "ax.plot(x, 1 + x, 'b-', markersize=2, label=\"x2=1+x1\")\n",
    "ax.plot(x, 2-(2/3)*x, 'b-', markersize=2, label=\"x2=2-2/3*x1\")\n",
    "ax.plot(x, np.zeros_like(x)+4/3, 'b-', markersize=2, label=\"x2=4/3\")\n",
    "ax.plot(x, -(3/2)*x - (1/2) * (-11/3), \"g-.\", label=\"optimal\")\n",
    "plt.plot(3/5,8/5,'ro',markersize=4, label='(3/5,8/5)')\n",
    "plt.plot(1/3,4/3,'ro',markersize=4, label='(1/3,4/3)')\n",
    "plt.plot(1,4/3,'ro',markersize=4, label='(1,4/3)')\n",
    "ax.grid(True, which='both')\n",
    "ax.axhline(y=0, color='k')\n",
    "ax.axvline(x=0, color='k')\n",
    "plt.legend()\n",
    "plt.xlabel('x1')\n",
    "plt.ylabel('x2')\n",
    "plt.show()"
   ]
  },
  {
   "cell_type": "markdown",
   "metadata": {},
   "source": [
    "b)\n",
    "\n",
    "Rewrite the problem in the standard form,\n",
    "\n",
    "$$\n",
    "\\begin{align}\n",
    "& \\max \\quad -3x_1  - 2x_2\\\\\n",
    "& s.t \\quad -x_1 + x_2 + x_3 = 1\\\\\n",
    "& \\qquad 2x_1 + 3x_2 + x_4 = 6\\\\\n",
    "& \\qquad x_3 -x_5 = \\frac{4}{3} \\\\\n",
    "& \\qquad x_1,...,x_5\\geq 0\n",
    "\\end{align}\n",
    "$$\n",
    "\n",
    "Then we partition the matrix $A$ as\n",
    "\n",
    "$$\n",
    "A=\n",
    "\\begin{bmatrix}\n",
    "-1 & 1 & 1 & || & 0 & 0 \\\\\n",
    "2  & 3 & 0 & || & 1 & 0\\\\\n",
    "0  & 1 & 0 & || & 0 & -1\n",
    "\\end{bmatrix},\n",
    "$$\n",
    "\n",
    "So $B=\n",
    "\\begin{bmatrix}\n",
    "-1 & 1 & 1 \\\\\n",
    "2  & 3 & 0 \\\\\n",
    "0  & 1 & 0 \\\\\n",
    "\\end{bmatrix}$, \n",
    "$N=\n",
    "\\begin{bmatrix}\n",
    " 0 & 0 \\\\\n",
    " 1 & 0\\\\\n",
    " 0 & -1\n",
    "\\end{bmatrix}$, $C_B^T=(-3,-2,0)$, $C_N^T=(0,0)$, $b^T=(1,6,4/3)$.\n",
    "\n",
    "So the **basic feasible solution** is $x_0^T=B^{-1}b=(1, 4/3, 2/3)$.\n",
    "And the tableau form is given below.\n",
    "\n",
    "|   | $z$ | $x_1$ | $x_2$ | $x_3$ | $x_4$ | $x_5$ | RHS |\n",
    "| --- | --- | --- | --- | --- | --- | --- | --- |\n",
    "| $z$ | -1 | 0 | 0 | 0 |1.5  | 2.5 |  17/3|\n",
    "| $x_1$| 0| 1 | 0 | 0 |  0.5  | 1.5 |  1|\n",
    "| $x_2$| 0| 0 | 1 | 0 |   0 | -1 | 4/3 |\n",
    "| $x_3$| 0| 0 | 0 | 1 |  0.5  | 2.5 |  2/3|\n"
   ]
  },
  {
   "cell_type": "code",
   "execution_count": 70,
   "metadata": {},
   "outputs": [
    {
     "name": "stdout",
     "output_type": "stream",
     "text": [
      "Current Cost:[[-5.66666667]]\n",
      "Current BFS:[[1.         1.33333333 0.66666667]]\n",
      "Cost Reduction:[[1.5 2.5]]\n",
      "B.inv * N:\n",
      "[[ 0.5  1.5]\n",
      " [ 0.  -1. ]\n",
      " [ 0.5  2.5]]\n"
     ]
    }
   ],
   "source": [
    "B = np.array([[-1,1,1],[2,3,0],[0,1,0]])\n",
    "N = np.array([[0,0],[1,0],[0,-1]])\n",
    "CB = np.array([[-3],[-2],[0]])\n",
    "CN = np.array([[0],[0]])\n",
    "b = np.array([[1],[6],[4/3]])\n",
    "print(\"Current Cost:{}\".format(np.dot(CB.T,np.linalg.inv(B).dot(b))))\n",
    "print(\"Current BFS:{}\".format(np.linalg.inv(B).dot(b).T))\n",
    "print(\"Cost Reduction:{}\".format(CN.T-np.dot(CB.T,np.linalg.inv(B)).dot(N)))\n",
    "print(\"B.inv * N:\\n{}\".format(np.linalg.inv(B).dot(N)))"
   ]
  },
  {
   "cell_type": "markdown",
   "metadata": {},
   "source": [
    "c) Choose $x_4$ as the pivot column.\n",
    "$\\delta=\\min\\{1/0.5, (2/3)/(0.5)\\}=4/3$, then the tableau becomes to\n",
    "\n",
    "|   | $z$ | $x_1$ | $x_2$ | $x_3$ | $x_4$ | $x_5$ | RHS |\n",
    "| --- | --- | --- | --- | --- | --- | --- | --- |\n",
    "| $z$ | -1 | 0 | 0 | -3 |0  | -5 |  11/3|\n",
    "| $x_1$| 0| 1 | 0 | -1 |  0  | -1 |  1/3|\n",
    "| $x_2$| 0| 0 | 1 | 0 |   0 | -1 | 4/3 |\n",
    "| $x_4$| 0| 0 | 0 | 2 |  1  | 5 |  4/3|\n",
    "\n",
    "So the current solution is $(1/3, 4/3, 0, 4/3, 0)$ and the base matrix is\n",
    "$B=\n",
    "\\begin{bmatrix}\n",
    "-1 & 1 &  0  \\\\\n",
    "2  & 3 & 1 \\\\\n",
    "0  & 1 &  0 \n",
    "\\end{bmatrix}$\n",
    "\n",
    "Since all the cost is negative, the solution is optimal for the maximization problem."
   ]
  },
  {
   "cell_type": "markdown",
   "metadata": {},
   "source": [
    "d)\n",
    "\n",
    "ii) As $x_2\\geq 4/3$, we know that the second column of $A$ has to be in bases. So there are in total all four combinations.\n",
    "\n",
    "$$\n",
    "B_1 =\n",
    "\\begin{bmatrix}\n",
    "-1 & 1 & 1\\\\\n",
    "2  & 3 & 0 \\\\\n",
    "0  & 1 & 0 \n",
    "\\end{bmatrix},\n",
    "B_2 =\n",
    "\\begin{bmatrix}\n",
    "-1 & 1 &  0  \\\\\n",
    "2  & 3 &  1 \\\\\n",
    "0  & 1 &  0 \n",
    "\\end{bmatrix},\n",
    "B_3=\n",
    "\\begin{bmatrix}\n",
    "-1 & 1 & 0 \\\\\n",
    "2  & 3 & 0\\\\\n",
    "0  & 1 & -1\n",
    "\\end{bmatrix},\n",
    "$$\n"
   ]
  },
  {
   "cell_type": "code",
   "execution_count": null,
   "metadata": {},
   "outputs": [],
   "source": []
  }
 ],
 "metadata": {
  "kernelspec": {
   "display_name": "Python 3",
   "language": "python",
   "name": "python3"
  },
  "language_info": {
   "codemirror_mode": {
    "name": "ipython",
    "version": 3
   },
   "file_extension": ".py",
   "mimetype": "text/x-python",
   "name": "python",
   "nbconvert_exporter": "python",
   "pygments_lexer": "ipython3",
   "version": "3.6.3"
  }
 },
 "nbformat": 4,
 "nbformat_minor": 2
}
