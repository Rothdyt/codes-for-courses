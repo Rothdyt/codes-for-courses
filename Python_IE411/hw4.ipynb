{
 "cells": [
  {
   "cell_type": "markdown",
   "metadata": {},
   "source": [
    "<div align=\"center\">\n",
    "  <h1>Homework 4</h1>\n",
    "    <p>\n",
    "        <div align=\"center\">\n",
    "        <h2>Yutong Dai yutongd3@illinois.edu</h2>\n",
    "        </div>\n",
    "    </p>\n",
    "</div>"
   ]
  },
  {
   "cell_type": "markdown",
   "metadata": {},
   "source": [
    "## 3.6\n",
    "a) According to the graph below, the optimal value for the objective function is $-\\frac{11}{3}$, which is attained at $(\\frac{1}{3},\\frac{4}{3})$."
   ]
  },
  {
   "cell_type": "code",
   "execution_count": 5,
   "metadata": {},
   "outputs": [
    {
     "data": {
      "image/png": "[encoded data removed]",
      "text/plain": [
       "<matplotlib.figure.Figure at 0x1143df358>"
      ]
     },
     "metadata": {},
     "output_type": "display_data"
    }
   ],
   "source": [
    "import matplotlib.pyplot as plt\n",
    "import numpy as np\n",
    "x = np.linspace(0,1.2,100)\n",
    "fig, ax = plt.subplots()\n",
    "ax.plot(x, 1 + x, 'b-', markersize=2, label=\"x2=1+x1\")\n",
    "ax.plot(x, 2-(2/3)*x, 'b-', markersize=2, label=\"x2=2-2/3*x1\")\n",
    "ax.plot(x, np.zeros_like(x)+4/3, 'b-', markersize=2, label=\"x2=4/3\")\n",
    "ax.plot(x, -(3/2)*x - (1/2) * (-11/3), \"g-.\", label=\"optimal\")\n",
    "plt.plot(3/5,8/5,'ro',markersize=4, label='(3/5,8/5)')\n",
    "plt.plot(1/3,4/3,'ko',markersize=4, label='(1/3,4/3)')\n",
    "plt.plot(1,4/3,'co',markersize=4, label='(1,4/3)')\n",
    "ax.grid(True, which='both')\n",
    "ax.axhline(y=0, color='k')\n",
    "ax.axvline(x=0, color='k')\n",
    "plt.legend()\n",
    "plt.xlabel('x1')\n",
    "plt.ylabel('x2')\n",
    "plt.show()"
   ]
  },
  {
   "cell_type": "markdown",
   "metadata": {},
   "source": [
    "b)\n",
    "\n",
    "Rewrite the problem in the standard form,\n",
    "\n",
    "$$\n",
    "\\begin{align}\n",
    "& \\max \\quad -3x_1  - 2x_2\\\\\n",
    "& s.t \\quad -x_1 + x_2 + x_3 = 1\\\\\n",
    "& \\qquad 2x_1 + 3x_2 + x_4 = 6\\\\\n",
    "& \\qquad x_2 -x_5 = \\frac{4}{3} \\\\\n",
    "& \\qquad x_1,...,x_5\\geq 0\n",
    "\\end{align}\n",
    "$$\n",
    "\n",
    "Then we partition the matrix $A$ as\n",
    "\n",
    "$$\n",
    "A=\n",
    "\\begin{bmatrix}\n",
    "-1 & 1 & 1 & || & 0 & 0 \\\\\n",
    "2  & 3 & 0 & || & 1 & 0\\\\\n",
    "0  & 1 & 0 & || & 0 & -1\n",
    "\\end{bmatrix},\n",
    "$$\n",
    "\n",
    "So $B=\n",
    "\\begin{bmatrix}\n",
    "-1 & 1 & 1 \\\\\n",
    "2  & 3 & 0 \\\\\n",
    "0  & 1 & 0 \\\\\n",
    "\\end{bmatrix}$, \n",
    "$N=\n",
    "\\begin{bmatrix}\n",
    " 0 & 0 \\\\\n",
    " 1 & 0\\\\\n",
    " 0 & -1\n",
    "\\end{bmatrix}$, $C_B^T=(-3,-2,0)$, $C_N^T=(0,0)$, $b^T=(1,6,4/3)$.\n",
    "\n",
    "So the **basic feasible solution** is $x_0^T=[(B^{-1}b)^T,0^T]=(1, 4/3, 2/3, 0, 0)$.\n",
    "And the tableau form is given below.\n",
    "\n",
    "|   | $z$ | $x_1$ | $x_2$ | $x_3$ | $x_4$ | $x_5$ | RHS |\n",
    "| --- | --- | --- | --- | --- | --- | --- | --- |\n",
    "| $z$ | -1 | 0 | 0 | 0 |1.5  | 2.5 |  17/3|\n",
    "| $x_1$| 0| 1 | 0 | 0 |  0.5  | 1.5 |  1|\n",
    "| $x_2$| 0| 0 | 1 | 0 |   0 | -1 | 4/3 |\n",
    "| $x_3$| 0| 0 | 0 | 1 |  0.5  | 2.5 |  2/3|\n"
   ]
  },
  {
   "cell_type": "code",
   "execution_count": 70,
   "metadata": {},
   "outputs": [
    {
     "name": "stdout",
     "output_type": "stream",
     "text": [
      "Current Cost:[[-5.66666667]]\n",
      "Current BFS:[[1.         1.33333333 0.66666667]]\n",
      "Cost Reduction:[[1.5 2.5]]\n",
      "B.inv * N:\n",
      "[[ 0.5  1.5]\n",
      " [ 0.  -1. ]\n",
      " [ 0.5  2.5]]\n"
     ]
    }
   ],
   "source": [
    "B = np.array([[-1,1,1],[2,3,0],[0,1,0]])\n",
    "N = np.array([[0,0],[1,0],[0,-1]])\n",
    "CB = np.array([[-3],[-2],[0]])\n",
    "CN = np.array([[0],[0]])\n",
    "b = np.array([[1],[6],[4/3]])\n",
    "print(\"Current Cost:{}\".format(np.dot(CB.T,np.linalg.inv(B).dot(b))))\n",
    "print(\"Current BFS:{}\".format(np.linalg.inv(B).dot(b).T))\n",
    "print(\"Cost Reduction:{}\".format(CN.T-np.dot(CB.T,np.linalg.inv(B)).dot(N)))\n",
    "print(\"B.inv * N:\\n{}\".format(np.linalg.inv(B).dot(N)))"
   ]
  },
  {
   "cell_type": "markdown",
   "metadata": {},
   "source": [
    "c) Choose $x_4$ as the pivot column.\n",
    "$\\delta=\\min\\{1/0.5, (2/3)/(0.5)\\}=4/3$, then the tableau becomes to\n",
    "\n",
    "|   | $z$ | $x_1$ | $x_2$ | $x_3$ | $x_4$ | $x_5$ | RHS |\n",
    "| --- | --- | --- | --- | --- | --- | --- | --- |\n",
    "| $z$ | -1 | 0 | 0 | -3 |0  | -5 |  11/3|\n",
    "| $x_1$| 0| 1 | 0 | -1 |  0  | -1 |  1/3|\n",
    "| $x_2$| 0| 0 | 1 | 0 |   0 | -1 | 4/3 |\n",
    "| $x_4$| 0| 0 | 0 | 2 |  1  | 5 |  4/3|\n",
    "\n",
    "So the current solution is $(1/3, 4/3, 0, 4/3, 0)$ and the base matrix is\n",
    "$B=\n",
    "\\begin{bmatrix}\n",
    "-1 & 1 &  0  \\\\\n",
    "2  & 3 & 1 \\\\\n",
    "0  & 1 &  0 \n",
    "\\end{bmatrix}$.\n",
    "\n",
    "Since all the cost is negative, the solution is optimal for the maximization problem."
   ]
  },
  {
   "cell_type": "markdown",
   "metadata": {},
   "source": [
    "d)\n",
    "In order to draw the requirements space, we need to reformulate this problem.\n",
    "\n",
    "$$\n",
    "\\begin{align}\n",
    "& \\max \\quad -3x_1  - 2x_2' - \\frac{8}{3}\\\\\n",
    "& s.t \\quad -x_1 + x_2' + x_3 = -\\frac{1}{3}\\\\\n",
    "& \\qquad 2x_1 + 3x_2' + x_4 = 2\\\\\n",
    "& \\qquad x_1,x_2',x_3,x_4\\geq 0\n",
    "\\end{align}\n",
    "$$\n",
    "\n",
    "i) According to the discussion with the TA, the possible bases are defined as 2 by 2 matrix.\n",
    "\n",
    "They are \n",
    "\n",
    "$$\n",
    "\\begin{align}\n",
    "& B_1 = \n",
    "\\begin{bmatrix}\n",
    "-1 & 1 \\\\\n",
    "2  & 3 \n",
    "\\end{bmatrix},\n",
    "B_2 = \n",
    "\\begin{bmatrix}\n",
    "-1 & 1 \\\\\n",
    "2  & 0 \n",
    "\\end{bmatrix},\n",
    "B_3 = \n",
    "\\begin{bmatrix}\n",
    "-1 & 0 \\\\\n",
    "2  & 1 \n",
    "\\end{bmatrix}\\\\\n",
    "& B_4 = \n",
    "\\begin{bmatrix}\n",
    "1 & 1\\\\\n",
    "3 & 0\n",
    "\\end{bmatrix},\n",
    "B_5 = \n",
    "\\begin{bmatrix}\n",
    "1 & 0\\\\\n",
    "3 & 1\n",
    "\\end{bmatrix},\n",
    "B_6 = \n",
    "\\begin{bmatrix}\n",
    "1 & 0\\\\\n",
    "0 & 1\n",
    "\\end{bmatrix}\n",
    "\\end{align}\n",
    "$$"
   ]
  },
  {
   "cell_type": "code",
   "execution_count": 10,
   "metadata": {},
   "outputs": [
    {
     "data": {
      "image/png": "[encoded data removed]",
      "text/plain": [
       "<matplotlib.figure.Figure at 0x111691588>"
      ]
     },
     "metadata": {},
     "output_type": "display_data"
    }
   ],
   "source": [
    "import numpy as np\n",
    "import matplotlib.pyplot as plt\n",
    "%matplotlib inline\n",
    "f, ((ax1, ax2, ax3), (ax4, ax5, ax6)) = plt.subplots(2, 3, figsize=(9,6))\n",
    "ax1.plot([-1,0], [2,0])\n",
    "ax1.plot([1,0], [3,0])\n",
    "ax1.set_title('B1')\n",
    "ax2.plot([-1,0], [2,0])\n",
    "ax2.plot([1,0], [0,0])\n",
    "ax2.set_title('B2')\n",
    "ax3.plot([-1,0], [2,0])\n",
    "ax3.plot([0,0], [1,0])\n",
    "ax3.set_title('B3')\n",
    "\n",
    "ax4.plot([1,0], [3,0])\n",
    "ax4.plot([1,0], [0,0])\n",
    "ax4.set_title('B4')\n",
    "ax5.plot([1,0], [3,0])\n",
    "ax5.plot([0,0], [1,0])\n",
    "ax5.set_title('B5')\n",
    "ax6.plot([1,0], [0,0])\n",
    "ax6.plot([0,0], [1,0])\n",
    "ax6.set_title('B6')\n",
    "plt.show()\n"
   ]
  },
  {
   "cell_type": "markdown",
   "metadata": {},
   "source": [
    "ii) \n",
    "\n",
    "Possible feasible bases are given as\n",
    "\n",
    "$$\n",
    "B_1 =\n",
    "\\begin{bmatrix}\n",
    "-1 & 1 \\\\\n",
    "2  & 3 \n",
    "\\end{bmatrix},\n",
    "B_2 =\n",
    "\\begin{bmatrix}\n",
    "-1 & 1 \\\\\n",
    "2  & 0 \n",
    "\\end{bmatrix},\n",
    "B_3=\n",
    "\\begin{bmatrix}\n",
    "-1 & 0 \\\\\n",
    "2  & 1 \n",
    "\\end{bmatrix}.\n",
    "$$"
   ]
  },
  {
   "cell_type": "code",
   "execution_count": 25,
   "metadata": {},
   "outputs": [],
   "source": [
    "import numpy as np\n",
    "A = np.array([[-1,1,1,0],[2,3,0,1]])\n",
    "b = np.array([[-1/3], [2]])\n",
    "for i in range(3):\n",
    "    for j in range(i+1,4):\n",
    "            a = A[:,[i,j]]\n",
    "            #print(i,j, np.linalg.inv(a).dot(b))"
   ]
  },
  {
   "cell_type": "markdown",
   "metadata": {},
   "source": [
    "e)\n",
    "\n",
    "* The basic matrix $B_1$ corresponds to $(3/5, 8/5)$. \n",
    "* The basic matrix $B_2$ corresponds to $(1, 4/3)$.\n",
    "* The basic matrix $B_3$ correspond to $(1/3, 4/3)$."
   ]
  },
  {
   "cell_type": "markdown",
   "metadata": {},
   "source": [
    "## 3.9\n",
    "By adding a slack variable $x_7$, we can change the maximization problem to the standard form. $p_1,...,p_7$ are 7 basic feasible solutions.\n",
    "\n",
    "\n",
    "|   | $x_1$ | $x_2$ | $x_3$ | $x_4$ | $x_5$  | $x_6$ | $x_7$ |\n",
    "| --- | --- | --- | --- | --- | --- | --- | --- |\n",
    "| $p_1$ | 20 | 0 | 0 | 0 | 0 | 0 | 0 |\n",
    "| $p_2$ | 0 | 10 | 0 | 0 | 0 | 0 | 0 |\n",
    "| $p_3$ | 0 | 0 | 20 | 0 | 0 | 0 | 0 |\n",
    "| $p_4$ | 0 | 0 | 0 | 20 | 0 | 0 | 0 |\n",
    "| $p_5$ | 0 | 0 | 0 | 0 | 20 | 0 | 0 |\n",
    "| $p_6$ | 0 | 0 | 0 | 0 | 0 | 15 | 0 |\n",
    "| $p_7$ | 0 | 0 | 0 | 0 | 0 | 0 | 60 |\n",
    "\n",
    "Clearly, the optimal value is 100, which attains at the point $p_5$.\n",
    "\n",
    "**General Methodology:**\n",
    "\n",
    "Find $j^*\\in \\arg\\max \\{\\frac{c_j}{a_j}\\}$. Then the $j^*$(s) indicate(s) the optimal solution, where we set the  $j^*$-th coordinate to $b/a_j$ while keep the rest coordinates 0.\n",
    "\n",
    "If $c_j <0 \\text{ or } c_j > 0, a_j\\leq 0$, then just skip calculating $\\frac{c_j}{a_j}$, since those variables won't become basic variables."
   ]
  },
  {
   "cell_type": "markdown",
   "metadata": {},
   "source": [
    "## 3.13\n",
    "a) The objective value will increase by $3\\times 7 = 21$.\n",
    "\n",
    "b) **No**. If have some $j$ such that $c_j-z_j > 0$, then we can let $x_j$ enter the basic variables and kick out one from the basic variables, while still keep increasing the objective function value.\n",
    "\n",
    "c) **Yes**. Suppose $x_0$ is a BFS, then $c^T(x_0+ \\lambda d) \\geq c^Tx_0,\\forall \\lambda \\geq 0$. Notice that $x_0+ \\lambda d$ is still in the feasible set, so the problem is unbounded.\n",
    "\n",
    "d) **No**. If all the BFS of $X$ are non-degenerated, then the statement is true.\n",
    "\n",
    "e) **No**. When the optimal solution is degenerated, we stay at the same BFS after one iteration.\n",
    "\n",
    "f) **False**. A point can lead to multiple different bases. So $B_1$ and $B_2$ are not necessarily adjacent.\n",
    "\n",
    "g) **True**. Consider the case that cost $c$ is $0$, then every feasible solution is optimal.\n",
    "\n",
    "h) The tight upper bound on the feasible bases is $m+1$ while the tight upper bound on the BFS is $m+1$.\n",
    "\n",
    "i) **False**. Consider a convex cone defined by $n+1$ hyper-planes, then it can have $n+1$ extreme directions. For example, the figure below has more than 3 extreme directions. (Source:Google Image.)\n",
    "\n",
    "![(a)](./figs/cone.png)\n",
    "\n",
    "j) **True**. Since the degree of the degeneracy is $1$, we know that there are $r=n-m+1$ planes from $x\\geq 0$ are binding and there are $q=m-(r-(n-m))=m-1$ basic variables are positive. Each possible choice of a basis $B$ that includes the columns of these $q$ positive variables represents $\\bar x$. So there are $C_{n-(m-1)}^{m-(m-1)}=n-m+1$ bases associate with this $\\bar x$."
   ]
  },
  {
   "cell_type": "markdown",
   "metadata": {},
   "source": [
    "## 3.18\n",
    "\n",
    "a) **False**. The cost of every consecutive BFS visited by the simplex is strictly less than the cost of the previous one. otherwise the algorithms is supposed to terminate. To see this,  in every iteration, the algorithm is moving along a direction $d_j$ with positive distance given by the minimal ratio test, where $j$ satisfies $(c_j-z_j)< 0, j \\in N$.\n",
    "\n",
    "b) **True**. Assume $x_r$ is leaving the basic variables and $x_k$ enters. Then previous $c_j-z_j$ changes from zero to $-\\frac{c_k-z_k}{y_{k,r}}$, which is positive. So $x_r$ can no longer enter the basic variables.\n",
    "\n",
    "c) **False**. Look at the example p.114 of Chapter 3 of the BT's book. The problem is,\n",
    "\n",
    "$$\n",
    "\\begin{align}\n",
    "& \\min x_5 + x_6 + x_7 + x_8 \\\\\n",
    "& s.t \\quad  x_1 + 2x_2+ 3x_3 +x_5 = 3\\\\\n",
    "& \\qquad -x_1 + 2x_2 + 6x_3 + x_6= 2 \\\\\n",
    "& \\qquad 4x_2 + 9x_3+ x_7 = 5\\\\\n",
    "& \\qquad 3x_3 + x_4 + x_8 = 1\\\\\n",
    "& \\qquad x_1,...,x_8 \\geq 0\n",
    "\\end{align}\n",
    "$$\n",
    "\n",
    "Let's begin with $(0, 0, 0, 0, 3, 2, 5, 1)$. \n",
    "\n",
    "* In the first iteration, $x_4$ enteres and the BFS is $(0, 0, 0, 1, 3, 2, 5, 0 )$.\n",
    "* In the very next iteration, $x_4$ leaves and the BFS is $(0, 0, 1/3, 0, 2, 0, 2, 0)$.\n",
    "\n",
    "d) **False**. When the optimal solution is not unique, the statement is false. Consider the following problem\n",
    "\n",
    "$$\n",
    "\\begin{align}\n",
    "& \\min x_1\\\\\n",
    "& s.t \\quad  x_2 - x_3 = 1\\\\\n",
    "& \\qquad x_2 + x_4 = 2\\\\\n",
    "& \\qquad x_1,x_2,x_3,x_4\\geq 0\n",
    "\\end{align}\n",
    "$$\n",
    "\n",
    "Consider \n",
    "$B_1 =\n",
    "\\begin{bmatrix}\n",
    "1 & -1 \\\\\n",
    "1  & 0 \n",
    "\\end{bmatrix}$, the BFS is $(0, 2, 1, 0)$ and non-degenerated. Also, consider \n",
    "$B_2 =\n",
    "\\begin{bmatrix}\n",
    "1 & 0 \\\\\n",
    "1  & 1 \n",
    "\\end{bmatrix}$, the BFS is $(0, 1, 0, 1)$ and non-degenerated. \n",
    "\n",
    "e) **False**. Consider the cost $c=0$, then any feasible solution is optimal."
   ]
  },
  {
   "cell_type": "code",
   "execution_count": null,
   "metadata": {},
   "outputs": [],
   "source": []
  }
 ],
 "metadata": {
  "kernelspec": {
   "display_name": "Python 3",
   "language": "python",
   "name": "python3"
  },
  "language_info": {
   "codemirror_mode": {
    "name": "ipython",
    "version": 3
   },
   "file_extension": ".py",
   "mimetype": "text/x-python",
   "name": "python",
   "nbconvert_exporter": "python",
   "pygments_lexer": "ipython3",
   "version": "3.6.3"
  }
 },
 "nbformat": 4,
 "nbformat_minor": 2
}
