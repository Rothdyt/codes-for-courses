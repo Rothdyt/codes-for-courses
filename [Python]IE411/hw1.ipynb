{
 "cells": [
  {
   "cell_type": "markdown",
   "metadata": {},
   "source": [
    "# 1.6  \n",
    "**Model**\n",
    "\n",
    "| Notation | Explaination |\n",
    "| :--- | :--- |\n",
    "|$i$|week index; $i=1,..,8$|\n",
    "|$j$|job type; $j=1,2,3$ represents producing Swiss cheese, sharp cheese and training new employees respectively.|\n",
    "|$k$|type of cheese; $k=1,2$ represents Swiss cheese and sharp cheese respectively.|\n",
    "| $x_{ij}$ | the number of people doing task $j$ on the week $i$ |\n",
    "|$y_{i}$| the number of people trained on the week $i$|\n",
    "|$r_{ik}$|the surplus of type $k$  cheese on the week $i$|\n",
    "\n",
    "**Assumptions**\n",
    "\n",
    "* For week 1, suppose there is no inventory of Swiss cheese and sharp cheese. Then even if all workers work fully on producing the two types of cheese, they can not meet the demand ($11000/10 + 8000/6 > 60 * 40$). So we assume there are $r_{01}, r_{02}\\geq 0$, which represents surplus from previous production activity.\n",
    "* The surplus of week $i$ only accounts for newly produced cheese. \n",
    "* The cheese produced at the beginning of the week $i$ is regarded as equivalent to those produced at the end of the week $i$ in terms of the time, which means they can be used to fulfill the following one week's demand. \n",
    "\n",
    "**Problem Formulation:**\n",
    "$$\n",
    "\\begin{align*}\n",
    "    & \\min 40 ( \\sum_{i=1}^8 \\sum_{j=1}^3 x_{ij} + \\sum_{i=1}^6 y_{i}) \\\\\n",
    "    & s.t. \\\\\n",
    "    & x_{11} + x_{12} + x_{13} = 60 \\\\\n",
    "    & 400x_{11} + r_{01} - r_{11} = 11000 ; 240x_{12} + r_{02} - r_{12} = 8000 \\\\\n",
    "    & x_{21} + x_{22} + x_{23} = 60\\\\\n",
    "    & 400x_{21} + r_{11} - r_{21} = 12000 ; 240x_{22} + r_{12} - r_{22} = 8000 \\\\\n",
    "    & x_{31} + x_{32} + x_{33} = 60 + \\sum_{i=1}^1y_{i} ; y_{1} \\leq 3x_{13} \\\\\n",
    "    & 400x_{31} + r_{21} - r_{31} = 13000  ; 240x_{32} + r_{22} - r_{32}= 10000  \\\\\n",
    "    & x_{41} + x_{42} + x_{43} = 60 + \\sum_{i=1}^2y_{i} ;  y_{2} \\leq 3x_{23}\\\\\n",
    "    & 400x_{41} + r_{31}  - r_{41}= 18000 ; 240x_{42} + r_{32} - r_{42}= 8000  \\\\\n",
    "    & x_{51} + x_{52} + x_{53} = 60 + \\sum_{i=1}^3y_{i} ; y_{3} \\leq 3x_{33}\\\\\n",
    "    & 400x_{51} + r_{41} - r_{51}= 14000  ; 240x_{52} + r_{42} - r_{52}= 12000 \\\\\n",
    "&  x_{61} + x_{62} + x_{63} = 60 + \\sum_{i=1}^4y_{i} ; y_{4} \\leq 3x_{43} \\\\\n",
    "& 400x_{61} + r_{51} - r_{61}= 18000  ; 240x_{62} + r_{52}- r_{62} = 13000 \\\\\n",
    "& x_{71} + x_{72} + x_{73} = 60 + ;  y_{5} \\leq 3x_{53}\\\\\n",
    "& 400x_{71} + r_{61}- r_{71} = 20000  ; 240x_{72} + r_{62}- r_{72}\n",
    " = 12000 \\\\\n",
    " &  x_{81} + x_{82} + x_{83} = 60 + \\sum_{i=1}^6y_{i}; y_{6} \\leq 3x_{63}\\\\\n",
    " & 400x_{81} + r_{71} \\geq 20000  ; 240x_{82} + r_{72} \\geq 12000  \\\\\n",
    " & \\sum_{i=1}^6y_{i} = 30\n",
    " \\end{align*}\n",
    "$$\n"
   ]
  },
  {
   "cell_type": "markdown",
   "metadata": {},
   "source": [
    "# 1.7\n",
    "\n",
    "**Model**\n",
    "\n",
    "| Notation | Explaination |\n",
    "| :--- | :--- |\n",
    "|$i$|month index; $i=1,..,12$|\n",
    "|$j$|item type; $j=1,2$ |\n",
    "| $x_{ij}$ | the number of item $j$ produced on the month $i$ |\n",
    "|$y_{ij}$| the number of item $j$ stored on the month $i$|\n",
    "\n",
    "\n",
    "**Problem Formulation:**\n",
    "\n",
    "$$\n",
    "\\begin{align*}\n",
    "    & \\min \\sum_{i=1}^6 (5x_{i1} +8.5 x_{i2}) + \\sum_{i=7}^{12} (4.5x_{ij} +  7x_{i2}) + \\sum_{i=1}^{12} (0.4 y_{i1} + 0.8y_{i2})\\\\\n",
    "    & s.t. \\\\\n",
    "    & x_{i1}\\geq 10^4, i=1,..,4 \\\\\n",
    "    & x_{i1}\\geq 3*10^4, i=5,..,9 \\\\\n",
    "    & x_{i1}\\geq 10*10^4, i=10,..,12 \\\\\n",
    "    & x_{i2} \\geq 5*10^4, i=1,2,10,11,12\\\\\n",
    "    & x_{i2} \\geq 1.5*10^4, i=3,...,9 \\\\\n",
    "    & x_{i1} + x_{i2} \\leq 12*10^4, i=1,..,9 \\\\\n",
    "    & x_{i1} + x_{i2} \\leq 15*10^4, i=10,..,12 \\\\ \n",
    "    & 2 * y_{i1} + 4 * y_{i2} \\leq 15 * 10^4, i=1,...,12p\n",
    " \\end{align*}\n",
    "$$\n",
    "\n"
   ]
  },
  {
   "cell_type": "code",
   "execution_count": null,
   "metadata": {},
   "outputs": [],
   "source": []
  }
 ],
 "metadata": {
  "kernelspec": {
   "display_name": "Python 3",
   "language": "python",
   "name": "python3"
  },
  "language_info": {
   "codemirror_mode": {
    "name": "ipython",
    "version": 3
   },
   "file_extension": ".py",
   "mimetype": "text/x-python",
   "name": "python",
   "nbconvert_exporter": "python",
   "pygments_lexer": "ipython3",
   "version": "3.6.3"
  }
 },
 "nbformat": 4,
 "nbformat_minor": 2
}
