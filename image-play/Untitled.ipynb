{
 "cells": [
  {
   "cell_type": "code",
   "execution_count": 57,
   "metadata": {},
   "outputs": [
    {
     "data": {
      "image/png": "[encoded data removed]",
      "text/plain": [
       "<matplotlib.figure.Figure at 0x1251c6cc0>"
      ]
     },
     "metadata": {},
     "output_type": "display_data"
    },
    {
     "data": {
      "text/plain": [
       "True"
      ]
     },
     "execution_count": 57,
     "metadata": {},
     "output_type": "execute_result"
    }
   ],
   "source": [
    "import numpy as np\n",
    "import cv2\n",
    "from matplotlib import pyplot as plt\n",
    "img = cv2.imread('./su.jpg')\n",
    "hsv = cv2.cvtColor(img, cv2.COLOR_BGR2HSV)\n",
    "hpanel = hsv[:,:,0]\n",
    "spanel = hsv[:,:,1]\n",
    "plt.figure(figsize=(10,8))\n",
    "plt.subplot(311)\n",
    "plt.subplots_adjust(hspace=.5)\n",
    "plt.title(\"Hue\")\n",
    "plt.hist(np.ndarray.flatten(hpanel), bins=180)\n",
    "plt.show()\n",
    "nonRedIndex = (hpanel >=20) & (hpanel <=150)\n",
    "spanel[nonRedIndex] = 0\n",
    "hsv[:,:,1] = spanel\n",
    "rgb = cv2.cvtColor(hsv, cv2.COLOR_HSV2BGR)\n",
    "cv2.imwrite('./messigray.png',rgb)"
   ]
  },
  {
   "cell_type": "code",
   "execution_count": null,
   "metadata": {},
   "outputs": [],
   "source": []
  }
 ],
 "metadata": {
  "kernelspec": {
   "display_name": "Python 3",
   "language": "python",
   "name": "python3"
  },
  "language_info": {
   "codemirror_mode": {
    "name": "ipython",
    "version": 3
   },
   "file_extension": ".py",
   "mimetype": "text/x-python",
   "name": "python",
   "nbconvert_exporter": "python",
   "pygments_lexer": "ipython3",
   "version": "3.6.8"
  }
 },
 "nbformat": 4,
 "nbformat_minor": 2
}
