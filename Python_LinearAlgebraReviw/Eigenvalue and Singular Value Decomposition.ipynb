{
 "cells": [
  {
   "cell_type": "code",
   "execution_count": 12,
   "metadata": {
    "ExecuteTime": {
     "end_time": "2019-05-24T01:36:02.564409Z",
     "start_time": "2019-05-24T09:36:02.561317+08:00"
    }
   },
   "outputs": [],
   "source": [
    "import numpy as np\n",
    "import matplotlib.pyplot as plt\n",
    "from matplotlib.patches import Ellipse"
   ]
  },
  {
   "cell_type": "code",
   "execution_count": 29,
   "metadata": {
    "ExecuteTime": {
     "end_time": "2019-05-24T04:29:03.448981Z",
     "start_time": "2019-05-24T12:29:03.286761+08:00"
    }
   },
   "outputs": [
    {
     "data": {
      "image/png": "[encoded data removed]",
      "text/plain": [
       "<Figure size 432x288 with 1 Axes>"
      ]
     },
     "metadata": {},
     "output_type": "display_data"
    }
   ],
   "source": [
    "ellipse = Ellipse((0, 0), width=2, height=2/3,facecolor='white', edgecolor='red', angle=45)\n",
    "fig, ax = plt.subplots()\n",
    "ax.axvline(c='grey', lw=1)\n",
    "ax.axhline(c='grey', lw=1)\n",
    "ax.add_patch(ellipse)\n",
    "plt.xlim(-2, 2)\n",
    "plt.ylim(-2, 2)\n",
    "plt.show()"
   ]
  },
  {
   "cell_type": "code",
   "execution_count": 43,
   "metadata": {
    "ExecuteTime": {
     "end_time": "2019-05-24T04:43:06.945181Z",
     "start_time": "2019-05-24T12:43:06.936917+08:00"
    }
   },
   "outputs": [],
   "source": [
    "class Ellipse2d:\n",
    "    def __init__(self, center, width, height, angle):\n",
    "        self.center = center\n",
    "        self.width = width\n",
    "        self.height = height\n",
    "        self.angle = angle\n",
    "        self.ellipse = None\n",
    "\n",
    "    def create(self, facecolor='white', edgecolor='tomato', linestyle='-', **kwargs):\n",
    "        self.ellipse = Ellipse(xy=self.center, width=self.width,\n",
    "                               height=self.height, angle=self.angle,\n",
    "                               facecolor=facecolor, edgecolor=edgecolor,\n",
    "                               linestyle=linestyle, **kwargs)\n",
    "        return self.ellipse\n",
    "\n",
    "    def draw(self, figsize=(6, 6), save=False):\n",
    "        fig, ax = plt.subplots(figsize=figsize)\n",
    "        ax.axvline(c='grey', lw=1)\n",
    "        ax.axhline(c='grey', lw=1)\n",
    "        if self.ellipse == None:\n",
    "            self.create()\n",
    "        ax.add_patch(self.ellipse)\n",
    "        boudary = max(self.width, self.height) * 1.2\n",
    "        plt.xlim(-boudary, boudary)\n",
    "        plt.ylim(-boudary, boudary)\n",
    "        if save:\n",
    "            plt.savefig(\"./ellipse.png\", dpi=300)\n",
    "        plt.show()"
   ]
  },
  {
   "cell_type": "code",
   "execution_count": 44,
   "metadata": {
    "ExecuteTime": {
     "end_time": "2019-05-24T04:43:07.611085Z",
     "start_time": "2019-05-24T12:43:07.606793+08:00"
    }
   },
   "outputs": [],
   "source": [
    "e = Ellipse2d((0, 0), width=4, height=2/3, angle=45)"
   ]
  },
  {
   "cell_type": "code",
   "execution_count": 55,
   "metadata": {
    "ExecuteTime": {
     "end_time": "2019-05-24T05:42:12.635395Z",
     "start_time": "2019-05-24T13:42:12.416645+08:00"
    }
   },
   "outputs": [
    {
     "data": {
      "text/plain": [
       "<Figure size 432x288 with 0 Axes>"
      ]
     },
     "metadata": {},
     "output_type": "display_data"
    },
    {
     "data": {
      "image/png": "[encoded data removed]",
      "text/plain": [
       "<Figure size 432x216 with 2 Axes>"
      ]
     },
     "metadata": {},
     "output_type": "display_data"
    }
   ],
   "source": [
    "params = {\"Before Rotation\": 0, \"After Rotation\": -45}\n",
    "fig, axs = plt.subplots(1, 2, figsize=(6, 3))\n",
    "for ax, (title, degree) in zip(axs, params.items()):\n",
    "    ax.axvline(c='grey', lw=1)\n",
    "    ax.axhline(c='grey', lw=1)\n",
    "    ellipse = Ellipse2d((0, 0), width=4, height=2/3, angle=degree)\n",
    "    ax.add_patch(ellipse.create())\n",
    "    ax.set_title(title)\n",
    "    boudary = 2 * 1.2\n",
    "    ax.set_xlim(-boudary, boudary)\n",
    "    ax.set_ylim(-boudary, boudary)\n",
    "plt.show()\n",
    "plt.savefig(\"ellipse.png\")"
   ]
  },
  {
   "cell_type": "code",
   "execution_count": null,
   "metadata": {},
   "outputs": [],
   "source": []
  }
 ],
 "metadata": {
  "kernelspec": {
   "display_name": "Python 3",
   "language": "python",
   "name": "python3"
  },
  "language_info": {
   "codemirror_mode": {
    "name": "ipython",
    "version": 3
   },
   "file_extension": ".py",
   "mimetype": "text/x-python",
   "name": "python",
   "nbconvert_exporter": "python",
   "pygments_lexer": "ipython3",
   "version": "3.6.8"
  },
  "latex_envs": {
   "LaTeX_envs_menu_present": true,
   "autocomplete": true,
   "bibliofile": "biblio.bib",
   "cite_by": "apalike",
   "current_citInitial": 1,
   "eqLabelWithNumbers": true,
   "eqNumInitial": 1,
   "hotkeys": {
    "equation": "Ctrl-E",
    "itemize": "Ctrl-I"
   },
   "labels_anchors": false,
   "latex_user_defs": false,
   "report_style_numbering": false,
   "user_envs_cfg": false
  },
  "toc": {
   "colors": {
    "hover_highlight": "#DAA520",
    "navigate_num": "#000000",
    "navigate_text": "#333333",
    "running_highlight": "#FF0000",
    "selected_highlight": "#FFD700",
    "sidebar_border": "#EEEEEE",
    "wrapper_background": "#FFFFFF"
   },
   "moveMenuLeft": true,
   "nav_menu": {
    "height": "30px",
    "width": "252px"
   },
   "navigate_menu": true,
   "number_sections": true,
   "sideBar": true,
   "threshold": 4,
   "toc_cell": false,
   "toc_section_display": "block",
   "toc_window_display": false,
   "widenNotebook": false
  }
 },
 "nbformat": 4,
 "nbformat_minor": 2
}
