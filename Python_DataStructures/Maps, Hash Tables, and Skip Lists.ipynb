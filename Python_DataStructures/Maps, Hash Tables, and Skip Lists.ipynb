{
 "cells": [
  {
   "cell_type": "markdown",
   "metadata": {},
   "source": [
    "# MAP ADT\n",
    "\n",
    "**Overall Structures**\n",
    "$$\n",
    "\\text{MutableMapping (collections module)}\\\\\n",
    "\\overbrace{\\text{MapBase}}^{\\Uparrow}\\\\\n",
    "\\overbrace{\n",
    "\\text{UnsortedListMap}\\quad \n",
    "\\text{HashMapBase} \\quad\n",
    "\\text{SortedListMap} \\quad\n",
    "\\text{TreeMap}}^{\\Uparrow}\\\\\n",
    "\\overbrace{\\text{ChainHashMap}\\quad\\text{ProbeHashMap}}^{\\Uparrow}\n",
    "$$"
   ]
  },
  {
   "cell_type": "code",
   "execution_count": 1,
   "metadata": {
    "ExecuteTime": {
     "end_time": "2019-06-24T16:03:31.063407Z",
     "start_time": "2019-06-25T00:03:31.057374+08:00"
    }
   },
   "outputs": [],
   "source": [
    "from collections import MutableMapping\n",
    "class MapBase(MutableMapping):\n",
    "    class _Item:\n",
    "        __slots__ = '_key', '_value'\n",
    "        def __init__(self, key, value):\n",
    "            self._key = key\n",
    "            self._value = value\n",
    "        def __eq__(self, other):\n",
    "            return self._key == other._key\n",
    "        def __ne__(self, other):\n",
    "            return self._key != other._key\n",
    "        def __lt__(self, other):\n",
    "            return self._key < other._key"
   ]
  },
  {
   "cell_type": "markdown",
   "metadata": {},
   "source": [
    "## UnsortedListMap\n",
    "1. List based Implementation\n",
    "2. Worst-cases scenarios\n",
    "\n",
    "|operation|complexity|\n",
    "|:-|:-|\n",
    "|`find`|$\\mathcal{O}(n)$|\n",
    "|`insert`|$\\mathcal{O}(n)$|\n",
    "|`update`|$\\mathcal{O}(n)$|\n",
    "|`delete`|$\\mathcal{O}(n)$|"
   ]
  },
  {
   "cell_type": "code",
   "execution_count": 102,
   "metadata": {
    "ExecuteTime": {
     "end_time": "2019-06-25T07:46:00.421923Z",
     "start_time": "2019-06-25T15:46:00.412160+08:00"
    }
   },
   "outputs": [
    {
     "name": "stdout",
     "output_type": "stream",
     "text": [
      "HBO\n",
      "JaH\n"
     ]
    }
   ],
   "source": [
    "class UnsortedListMap(MapBase):\n",
    "    # five basic behaviors that we need to define\n",
    "    def __init__(self):\n",
    "        self._list = [] # use built-in list as a container\n",
    "    def __getitem__(self, key):\n",
    "        for item in self._list:\n",
    "            if key == item._key:\n",
    "                return item._value\n",
    "        raise KeyError('Key Error:{}'.format(repr(key)))\n",
    "        \n",
    "    def __setitem__(self, key, value):\n",
    "#         print(\"===\")\n",
    "#         print('About to set Key: {} Value: {}'.format(key, value))\n",
    "        for item in self._list:\n",
    "#             print('Search Key {}: Value: {}'.format(item._key, item._value))\n",
    "            if key == item._key:\n",
    "                item._value = value\n",
    "                return\n",
    "#         print(\"This is a new key-value. We append it to list.\")\n",
    "        self._list.append(self._Item(key,value))\n",
    "        \n",
    "    def __delitem__(self, key):\n",
    "        for index in range(len(self._list)):\n",
    "            if key == self._list[index]._key:\n",
    "                temp = self._list.pop(index)\n",
    "                return temp\n",
    "        raise KeyError('Key Error:{}'.format(repr(key)))\n",
    "    \n",
    "    def __len__(self):\n",
    "        return len(self._list)\n",
    "    \n",
    "    def __iter__(self):\n",
    "        for item in self._list:\n",
    "            yield item._key\n",
    "if __name__ == '__main__':\n",
    "    # working exmaple\n",
    "    Movies = UnsortedListMap()\n",
    "    Cherbobly = UnsortedListMap()\n",
    "    UDI = UnsortedListMap()\n",
    "    Movies['chernobly'] = Cherbobly\n",
    "    Movies['udi'] = UDI\n",
    "    Cherbobly['Episods'] = 5\n",
    "    Cherbobly['Producer'] = 'HBO'\n",
    "    UDI['Episods'] = 10\n",
    "    UDI['Producer'] = 'JaH'\n",
    "    for movie_key in Movies:\n",
    "        print(Movies[movie_key]['Producer'])"
   ]
  },
  {
   "cell_type": "markdown",
   "metadata": {},
   "source": [
    "## Hash Table"
   ]
  },
  {
   "cell_type": "markdown",
   "metadata": {},
   "source": [
    "### Hash-then-compression\n",
    "\n",
    "step 1. Hash function: `hash([immutable object])`\n",
    "\n",
    "step 2. Compression function: $[a\\times integer + b \\text{ mod }p] \\text{ mod } N$, where $N$ is the size of a key-holding-list, $p$ is a prime number that is greater than $N$, and $a \\in (0, N-1], b \\in [0, N-1]$. This scheme is called MAD compression.\n",
    "\n",
    "The reason using the particular choice of a compression function is to avoid 'cyclic' pattern."
   ]
  },
  {
   "cell_type": "markdown",
   "metadata": {},
   "source": [
    "### Collision-handling Scheme\n",
    "\n",
    "1. separate chain: the `index list` is implemented as a built-in lust while each `bucket` is implemented as `UnsortedListMap`.\n",
    "<img src=\"./figs/seperateChain.png\" width=\"200\" heigh='80'/>\n",
    "    * Suppose we have a key-holding-list of size $N$, and we want to index $n$ items. Then the expected length of a `UnsortedListMap` is $[\\frac{n}{N}]$, which is as a result of a really good hash function. Define $\\lambda= [\\frac{n}{N}]$. Then as long as $\\lambda$ is $\\mathcal{O}(1)$. Then the complexity for `find`, `insert`, `delete`, `update` all take $\\mathcal{O}(1)$ time.\n",
    "\n",
    "2. linear probing: no additional data structure required.\n",
    "<img src=\"./figs/linearProbe.png\" width=\"400\" heigh='300'/>\n",
    "    * If we try to insert an item (key, value) into a list `L[j]` that is already occupied, where `j = hash(key)`, then we next try `L[(j+1) mod N]`. If `L[(j+1) mod N]` is also occupied, then we try `L[( j + 2) mod N ]`, and so on, until we find an empty bucket that can accept the new item. Once this bucket is located, we simply insert the item there.\n",
    "    * Easy to form clusters, which is bad.\n",
    "    * Deletion should be taken care of as you can not simply remove it. You need some place holder.\n",
    "    \n",
    "3. Double hashing: use secondary function to generate indices if collision happens.\n",
    "\n",
    "\n",
    "\n",
    "\n",
    "|operation|complexity||\n",
    "|:-|:-|:-|\n",
    "||Expected|Worst Case|\n",
    "|`find`|$\\mathcal{O}(1)$|$\\mathcal{O}(n)$|\n",
    "|`insert`|$\\mathcal{O}(1)$|$\\mathcal{O}(n)$|\n",
    "|`update`|$\\mathcal{O}(1)$|$\\mathcal{O}(n)$|\n",
    "|`delete`|$\\mathcal{O}(1)$|$\\mathcal{O}(n)$|"
   ]
  },
  {
   "cell_type": "code",
   "execution_count": 142,
   "metadata": {
    "ExecuteTime": {
     "end_time": "2019-06-25T08:55:32.042682Z",
     "start_time": "2019-06-25T16:55:32.033960+08:00"
    }
   },
   "outputs": [],
   "source": [
    "import random as rnd\n",
    "class HashMapBase(MapBase):\n",
    "    \"\"\"\n",
    "    Abstract Hash Base Class using MAD compression.\n",
    "    \"\"\"\n",
    "    def __init__(self, capacity, prime=109345121):\n",
    "        self._list = [None] * capacity\n",
    "        self._size = 0\n",
    "        self._prime = prime\n",
    "        self._a = 1 + rnd.randrange(prime-1)\n",
    "        self._b = rnd.randrange(prime-1)\n",
    "    \n",
    "    def __len__(self):\n",
    "        return self._size\n",
    "    \n",
    "    def _hash_compression(self, key):\n",
    "        return ((self._a * hash(key) + self._b) % self._prime ) % len(self._list)\n",
    "    \n",
    "    def __getitem__(self, key):\n",
    "        idx = self._hash_compression(key)\n",
    "        return self._getitem(idx, key) # depends on concrete implementation\n",
    "    \n",
    "    def __setitem__(self, key, value):\n",
    "        idx = self._hash_compression(key)\n",
    "        self._setitem(idx, key, value)\n",
    "        if self._size > len(self._list) // 2: # keep load factor <= 0.5\n",
    "            self._resize(2 * len(self._table) - 1)\n",
    "    \n",
    "    def __delitem__(self, key):\n",
    "        idx = self._hash_compression(key)\n",
    "        self._size -= 1\n",
    "        self._delitem(idx, key) # depends on concrete implementation\n",
    "    \n",
    "    def _resize(self, capacity):\n",
    "        old = self.items() # return key-valuer pairs; items method inheret from MutableMapping\n",
    "        self_list = capacity * [None]\n",
    "        self._size = 0\n",
    "        for (key, value) in old:\n",
    "            self[key] = value"
   ]
  },
  {
   "cell_type": "code",
   "execution_count": 143,
   "metadata": {
    "ExecuteTime": {
     "end_time": "2019-06-25T08:55:32.657318Z",
     "start_time": "2019-06-25T16:55:32.646890+08:00"
    }
   },
   "outputs": [
    {
     "name": "stdout",
     "output_type": "stream",
     "text": [
      "Bucket index: 18\n",
      "Bucket index: 18\n",
      "Bucket index: 18\n",
      "2\n",
      "int\n",
      "int\n",
      "1\n"
     ]
    }
   ],
   "source": [
    "class ChainHashMap(HashMapBase):\n",
    "    '''\n",
    "    Concrete implementation of the HashMapBase using separate-chain collision scheme.\n",
    "    '''\n",
    "    def _getitem(self, idx, key):\n",
    "        bucket = self._list[idx] # slot should be an UnsortedListMap; this operation is O(1)\n",
    "        if bucket is None:\n",
    "            raise KeyError('Key Error' +  repr(key))\n",
    "        return bucket[key] # this operation is O(1) while worst case is O(n)\n",
    "    \n",
    "    def _setitem(self, idx, key, value):\n",
    "        print(\"Bucket index: {}\".format(idx))\n",
    "        if self._list[idx] is None:\n",
    "            self._list[idx] = UnsortedListMap()\n",
    "        bucket_size = len(self._list[idx])\n",
    "        self._list[idx][key] = value # set item; this operation is O(1) while worst case is O(n)\n",
    "        if len(self._list[idx]) > bucket_size:\n",
    "            self._size += 1\n",
    "    \n",
    "    def _delitem(self, idx, key):\n",
    "        bucket = self._list[idx] # slot should be an UnsortedListMap; this operation is O(1)\n",
    "        if bucket is None:\n",
    "            raise KeyError('Key Error' +  repr(key))\n",
    "        else:\n",
    "            del bucket[key]\n",
    "    def __iter__(self):\n",
    "        for bucket in self._list:\n",
    "            if bucket is not None:\n",
    "                for key in bucket:\n",
    "                    yield key\n",
    "\n",
    "if __name__ == \"__main__\":\n",
    "    IntFloat = ChainHashMap(20)\n",
    "    IntFloat[5.0] = 'float'\n",
    "    IntFloat[5] = 'int'\n",
    "    IntFloat[6] = 'int'\n",
    "    print(len(IntFloat)) # since key 5 == key 5.0, then value float is overwritten by int.\n",
    "    print(IntFloat[5.0])\n",
    "    print(IntFloat[5])\n",
    "    del IntFloat[5]\n",
    "    print(len(IntFloat))"
   ]
  },
  {
   "cell_type": "code",
   "execution_count": 162,
   "metadata": {
    "ExecuteTime": {
     "end_time": "2019-06-25T09:05:41.717914Z",
     "start_time": "2019-06-25T17:05:41.706297+08:00"
    }
   },
   "outputs": [],
   "source": [
    "class ProbeHashMap(HashMapBase):\n",
    "    _AVLOBJ = object() # use as place holder for slot where the item is removed\n",
    "    \n",
    "    def _is_availabe(self, idx):\n",
    "        condition1 = self._list[idx] is None\n",
    "        condition2 = self._list[idx] is self._AVLOBJ\n",
    "        return condition1 or condition2\n",
    "    \n",
    "    def _find_slot(self, idx, key):\n",
    "        first_available_position = None\n",
    "        print(\"checking Key:[{}] at Position:[{}]\".format(key, idx))\n",
    "        while True:\n",
    "            if self._is_availabe(idx):\n",
    "                print(\"Position:[{}] is avaialable.\".format(idx))\n",
    "                if first_available_position is None:\n",
    "                    first_available_position = idx\n",
    "                    print(\"First avaiable position is [{}]\".format(idx))\n",
    "                print(self._list[idx])\n",
    "                if self._list[idx] is None:\n",
    "                    # key is new thus not found at the idx position\n",
    "                    print(\"Key: [{}] is new.\".format(key))\n",
    "                    return (False, first_available_position) \n",
    "            elif key == self._list[idx]._key:\n",
    "                print(\"Key: [{}] has been found at Position [{}]\".format(key, idx))\n",
    "                return (True, idx) # the key is already exist in the position idx\n",
    "            idx = (idx+1) % len(self._list) # look for the next position\n",
    "            print(\"keep searching\")\n",
    "            \n",
    "    def _getitem(self, idx, key):\n",
    "        found, position = self._find_slot(idx, key)\n",
    "        if not found:\n",
    "            raise KeyError('Key Error: ' + repr(key))\n",
    "        return self._list[position]._value\n",
    "    \n",
    "    def _setitem(self,idx, key, value):\n",
    "        found, position = self._find_slot(idx, key)\n",
    "        if not found:\n",
    "            self._list[position] = self._Item(key, value)\n",
    "            self._size += 1\n",
    "        else:\n",
    "            self._list[position]._value = value\n",
    "        print(\"Position: [{}] is inserted Key: [{}] Value: [{}]\".format(position, key, value))\n",
    "    \n",
    "    def _delitem(self, idx, key):\n",
    "        print(\"Try to delete Key: [{}]\".format(key))\n",
    "        found, position = self._find_slot(idx, key)\n",
    "        if not found:\n",
    "            raise KeyError('Key Error: ' + repr(key))\n",
    "        else:\n",
    "            print(\"Position at [{}] is set to placeholder\".format(position))\n",
    "            self._list[position] = self._AVLOBJ\n",
    "            self._size -= 1\n",
    "        \n",
    "    def __iter__(self):\n",
    "        for idx in range(len(self._list)):\n",
    "            if not self._is_availabe(idx):\n",
    "                yield self._list[idx]._key"
   ]
  },
  {
   "cell_type": "code",
   "execution_count": 163,
   "metadata": {
    "ExecuteTime": {
     "end_time": "2019-06-25T09:05:41.895682Z",
     "start_time": "2019-06-25T17:05:41.884040+08:00"
    }
   },
   "outputs": [
    {
     "name": "stdout",
     "output_type": "stream",
     "text": [
      "checking Key:[5] at Position:[6]\n",
      "Position:[6] is avaialable.\n",
      "First avaiable position is [6]\n",
      "None\n",
      "Key: [5] is new.\n",
      "Position: [6] is inserted Key: [5] Value: [this is 5]\n",
      "===\n",
      "Try to delete Key: [5]\n",
      "checking Key:[5] at Position:[6]\n",
      "Key: [5] has been found at Position [6]\n",
      "Position at [6] is set to placeholder\n",
      "===\n",
      "checking Key:[5] at Position:[6]\n",
      "Position:[6] is avaialable.\n",
      "First avaiable position is [6]\n",
      "<object object at 0x10332cde0>\n",
      "keep searching\n",
      "Position:[7] is avaialable.\n",
      "None\n",
      "Key: [5] is new.\n",
      "Position: [6] is inserted Key: [5] Value: [this is 5 again]\n"
     ]
    }
   ],
   "source": [
    "test = ProbeHashMap(capacity=10)\n",
    "test[5] = 'this is 5'\n",
    "print(\"===\")\n",
    "del test[5]\n",
    "print(\"===\")\n",
    "test[5] = 'this is 5 again'"
   ]
  },
  {
   "cell_type": "markdown",
   "metadata": {},
   "source": [
    "## SortedMap\n",
    "\n",
    "This kind of data structure is useful for range-based search. So in additional to all features provided in the `UnsortedListMap`, we will have following features\n",
    "\n",
    "* find_min, find_max: find the key-value pair with minimal/maximal key.\n",
    "* find_lt, find_le, find_gt, find_ge: find the key-value pair with key less than/ less or equal to/ greater than / greater or equal to the give key.\n",
    "* find_range: iterate all (key,value) pairs with st`art <= key < stop`. If start is None, iteration begins with minimum key; if stop is None, iteration concludes with maximum key.\n",
    "* reversed: iterate all keys of the map in reverse order; in Python"
   ]
  },
  {
   "cell_type": "markdown",
   "metadata": {},
   "source": [
    "# LeetCode\n",
    "\n",
    "## TwoSum\n",
    "Given an array of integers, return indices of the two numbers such that they add up to a specific target.\n",
    "\n",
    "You may assume that each input would have exactly one solution, and you may not use the same element twice.\n",
    "\n",
    "Example:\n",
    "```\n",
    "Given nums = [2, 7, 11, 15], target = 9,\n",
    "\n",
    "Because nums[0] + nums[1] = 2 + 7 = 9,\n",
    "return [0, 1].\n",
    "```"
   ]
  },
  {
   "cell_type": "code",
   "execution_count": 94,
   "metadata": {
    "ExecuteTime": {
     "end_time": "2019-06-25T03:03:37.046596Z",
     "start_time": "2019-06-25T11:03:37.040460+08:00"
    }
   },
   "outputs": [
    {
     "name": "stdout",
     "output_type": "stream",
     "text": [
      "[0, 1]\n",
      "None\n"
     ]
    }
   ],
   "source": [
    "class Solution:\n",
    "    def twosum(self, nums, target):\n",
    "        mydict = {} # use python built-in hash table\n",
    "        for idx in range(len(nums)):\n",
    "            leftover = target - nums[idx]\n",
    "            if leftover in mydict.keys():\n",
    "                return [mydict[leftover], idx]\n",
    "            else:\n",
    "                mydict[nums[idx]] = idx\n",
    "if __name__ == \"__main__\":\n",
    "    nums = [2, 7, 11, 15]\n",
    "    mine = Solution()\n",
    "    print(mine.twosum(nums, target=9))\n",
    "    print(mine.twosum(nums, target=14))\n",
    "    \n",
    "            "
   ]
  },
  {
   "cell_type": "markdown",
   "metadata": {},
   "source": [
    "## Longest sub-String without  repeating\n",
    "\n",
    "Given a string, find the length of the longest substring without repeating characters.\n",
    "\n",
    "```\n",
    "Example 1:\n",
    "\n",
    "Input: \"abcabcbb\"\n",
    "Output: 3 \n",
    "Explanation: The answer is \"abc\", with the length of 3. \n",
    "Example 2:\n",
    "\n",
    "Input: \"bbbbb\"\n",
    "Output: 1\n",
    "Explanation: The answer is \"b\", with the length of 1.\n",
    "Example 3:\n",
    "\n",
    "Input: \"pwwkew\"\n",
    "Output: 3\n",
    "Explanation: The answer is \"wke\", with the length of 3. \n",
    "             Note that the answer must be a substring, \"pwke\" is a subsequence and not a substring.\n",
    "```"
   ]
  },
  {
   "cell_type": "code",
   "execution_count": 202,
   "metadata": {
    "ExecuteTime": {
     "end_time": "2019-06-25T11:26:42.195152Z",
     "start_time": "2019-06-25T19:26:42.175386+08:00"
    }
   },
   "outputs": [
    {
     "name": "stdout",
     "output_type": "stream",
     "text": [
      "3\n",
      "3\n",
      "1\n",
      "0\n",
      "1\n",
      "3\n"
     ]
    }
   ],
   "source": [
    "class Solution:\n",
    "    def lengthOfLongestSubstring(self, s):\n",
    "        used = {}\n",
    "        max_length = start = 0\n",
    "        for i, c in enumerate(s):\n",
    "            if c in used and start <= used[c]:\n",
    "                start = used[c] + 1 # skip the duplicate string c betwwen [start, c]\n",
    "            else:\n",
    "                max_length = max(max_length, i - start + 1)\n",
    "            used[c] = i\n",
    "        return max_length\n",
    "            \n",
    "if __name__ == \"__main__\":\n",
    "    mine = Solution()\n",
    "    print(mine.lengthOfLongestSubstring(\"pwwkew\"))\n",
    "    print(mine.lengthOfLongestSubstring(\"abcabcbb\"))\n",
    "    print(mine.lengthOfLongestSubstring(\"bbbb\"))\n",
    "    print(mine.lengthOfLongestSubstring(\"\"))\n",
    "    print(mine.lengthOfLongestSubstring(' '))\n",
    "    print(mine.lengthOfLongestSubstring('dvdf'))\n",
    "    "
   ]
  },
  {
   "cell_type": "code",
   "execution_count": 196,
   "metadata": {
    "ExecuteTime": {
     "end_time": "2019-06-25T10:49:07.028107Z",
     "start_time": "2019-06-25T18:49:07.022914+08:00"
    }
   },
   "outputs": [
    {
     "data": {
      "text/plain": [
       "False"
      ]
     },
     "execution_count": 196,
     "metadata": {},
     "output_type": "execute_result"
    }
   ],
   "source": [
    "mydict = {}\n",
    "' ' in mydict.keys()"
   ]
  },
  {
   "cell_type": "code",
   "execution_count": 183,
   "metadata": {
    "ExecuteTime": {
     "end_time": "2019-06-25T10:44:32.729106Z",
     "start_time": "2019-06-25T18:44:32.724964+08:00"
    }
   },
   "outputs": [],
   "source": [
    "longest_new =''\n",
    "mydict = {}\n",
    "for char in ' ':\n",
    "    if char not in mydict.keys():\n",
    "        mydict[char] = 0\n",
    "        longest_new+=char"
   ]
  },
  {
   "cell_type": "code",
   "execution_count": 185,
   "metadata": {
    "ExecuteTime": {
     "end_time": "2019-06-25T10:44:42.390721Z",
     "start_time": "2019-06-25T18:44:42.385774+08:00"
    }
   },
   "outputs": [
    {
     "data": {
      "text/plain": [
       "1"
      ]
     },
     "execution_count": 185,
     "metadata": {},
     "output_type": "execute_result"
    }
   ],
   "source": [
    "len(longest_new)"
   ]
  }
 ],
 "metadata": {
  "kernelspec": {
   "display_name": "Python 3",
   "language": "python",
   "name": "python3"
  },
  "language_info": {
   "codemirror_mode": {
    "name": "ipython",
    "version": 3
   },
   "file_extension": ".py",
   "mimetype": "text/x-python",
   "name": "python",
   "nbconvert_exporter": "python",
   "pygments_lexer": "ipython3",
   "version": "3.6.8"
  },
  "toc": {
   "colors": {
    "hover_highlight": "#DAA520",
    "navigate_num": "#000000",
    "navigate_text": "#333333",
    "running_highlight": "#FF0000",
    "selected_highlight": "#FFD700",
    "sidebar_border": "#EEEEEE",
    "wrapper_background": "#FFFFFF"
   },
   "moveMenuLeft": true,
   "nav_menu": {
    "height": "48px",
    "width": "252px"
   },
   "navigate_menu": true,
   "number_sections": true,
   "sideBar": true,
   "threshold": 4,
   "toc_cell": false,
   "toc_section_display": "block",
   "toc_window_display": true,
   "widenNotebook": false
  }
 },
 "nbformat": 4,
 "nbformat_minor": 2
}
